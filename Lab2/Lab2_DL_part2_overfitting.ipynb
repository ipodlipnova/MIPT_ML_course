{
 "cells": [
  {
   "cell_type": "markdown",
   "metadata": {
    "id": "NFmOh482SyEF"
   },
   "source": [
    "## Lab 2\n",
    "### Part 2: Dealing with overfitting"
   ]
  },
  {
   "cell_type": "markdown",
   "metadata": {
    "id": "AjzAuO3oSvsI"
   },
   "source": [
    "Today we work with [Fashion-MNIST dataset](https://github.com/zalandoresearch/fashion-mnist) (*hint: it is available in `torchvision`*).\n",
    "\n",
    "Your goal for today:\n",
    "1. Train a FC (fully-connected) network that achieves >= 0.885 test accuracy.\n",
    "2. Cause considerable overfitting by modifying the network (e.g. increasing the number of network parameters and/or layers) and demonstrate in in the appropriate way (e.g. plot loss and accurasy on train and validation set w.r.t. network complexity).\n",
    "3. Try to deal with overfitting (at least partially) by using regularization techniques (Dropout/Batchnorm/...) and demonstrate the results.\n",
    "\n",
    "__Please, write a small report describing your ideas, tries and achieved results in the end of this file.__\n",
    "\n",
    "*Note*: Tasks 2 and 3 are interrelated, in task 3 your goal is to make the network from task 2 less prone to overfitting. Task 1 is independent from 2 and 3.\n",
    "\n",
    "*Note 2*: We recomment to use Google Colab or other machine with GPU acceleration."
   ]
  },
  {
   "cell_type": "code",
   "execution_count": 1,
   "metadata": {
    "id": "_KBld6VOSwhW"
   },
   "outputs": [],
   "source": [
    "import torch\n",
    "import torch.nn as nn\n",
    "import torch.optim as optim \n",
    "import torchvision\n",
    "import torchvision.transforms as transforms\n",
    "import torchsummary\n",
    "from IPython.display import clear_output\n",
    "from matplotlib import pyplot as plt\n",
    "from matplotlib.pyplot import figure\n",
    "import numpy as np\n",
    "import os\n",
    "\n",
    "\n",
    "device = 'cuda:0' if torch.cuda.is_available() else 'cpu'"
   ]
  },
  {
   "cell_type": "code",
   "execution_count": 2,
   "metadata": {
    "colab": {
     "base_uri": "https://localhost:8080/"
    },
    "id": "EdLOG0XqS_g5",
    "outputId": "aa44fd6c-c661-4180-fa80-6ab7e3f51797"
   },
   "outputs": [
    {
     "output_type": "stream",
     "name": "stdout",
     "text": [
      "Directory fmnist is created!\n"
     ]
    }
   ],
   "source": [
    "# Technical function\n",
    "def mkdir(path):\n",
    "    if not os.path.exists(root_path):\n",
    "        os.mkdir(root_path)\n",
    "        print('Directory', path, 'is created!')\n",
    "    else:\n",
    "        print('Directory', path, 'already exists!')\n",
    "        \n",
    "root_path = 'fmnist'\n",
    "mkdir(root_path)"
   ]
  },
  {
   "cell_type": "code",
   "execution_count": 3,
   "metadata": {
    "colab": {
     "base_uri": "https://localhost:8080/",
     "height": 428,
     "referenced_widgets": [
      "c26346a1f2884df1bad6f39fd27e0e40",
      "7ab631c0bbb947f9bcdd6628f065284f",
      "b7c15fdf357d49a99fdad7c4b3b4202a",
      "0dec5406c114413fb7b5d83911b06d20",
      "662881754ac64f0081604b3c96c3aff7",
      "4964c7594d4a464cb1386583a5205367",
      "a9271b8595674493b583622a3e2c6546",
      "d237563f752a4348b26d55a8f743bb10",
      "98b8e43532a64ad9b0ba078041e0d786",
      "0b7ce9c0306c445d88b746765b344f2a",
      "fda0c51dfd2b4bd3be8e599f3265a2c4",
      "a2b0e7ec61d640a28b3286eecc2cba7e",
      "790aca8dd9be4d23954cd04e46dbeca6",
      "84efc66e162a49ffbe1962895f5d445b",
      "45b0c66c3e31411eba93e2521f8aa205",
      "fac8ead5d4b54100ae13275231da5340",
      "5f5e3be515014a3e884777e551044cdd",
      "c990e18dd3be4edc9b8e33a90a3c1e3d",
      "d9bf55787f554f988fb925b90326bffa",
      "3ea9a13ff287412d816669fa1b05d840",
      "32b3b7d07de148cb8080fb78c716d9b2",
      "d1f55bb645414d7a845c1b8b352671d3",
      "e4e19e49d1b24657ae683f2942e7fed6",
      "3fcffb7cdc7942ea85b09c3d04d4d12d",
      "f55af2f17bd24d6d9ff4cc50476146d2",
      "c14437bf2a9c427496c067f3c6ca1003",
      "2fd32aacdad14e0baf4fea69cd6e5fe0",
      "9a899a66247f442baa8ce82ed65e9a7e",
      "d8ea51434166413a8138deaa52992c11",
      "aaacabbf0abc4ff7b60ab3e4003fb76d",
      "bb239fa656354e2fa86058d99976e0f1",
      "4757ca4f30de4ffe93a670fe059cdfa4",
      "ce72642e0ade41a7928a61b53ff300db",
      "0569c7f308724a6e903a601d3814202e",
      "d984760aa8ab4ddeb5b8833dec265739",
      "bc81461db96446b2aaff9ddc316f8b66",
      "cbeb5d0a1d9143e991094327a598f906",
      "023a6d6f813e4f7ea01778bb849688db",
      "29dfc2d9d53742118e0ad7b74ce6ef6c",
      "cd74e5e787ce4a62a00fabc122c7743a",
      "6c5e4af1a9684977b6eb6e2a12f7f661",
      "5a164f0d7127483eaea57670b0e6ade3",
      "cb80a7f4cbfc41d0b2a005fb06297c8e",
      "9e30d8b558eb4fa49d20a0fe17662c9b"
     ]
    },
    "id": "qt6LE7XaTDT9",
    "outputId": "60be068e-1b81-40df-a4bd-c1bf66350921"
   },
   "outputs": [
    {
     "output_type": "stream",
     "name": "stdout",
     "text": [
      "Downloading http://fashion-mnist.s3-website.eu-central-1.amazonaws.com/train-images-idx3-ubyte.gz\n",
      "Downloading http://fashion-mnist.s3-website.eu-central-1.amazonaws.com/train-images-idx3-ubyte.gz to fmnist/FashionMNIST/raw/train-images-idx3-ubyte.gz\n"
     ]
    },
    {
     "output_type": "display_data",
     "data": {
      "text/plain": [
       "  0%|          | 0/26421880 [00:00<?, ?it/s]"
      ],
      "application/vnd.jupyter.widget-view+json": {
       "version_major": 2,
       "version_minor": 0,
       "model_id": "c26346a1f2884df1bad6f39fd27e0e40"
      }
     },
     "metadata": {}
    },
    {
     "output_type": "stream",
     "name": "stdout",
     "text": [
      "Extracting fmnist/FashionMNIST/raw/train-images-idx3-ubyte.gz to fmnist/FashionMNIST/raw\n",
      "\n",
      "Downloading http://fashion-mnist.s3-website.eu-central-1.amazonaws.com/train-labels-idx1-ubyte.gz\n",
      "Downloading http://fashion-mnist.s3-website.eu-central-1.amazonaws.com/train-labels-idx1-ubyte.gz to fmnist/FashionMNIST/raw/train-labels-idx1-ubyte.gz\n"
     ]
    },
    {
     "output_type": "display_data",
     "data": {
      "text/plain": [
       "  0%|          | 0/29515 [00:00<?, ?it/s]"
      ],
      "application/vnd.jupyter.widget-view+json": {
       "version_major": 2,
       "version_minor": 0,
       "model_id": "a2b0e7ec61d640a28b3286eecc2cba7e"
      }
     },
     "metadata": {}
    },
    {
     "output_type": "stream",
     "name": "stdout",
     "text": [
      "Extracting fmnist/FashionMNIST/raw/train-labels-idx1-ubyte.gz to fmnist/FashionMNIST/raw\n",
      "\n",
      "Downloading http://fashion-mnist.s3-website.eu-central-1.amazonaws.com/t10k-images-idx3-ubyte.gz\n",
      "Downloading http://fashion-mnist.s3-website.eu-central-1.amazonaws.com/t10k-images-idx3-ubyte.gz to fmnist/FashionMNIST/raw/t10k-images-idx3-ubyte.gz\n"
     ]
    },
    {
     "output_type": "display_data",
     "data": {
      "text/plain": [
       "  0%|          | 0/4422102 [00:00<?, ?it/s]"
      ],
      "application/vnd.jupyter.widget-view+json": {
       "version_major": 2,
       "version_minor": 0,
       "model_id": "e4e19e49d1b24657ae683f2942e7fed6"
      }
     },
     "metadata": {}
    },
    {
     "output_type": "stream",
     "name": "stdout",
     "text": [
      "Extracting fmnist/FashionMNIST/raw/t10k-images-idx3-ubyte.gz to fmnist/FashionMNIST/raw\n",
      "\n",
      "Downloading http://fashion-mnist.s3-website.eu-central-1.amazonaws.com/t10k-labels-idx1-ubyte.gz\n",
      "Downloading http://fashion-mnist.s3-website.eu-central-1.amazonaws.com/t10k-labels-idx1-ubyte.gz to fmnist/FashionMNIST/raw/t10k-labels-idx1-ubyte.gz\n"
     ]
    },
    {
     "output_type": "display_data",
     "data": {
      "text/plain": [
       "  0%|          | 0/5148 [00:00<?, ?it/s]"
      ],
      "application/vnd.jupyter.widget-view+json": {
       "version_major": 2,
       "version_minor": 0,
       "model_id": "0569c7f308724a6e903a601d3814202e"
      }
     },
     "metadata": {}
    },
    {
     "output_type": "stream",
     "name": "stdout",
     "text": [
      "Extracting fmnist/FashionMNIST/raw/t10k-labels-idx1-ubyte.gz to fmnist/FashionMNIST/raw\n",
      "\n"
     ]
    }
   ],
   "source": [
    "download = True\n",
    "train_transform = transforms.ToTensor()\n",
    "test_transform = transforms.ToTensor()\n",
    "transforms.Compose((transforms.ToTensor()))\n",
    "\n",
    "\n",
    "fmnist_dataset_train = torchvision.datasets.FashionMNIST(root_path, \n",
    "                                                        train=True, \n",
    "                                                        transform=train_transform,\n",
    "                                                        target_transform=None,\n",
    "                                                        download=download)\n",
    "fmnist_dataset_test = torchvision.datasets.FashionMNIST(root_path, \n",
    "                                                       train=False, \n",
    "                                                       transform=test_transform,\n",
    "                                                       target_transform=None,\n",
    "                                                       download=download)"
   ]
  },
  {
   "cell_type": "code",
   "execution_count": 4,
   "metadata": {
    "id": "71YP0SPwTIxD"
   },
   "outputs": [],
   "source": [
    "train_loader = torch.utils.data.DataLoader(fmnist_dataset_train, \n",
    "                                           batch_size=128,\n",
    "                                           shuffle=True,\n",
    "                                           num_workers=2)\n",
    "test_loader = torch.utils.data.DataLoader(fmnist_dataset_test,\n",
    "                                          batch_size=256,\n",
    "                                          shuffle=False,\n",
    "                                          num_workers=2)"
   ]
  },
  {
   "cell_type": "code",
   "execution_count": 5,
   "metadata": {
    "colab": {
     "base_uri": "https://localhost:8080/"
    },
    "id": "v_YFmF7NTWrQ",
    "outputId": "4b96d7fb-af53-422d-de89-3d3a58b46d24"
   },
   "outputs": [
    {
     "output_type": "execute_result",
     "data": {
      "text/plain": [
       "10000"
      ]
     },
     "metadata": {},
     "execution_count": 5
    }
   ],
   "source": [
    "len(fmnist_dataset_test)"
   ]
  },
  {
   "cell_type": "code",
   "execution_count": 6,
   "metadata": {
    "colab": {
     "base_uri": "https://localhost:8080/"
    },
    "id": "aHca15bOTY4B",
    "outputId": "c6e2e9c3-4a69-4a8f-e19b-828e0c9b67e8"
   },
   "outputs": [
    {
     "output_type": "stream",
     "name": "stdout",
     "text": [
      "torch.Size([128, 1, 28, 28])\n",
      "torch.Size([128])\n",
      "128\n"
     ]
    }
   ],
   "source": [
    "for img, label in train_loader:\n",
    "    print(img.shape)\n",
    "#     print(img)\n",
    "    print(label.shape)\n",
    "    print(label.size(0))\n",
    "    break"
   ]
  },
  {
   "cell_type": "markdown",
   "metadata": {
    "id": "b6OOOffHTfX5"
   },
   "source": [
    "### Task 1\n",
    "Train a network that achieves $\\geq 0.885$ test accuracy. It's fine to use only Linear (`nn.Linear`) layers and activations/dropout/batchnorm. Convolutional layers might be a great use, but we will meet them a bit later."
   ]
  },
  {
   "cell_type": "code",
   "execution_count": 7,
   "metadata": {
    "id": "ftpkTjxlTcFx"
   },
   "outputs": [],
   "source": [
    "from torch.nn.modules.activation import LogSoftmax\n",
    "class TinyNeuralNetwork(nn.Module):\n",
    "    def __init__(self, input_shape=28*28, num_classes=10, input_channels=1):\n",
    "        super(self.__class__, self).__init__()\n",
    "        self.model = nn.Sequential(\n",
    "            nn.Flatten(), # This layer converts image into a vector to use Linear layers afterwards\n",
    "            # Your network structure comes here\n",
    "            nn.Linear(input_shape, 512),\n",
    "            nn.Dropout(0.2),\n",
    "            nn.Linear(512, 256),\n",
    "            nn.ReLU(),\n",
    "            nn.BatchNorm1d(256),\n",
    "            nn.Dropout(0.2),\n",
    "            nn.Linear(256, 128),\n",
    "            nn.Dropout(0.2),\n",
    "            nn.ReLU(),\n",
    "            nn.Linear(128, 64),\n",
    "            nn.Dropout(0.2),\n",
    "            nn.Linear(64, num_classes),\n",
    "            nn.LogSoftmax(dim=1)\n",
    "        )\n",
    "        \n",
    "    def forward(self, inp):       \n",
    "        out = self.model(inp)\n",
    "        return out"
   ]
  },
  {
   "cell_type": "code",
   "execution_count": 8,
   "metadata": {
    "colab": {
     "base_uri": "https://localhost:8080/"
    },
    "id": "rLQ_47rpIu-J",
    "outputId": "38137474-4250-40c3-b7f6-e787e35feef1"
   },
   "outputs": [
    {
     "output_type": "stream",
     "name": "stdout",
     "text": [
      "----------------------------------------------------------------\n",
      "        Layer (type)               Output Shape         Param #\n",
      "================================================================\n",
      "           Flatten-1                  [-1, 784]               0\n",
      "            Linear-2                  [-1, 512]         401,920\n",
      "           Dropout-3                  [-1, 512]               0\n",
      "            Linear-4                  [-1, 256]         131,328\n",
      "              ReLU-5                  [-1, 256]               0\n",
      "       BatchNorm1d-6                  [-1, 256]             512\n",
      "           Dropout-7                  [-1, 256]               0\n",
      "            Linear-8                  [-1, 128]          32,896\n",
      "           Dropout-9                  [-1, 128]               0\n",
      "             ReLU-10                  [-1, 128]               0\n",
      "           Linear-11                   [-1, 64]           8,256\n",
      "          Dropout-12                   [-1, 64]               0\n",
      "           Linear-13                   [-1, 10]             650\n",
      "       LogSoftmax-14                   [-1, 10]               0\n",
      "================================================================\n",
      "Total params: 575,562\n",
      "Trainable params: 575,562\n",
      "Non-trainable params: 0\n",
      "----------------------------------------------------------------\n",
      "Input size (MB): 0.00\n",
      "Forward/backward pass size (MB): 0.03\n",
      "Params size (MB): 2.20\n",
      "Estimated Total Size (MB): 2.22\n",
      "----------------------------------------------------------------\n"
     ]
    }
   ],
   "source": [
    "torchsummary.summary(TinyNeuralNetwork().to(device), (28*28,))"
   ]
  },
  {
   "cell_type": "markdown",
   "metadata": {
    "id": "544PGKEnjPr5"
   },
   "source": [
    "Your experiments come here:"
   ]
  },
  {
   "cell_type": "code",
   "source": [
    "model = TinyNeuralNetwork().to(device)\n",
    "opt = optim.Adam(model.parameters(), lr=3e-4)\n",
    "loss_func = nn.CrossEntropyLoss()"
   ],
   "metadata": {
    "id": "bCrCcyKg-qAV"
   },
   "execution_count": 68,
   "outputs": []
  },
  {
   "cell_type": "code",
   "execution_count": 58,
   "metadata": {
    "id": "i3POFj90Ti-6"
   },
   "outputs": [],
   "source": [
    "# Your experiments, training and validation loops here\n",
    "def train(model, trainloader, validloader, opt, loss_func):\n",
    "    valid_loss_min = np.Inf\n",
    "    epochs = 40\n",
    "\n",
    "    \n",
    "    train_losses, valid_losses = [],[]\n",
    "    for e in range(epochs):\n",
    "      train_loss = 0 \n",
    "      valid_loss = 0\n",
    "\n",
    "      model.train(True)\n",
    "      for images, labels in trainloader:\n",
    "\n",
    "        opt.zero_grad()\n",
    "        log_ps = model(images.to(device))\n",
    "        loss = loss_func(log_ps, labels.to(device))\n",
    "        loss.backward()\n",
    "        opt.step()\n",
    "        train_loss += loss.item()*images.to(device).size(0)\n",
    "      \n",
    "      model.train(False)\n",
    "      for images, labels in validloader:\n",
    "        log_ps = model(images.to(device))\n",
    "        loss = loss_func(log_ps, labels.to(device))\n",
    "        valid_loss += loss.item()*images.to(device).size(0)\n",
    "\n",
    "      train_loss = train_loss/len(trainloader.sampler)\n",
    "      valid_loss =  valid_loss/len(validloader.sampler)\n",
    "      train_losses.append(train_loss)\n",
    "      valid_losses.append(valid_loss)\n",
    "\n",
    "      print(f'Epoch: {e+1} \\tTraining Loss: {train_loss} \\tValidation Loss: {valid_loss}')\n",
    "      if valid_loss <= valid_loss_min:\n",
    "          print(f'validation loss decreased({valid_loss_min} -->{valid_loss}). Saving Model ...')\n",
    "          torch.save(model.state_dict(), 'model.pt')\n",
    "          valid_loss_min = valid_loss\n",
    "\n",
    "    return train_losses, valid_losses"
   ]
  },
  {
   "cell_type": "code",
   "source": [
    "train_losses, valid_losses = train(model, train_loader, test_loader, opt, loss_func)"
   ],
   "metadata": {
    "colab": {
     "base_uri": "https://localhost:8080/"
    },
    "id": "dQ5iz9LuLzp7",
    "outputId": "695920c3-77ce-4441-94d3-ee8e5e8f377c"
   },
   "execution_count": 69,
   "outputs": [
    {
     "output_type": "stream",
     "name": "stdout",
     "text": [
      "Epoch: 1 \tTraining Loss: 0.6114594690322877 \tValidation Loss: 0.42295369396209714\n",
      "validation loss decreased(inf -->0.42295369396209714). Saving Model ...\n",
      "Epoch: 2 \tTraining Loss: 0.424307491572698 \tValidation Loss: 0.3935461939573288\n",
      "validation loss decreased(0.42295369396209714 -->0.3935461939573288). Saving Model ...\n",
      "Epoch: 3 \tTraining Loss: 0.3898337890942891 \tValidation Loss: 0.38149892036914823\n",
      "validation loss decreased(0.3935461939573288 -->0.38149892036914823). Saving Model ...\n",
      "Epoch: 4 \tTraining Loss: 0.3692462565898895 \tValidation Loss: 0.36477113378047943\n",
      "validation loss decreased(0.38149892036914823 -->0.36477113378047943). Saving Model ...\n",
      "Epoch: 5 \tTraining Loss: 0.35335672483444214 \tValidation Loss: 0.36738752932548524\n",
      "Epoch: 6 \tTraining Loss: 0.34159773619969686 \tValidation Loss: 0.37560870044231415\n",
      "Epoch: 7 \tTraining Loss: 0.32768761785825096 \tValidation Loss: 0.3433255675435066\n",
      "validation loss decreased(0.36477113378047943 -->0.3433255675435066). Saving Model ...\n",
      "Epoch: 8 \tTraining Loss: 0.3205189830303192 \tValidation Loss: 0.33823351895809173\n",
      "validation loss decreased(0.3433255675435066 -->0.33823351895809173). Saving Model ...\n",
      "Epoch: 9 \tTraining Loss: 0.3141227676232656 \tValidation Loss: 0.34131727381944654\n",
      "Epoch: 10 \tTraining Loss: 0.30442364247639975 \tValidation Loss: 0.33063087413311004\n",
      "validation loss decreased(0.33823351895809173 -->0.33063087413311004). Saving Model ...\n",
      "Epoch: 11 \tTraining Loss: 0.30233095836639406 \tValidation Loss: 0.3222765994787216\n",
      "validation loss decreased(0.33063087413311004 -->0.3222765994787216). Saving Model ...\n",
      "Epoch: 12 \tTraining Loss: 0.2916928541262945 \tValidation Loss: 0.3635459040164947\n",
      "Epoch: 13 \tTraining Loss: 0.28741249725023904 \tValidation Loss: 0.3399531182527542\n",
      "Epoch: 14 \tTraining Loss: 0.2837282703479131 \tValidation Loss: 0.3320253505945206\n",
      "Epoch: 15 \tTraining Loss: 0.28135219003359474 \tValidation Loss: 0.32271000738143923\n",
      "Epoch: 16 \tTraining Loss: 0.27437544260025026 \tValidation Loss: 0.32402783564329146\n",
      "Epoch: 17 \tTraining Loss: 0.2688275258700053 \tValidation Loss: 0.3217396684408188\n",
      "validation loss decreased(0.3222765994787216 -->0.3217396684408188). Saving Model ...\n",
      "Epoch: 18 \tTraining Loss: 0.26553583766619365 \tValidation Loss: 0.3231267636299133\n",
      "Epoch: 19 \tTraining Loss: 0.26060913060506186 \tValidation Loss: 0.32425323369503023\n",
      "Epoch: 20 \tTraining Loss: 0.2572273555278778 \tValidation Loss: 0.3116265092372894\n",
      "validation loss decreased(0.3217396684408188 -->0.3116265092372894). Saving Model ...\n",
      "Epoch: 21 \tTraining Loss: 0.2541800870577494 \tValidation Loss: 0.3122695087909699\n",
      "Epoch: 22 \tTraining Loss: 0.25300363942782084 \tValidation Loss: 0.3175746063351631\n",
      "Epoch: 23 \tTraining Loss: 0.24853911000092824 \tValidation Loss: 0.3194645082235336\n",
      "Epoch: 24 \tTraining Loss: 0.2455491677761078 \tValidation Loss: 0.31674415276050566\n",
      "Epoch: 25 \tTraining Loss: 0.24376907965342204 \tValidation Loss: 0.3014990477323532\n",
      "validation loss decreased(0.3116265092372894 -->0.3014990477323532). Saving Model ...\n",
      "Epoch: 26 \tTraining Loss: 0.23811872036457063 \tValidation Loss: 0.31717011742591855\n",
      "Epoch: 27 \tTraining Loss: 0.23841886304219564 \tValidation Loss: 0.30973088005781174\n",
      "Epoch: 28 \tTraining Loss: 0.2348791609207789 \tValidation Loss: 0.31517993071079253\n",
      "Epoch: 29 \tTraining Loss: 0.2350049008846283 \tValidation Loss: 0.3114595969438553\n",
      "Epoch: 30 \tTraining Loss: 0.2306857540925344 \tValidation Loss: 0.3173129835486412\n",
      "Epoch: 31 \tTraining Loss: 0.2279543103059133 \tValidation Loss: 0.3204169389009476\n",
      "Epoch: 32 \tTraining Loss: 0.22289943866729736 \tValidation Loss: 0.32492954883575437\n",
      "Epoch: 33 \tTraining Loss: 0.2229133308728536 \tValidation Loss: 0.31236144541502\n",
      "Epoch: 34 \tTraining Loss: 0.21964861973126729 \tValidation Loss: 0.3056063560247421\n",
      "Epoch: 35 \tTraining Loss: 0.21723276860316595 \tValidation Loss: 0.30926158519983293\n",
      "Epoch: 36 \tTraining Loss: 0.21520160488287607 \tValidation Loss: 0.2998658456325531\n",
      "validation loss decreased(0.3014990477323532 -->0.2998658456325531). Saving Model ...\n",
      "Epoch: 37 \tTraining Loss: 0.21168002034028371 \tValidation Loss: 0.3085209316134453\n",
      "Epoch: 38 \tTraining Loss: 0.21088270582358043 \tValidation Loss: 0.30997168309688566\n",
      "Epoch: 39 \tTraining Loss: 0.20862648181915283 \tValidation Loss: 0.3082048083782196\n",
      "Epoch: 40 \tTraining Loss: 0.2071278328259786 \tValidation Loss: 0.31255006576776506\n"
     ]
    }
   ]
  },
  {
   "cell_type": "code",
   "source": [
    "plt.plot(train_losses, label='Train Loss')\n",
    "plt.plot(valid_losses, label='Valid Loss')\n",
    "\n",
    "plt.legend()"
   ],
   "metadata": {
    "colab": {
     "base_uri": "https://localhost:8080/",
     "height": 281
    },
    "id": "rOVdIN1GPBO1",
    "outputId": "50823f87-0d1e-469c-c3e2-25562d651f9a"
   },
   "execution_count": 70,
   "outputs": [
    {
     "output_type": "execute_result",
     "data": {
      "text/plain": [
       "<matplotlib.legend.Legend at 0x7f8411cacd90>"
      ]
     },
     "metadata": {},
     "execution_count": 70
    },
    {
     "output_type": "display_data",
     "data": {
      "text/plain": [
       "<Figure size 432x288 with 1 Axes>"
      ],
      "image/png": "[encoded data removed]"
     },
     "metadata": {
      "needs_background": "light"
     }
    }
   ]
  },
  {
   "cell_type": "code",
   "source": [
    "model.load_state_dict(torch.load('model.pt'))"
   ],
   "metadata": {
    "colab": {
     "base_uri": "https://localhost:8080/"
    },
    "id": "m7cnUMUlWdtV",
    "outputId": "3f78e673-d000-4eb4-961f-d01ffb967a9c"
   },
   "execution_count": 71,
   "outputs": [
    {
     "output_type": "execute_result",
     "data": {
      "text/plain": [
       "<All keys matched successfully>"
      ]
     },
     "metadata": {},
     "execution_count": 71
    }
   ]
  },
  {
   "cell_type": "code",
   "source": [
    "def eval(model, testloader, loss_func):\n",
    "    test_loss = 0\n",
    "    class_correct = list(0. for i in range(10))\n",
    "    class_total = list(0. for i in range(10))\n",
    "\n",
    "    model.eval()\n",
    "    for images, labels in testloader:\n",
    "      output = model(images.to(device))\n",
    "      loss = loss_func(output, labels.to(device))\n",
    "      test_loss += loss.item()*images.to(device).size(0)\n",
    "      _, pred = torch.max(output, 1)\n",
    "      correct = np.squeeze(pred.eq(labels.to(device).data.view_as(pred)))\n",
    "\n",
    "      for i in range(len(labels.to(device))):\n",
    "        label = labels.to(device).data[i]\n",
    "        class_correct[label] += correct[i].item()\n",
    "        class_total[label] +=1\n",
    "\n",
    "    test_loss = test_loss/len(testloader.sampler)\n",
    "    print(f'Test Loss: {test_loss}\\n')\n",
    "\n",
    "    for i in range(10):\n",
    "      print(f'Test Accuracy of {i} class: {100 * class_correct[i]/class_total[i]}% ({np.sum(class_correct[i])}/{np.sum(class_total[i])})')\n",
    "\n",
    "    print(f'\\nTest Accuracy (Overall): {100. * np.sum(class_correct) / np.sum(class_total)}% ({np.sum(class_correct)}/{np.sum(class_total)})')\n"
   ],
   "metadata": {
    "id": "xDVFTxSIM7p0"
   },
   "execution_count": 72,
   "outputs": []
  },
  {
   "cell_type": "code",
   "source": [
    "eval(model, test_loader, loss_func)"
   ],
   "metadata": {
    "colab": {
     "base_uri": "https://localhost:8080/"
    },
    "id": "Ug0KGlP3OAzp",
    "outputId": "b32d9f10-3b24-44c6-aeae-2cb70cc5bf2c"
   },
   "execution_count": 73,
   "outputs": [
    {
     "output_type": "stream",
     "name": "stdout",
     "text": [
      "Test Loss: 0.2998658456325531\n",
      "\n",
      "Test Accuracy of 0 class: 87.7% (877.0/1000.0)\n",
      "Test Accuracy of 1 class: 97.7% (977.0/1000.0)\n",
      "Test Accuracy of 2 class: 80.5% (805.0/1000.0)\n",
      "Test Accuracy of 3 class: 90.4% (904.0/1000.0)\n",
      "Test Accuracy of 4 class: 81.2% (812.0/1000.0)\n",
      "Test Accuracy of 5 class: 97.2% (972.0/1000.0)\n",
      "Test Accuracy of 6 class: 71.1% (711.0/1000.0)\n",
      "Test Accuracy of 7 class: 95.5% (955.0/1000.0)\n",
      "Test Accuracy of 8 class: 98.0% (980.0/1000.0)\n",
      "Test Accuracy of 9 class: 96.7% (967.0/1000.0)\n",
      "\n",
      "Test Accuracy (Overall): 89.6% (8960.0/10000.0)\n"
     ]
    }
   ]
  },
  {
   "cell_type": "markdown",
   "source": [
    "Таким образом, применяя только линейные слои, функции активаци, Dropout и BatchNorm получили требуемую accuracy на тестовой выборке. А именно, accuracy равна 89.6%"
   ],
   "metadata": {
    "id": "vWvF-5uw577n"
   }
  },
  {
   "cell_type": "markdown",
   "metadata": {
    "id": "L7ISqkjmCPB1"
   },
   "source": [
    "### Task 2: Overfit it.\n",
    "Build a network that will overfit to this dataset. Demonstrate the overfitting in the appropriate way (e.g. plot loss and accurasy on train and test set w.r.t. network complexity).\n",
    "\n",
    "*Note:* you also might decrease the size of `train` dataset to enforce the overfitting and speed up the computations."
   ]
  },
  {
   "cell_type": "code",
   "execution_count": 63,
   "metadata": {
    "id": "H12uAWiGBwJx"
   },
   "outputs": [],
   "source": [
    "class OverfittingNeuralNetwork(nn.Module):\n",
    "    def __init__(self, input_shape=28*28, num_classes=10, input_channels=1):\n",
    "        super(self.__class__, self).__init__()\n",
    "        self.model = nn.Sequential(\n",
    "            nn.Flatten(), # This layer converts image into a vector to use Linear layers afterwards\n",
    "            # Your network structure comes here\n",
    "            nn.Linear(input_shape, 512),\n",
    "            nn.Linear(512, 64),\n",
    "            nn.Tanh(),\n",
    "            nn.Linear(64, num_classes)\n",
    "        )\n",
    "        \n",
    "    def forward(self, inp):       \n",
    "        out = self.model(inp)\n",
    "        return out"
   ]
  },
  {
   "cell_type": "code",
   "execution_count": 64,
   "metadata": {
    "colab": {
     "base_uri": "https://localhost:8080/"
    },
    "id": "JgXAKCpvCwqH",
    "outputId": "bbfb9fa5-39dc-484d-8e45-01fd81e1b4bc"
   },
   "outputs": [
    {
     "output_type": "stream",
     "name": "stdout",
     "text": [
      "----------------------------------------------------------------\n",
      "        Layer (type)               Output Shape         Param #\n",
      "================================================================\n",
      "           Flatten-1                  [-1, 784]               0\n",
      "            Linear-2                  [-1, 512]         401,920\n",
      "            Linear-3                   [-1, 64]          32,832\n",
      "              Tanh-4                   [-1, 64]               0\n",
      "            Linear-5                   [-1, 10]             650\n",
      "================================================================\n",
      "Total params: 435,402\n",
      "Trainable params: 435,402\n",
      "Non-trainable params: 0\n",
      "----------------------------------------------------------------\n",
      "Input size (MB): 0.00\n",
      "Forward/backward pass size (MB): 0.01\n",
      "Params size (MB): 1.66\n",
      "Estimated Total Size (MB): 1.67\n",
      "----------------------------------------------------------------\n"
     ]
    }
   ],
   "source": [
    "torchsummary.summary(OverfittingNeuralNetwork().to(device), (28*28,))"
   ]
  },
  {
   "cell_type": "code",
   "execution_count": 65,
   "metadata": {
    "id": "Izll0AhgIu-M"
   },
   "outputs": [],
   "source": [
    "model = OverfittingNeuralNetwork().to(device)\n",
    "opt = optim.Adam(model.parameters(), lr=3e-4)\n",
    "loss_func = nn.CrossEntropyLoss()\n",
    "\n",
    "# Your experiments, come here"
   ]
  },
  {
   "cell_type": "code",
   "source": [
    "train_losses, valid_losses = train(model, train_loader, test_loader, opt, loss_func)"
   ],
   "metadata": {
    "colab": {
     "base_uri": "https://localhost:8080/"
    },
    "id": "xv-P0Zkt6u3Q",
    "outputId": "2edbb770-07eb-4973-d0a9-86a3f3bb4b4c"
   },
   "execution_count": 66,
   "outputs": [
    {
     "output_type": "stream",
     "name": "stdout",
     "text": [
      "Epoch: 1 \tTraining Loss: 0.6825458422342936 \tValidation Loss: 0.4992319903373718\n",
      "validation loss decreased(inf -->0.4992319903373718). Saving Model ...\n",
      "Epoch: 2 \tTraining Loss: 0.4410991883913676 \tValidation Loss: 0.44210348176956177\n",
      "validation loss decreased(0.4992319903373718 -->0.44210348176956177). Saving Model ...\n",
      "Epoch: 3 \tTraining Loss: 0.39857101678848267 \tValidation Loss: 0.4204574234008789\n",
      "validation loss decreased(0.44210348176956177 -->0.4204574234008789). Saving Model ...\n",
      "Epoch: 4 \tTraining Loss: 0.37698430991172793 \tValidation Loss: 0.41473491101264953\n",
      "validation loss decreased(0.4204574234008789 -->0.41473491101264953). Saving Model ...\n",
      "Epoch: 5 \tTraining Loss: 0.36162529945373534 \tValidation Loss: 0.4006337685108185\n",
      "validation loss decreased(0.41473491101264953 -->0.4006337685108185). Saving Model ...\n",
      "Epoch: 6 \tTraining Loss: 0.3475275408903758 \tValidation Loss: 0.3905037955760956\n",
      "validation loss decreased(0.4006337685108185 -->0.3905037955760956). Saving Model ...\n",
      "Epoch: 7 \tTraining Loss: 0.33823145195643106 \tValidation Loss: 0.3898513892173767\n",
      "validation loss decreased(0.3905037955760956 -->0.3898513892173767). Saving Model ...\n",
      "Epoch: 8 \tTraining Loss: 0.3294008762995402 \tValidation Loss: 0.38442215633392335\n",
      "validation loss decreased(0.3898513892173767 -->0.38442215633392335). Saving Model ...\n",
      "Epoch: 9 \tTraining Loss: 0.32029529383977257 \tValidation Loss: 0.3741919696807861\n",
      "validation loss decreased(0.38442215633392335 -->0.3741919696807861). Saving Model ...\n",
      "Epoch: 10 \tTraining Loss: 0.3153467537720998 \tValidation Loss: 0.36752113528251645\n",
      "validation loss decreased(0.3741919696807861 -->0.36752113528251645). Saving Model ...\n",
      "Epoch: 11 \tTraining Loss: 0.30764899581273397 \tValidation Loss: 0.36780145111083984\n",
      "Epoch: 12 \tTraining Loss: 0.30164395972092944 \tValidation Loss: 0.3638201632022858\n",
      "validation loss decreased(0.36752113528251645 -->0.3638201632022858). Saving Model ...\n",
      "Epoch: 13 \tTraining Loss: 0.2953296940962474 \tValidation Loss: 0.3627602665662765\n",
      "validation loss decreased(0.3638201632022858 -->0.3627602665662765). Saving Model ...\n",
      "Epoch: 14 \tTraining Loss: 0.2915136345227559 \tValidation Loss: 0.3650331214427948\n",
      "Epoch: 15 \tTraining Loss: 0.2857668372631073 \tValidation Loss: 0.35808049764633176\n",
      "validation loss decreased(0.3627602665662765 -->0.35808049764633176). Saving Model ...\n",
      "Epoch: 16 \tTraining Loss: 0.2821894819021225 \tValidation Loss: 0.36798949227333067\n",
      "Epoch: 17 \tTraining Loss: 0.2776429583867391 \tValidation Loss: 0.352819056892395\n",
      "validation loss decreased(0.35808049764633176 -->0.352819056892395). Saving Model ...\n",
      "Epoch: 18 \tTraining Loss: 0.27310785688559214 \tValidation Loss: 0.35773839650154116\n",
      "Epoch: 19 \tTraining Loss: 0.2693484915415446 \tValidation Loss: 0.35026217379570007\n",
      "validation loss decreased(0.352819056892395 -->0.35026217379570007). Saving Model ...\n",
      "Epoch: 20 \tTraining Loss: 0.2653650073369344 \tValidation Loss: 0.35616181852817536\n",
      "Epoch: 21 \tTraining Loss: 0.2622160346666972 \tValidation Loss: 0.35366409101486207\n",
      "Epoch: 22 \tTraining Loss: 0.2569683443069458 \tValidation Loss: 0.35502946853637696\n",
      "Epoch: 23 \tTraining Loss: 0.2544777365922928 \tValidation Loss: 0.343241602230072\n",
      "validation loss decreased(0.35026217379570007 -->0.343241602230072). Saving Model ...\n",
      "Epoch: 24 \tTraining Loss: 0.24968068895339965 \tValidation Loss: 0.34585009241104125\n",
      "Epoch: 25 \tTraining Loss: 0.24721876085599265 \tValidation Loss: 0.3494649853229523\n",
      "Epoch: 26 \tTraining Loss: 0.24434458614190419 \tValidation Loss: 0.34804059348106386\n",
      "Epoch: 27 \tTraining Loss: 0.24026302909056346 \tValidation Loss: 0.3525301561355591\n",
      "Epoch: 28 \tTraining Loss: 0.2385297438700994 \tValidation Loss: 0.34724005818367004\n",
      "Epoch: 29 \tTraining Loss: 0.2347851270834605 \tValidation Loss: 0.3489129066467285\n",
      "Epoch: 30 \tTraining Loss: 0.2309841163078944 \tValidation Loss: 0.3560331780433655\n",
      "Epoch: 31 \tTraining Loss: 0.22883313831488292 \tValidation Loss: 0.3636684589385986\n",
      "Epoch: 32 \tTraining Loss: 0.2252334932009379 \tValidation Loss: 0.352683691740036\n",
      "Epoch: 33 \tTraining Loss: 0.22253099681536356 \tValidation Loss: 0.35114466791152954\n",
      "Epoch: 34 \tTraining Loss: 0.2192165062348048 \tValidation Loss: 0.3433636885166168\n",
      "Epoch: 35 \tTraining Loss: 0.21889554901123046 \tValidation Loss: 0.35414076385498044\n",
      "Epoch: 36 \tTraining Loss: 0.21597952484289806 \tValidation Loss: 0.3522507596492767\n",
      "Epoch: 37 \tTraining Loss: 0.21490503404935202 \tValidation Loss: 0.36019642577171324\n",
      "Epoch: 38 \tTraining Loss: 0.21149007992744445 \tValidation Loss: 0.35349362828731534\n",
      "Epoch: 39 \tTraining Loss: 0.2071594308614731 \tValidation Loss: 0.34920318117141724\n",
      "Epoch: 40 \tTraining Loss: 0.20535538608233134 \tValidation Loss: 0.3570560813426971\n"
     ]
    }
   ]
  },
  {
   "cell_type": "code",
   "source": [
    "plt.plot(train_losses, label='Train Loss')\n",
    "plt.plot(valid_losses, label='Valid Loss')\n",
    "\n",
    "plt.legend()"
   ],
   "metadata": {
    "colab": {
     "base_uri": "https://localhost:8080/",
     "height": 283
    },
    "id": "cIxz7iVF9waU",
    "outputId": "2c6cc09a-adb2-4e18-9262-93d351ec7814"
   },
   "execution_count": 67,
   "outputs": [
    {
     "output_type": "execute_result",
     "data": {
      "text/plain": [
       "<matplotlib.legend.Legend at 0x7f8411d6fbb0>"
      ]
     },
     "metadata": {},
     "execution_count": 67
    },
    {
     "output_type": "display_data",
     "data": {
      "text/plain": [
       "<Figure size 432x288 with 1 Axes>"
      ],
      "image/png": "[encoded data removed]"
     },
     "metadata": {
      "needs_background": "light"
     }
    }
   ]
  },
  {
   "cell_type": "markdown",
   "source": [
    "По истории обучения модели видно, что последние 16 эпох модель не улучшала loss. По графику можно заметить, что значения функции потерь на валидационной выборке вышли на плато, в то время, как значения функции потерь на обучающей выборке продолжают заметно снижаться."
   ],
   "metadata": {
    "id": "QNGZCoAgJggO"
   }
  },
  {
   "cell_type": "markdown",
   "metadata": {
    "id": "ljGz65AIIu-M"
   },
   "source": [
    "### Task 3: Fix it.\n",
    "Fix the overfitted network from the previous step (at least partially) by using regularization techniques (Dropout/Batchnorm/...) and demonstrate the results. "
   ]
  },
  {
   "cell_type": "code",
   "execution_count": 78,
   "metadata": {
    "id": "1A-bp6hyIu-N"
   },
   "outputs": [],
   "source": [
    "from torch.nn.modules.batchnorm import BatchNorm1d\n",
    "class FixedNeuralNetwork(nn.Module):\n",
    "    def __init__(self, input_shape=28*28, num_classes=10, input_channels=1):\n",
    "        super(self.__class__, self).__init__()\n",
    "        self.model = nn.Sequential(\n",
    "            nn.Flatten(), # This layer converts image into a vector to use Linear layers afterwards\n",
    "            # Your network structure comes here\n",
    "            nn.Linear(input_shape, 512),\n",
    "            nn.Dropout(),\n",
    "            nn.BatchNorm1d(512),\n",
    "            nn.Linear(512, 64),\n",
    "            nn.Tanh(),\n",
    "            nn.Dropout(),\n",
    "            nn.BatchNorm1d(64),\n",
    "            nn.Linear(64, num_classes)\n",
    "        )\n",
    "        \n",
    "    def forward(self, inp):       \n",
    "        out = self.model(inp)\n",
    "        return out"
   ]
  },
  {
   "cell_type": "code",
   "execution_count": 79,
   "metadata": {
    "colab": {
     "base_uri": "https://localhost:8080/"
    },
    "id": "zruAVLv1Iu-N",
    "outputId": "fec2e042-6ee8-420f-e329-07e0ce55109d"
   },
   "outputs": [
    {
     "output_type": "stream",
     "name": "stdout",
     "text": [
      "----------------------------------------------------------------\n",
      "        Layer (type)               Output Shape         Param #\n",
      "================================================================\n",
      "           Flatten-1                  [-1, 784]               0\n",
      "            Linear-2                  [-1, 512]         401,920\n",
      "           Dropout-3                  [-1, 512]               0\n",
      "       BatchNorm1d-4                  [-1, 512]           1,024\n",
      "            Linear-5                   [-1, 64]          32,832\n",
      "              Tanh-6                   [-1, 64]               0\n",
      "           Dropout-7                   [-1, 64]               0\n",
      "       BatchNorm1d-8                   [-1, 64]             128\n",
      "            Linear-9                   [-1, 10]             650\n",
      "================================================================\n",
      "Total params: 436,554\n",
      "Trainable params: 436,554\n",
      "Non-trainable params: 0\n",
      "----------------------------------------------------------------\n",
      "Input size (MB): 0.00\n",
      "Forward/backward pass size (MB): 0.02\n",
      "Params size (MB): 1.67\n",
      "Estimated Total Size (MB): 1.69\n",
      "----------------------------------------------------------------\n"
     ]
    }
   ],
   "source": [
    "torchsummary.summary(FixedNeuralNetwork().to(device), (28*28,))"
   ]
  },
  {
   "cell_type": "code",
   "execution_count": 80,
   "metadata": {
    "id": "79MY5h4FIu-N"
   },
   "outputs": [],
   "source": [
    "model = FixedNeuralNetwork().to(device)\n",
    "opt = optim.Adam(model.parameters(), lr=3e-4)\n",
    "loss_func = nn.CrossEntropyLoss()\n",
    "\n",
    "# Your experiments, come here"
   ]
  },
  {
   "cell_type": "code",
   "source": [
    "train_losses, valid_losses = train(model, train_loader, test_loader, opt, loss_func)"
   ],
   "metadata": {
    "colab": {
     "base_uri": "https://localhost:8080/"
    },
    "id": "z1Wr7-FHKYde",
    "outputId": "3e78e521-f8af-4d46-d83a-0d097841f439"
   },
   "execution_count": 81,
   "outputs": [
    {
     "output_type": "stream",
     "name": "stdout",
     "text": [
      "Epoch: 1 \tTraining Loss: 0.7807825310230255 \tValidation Loss: 0.5128913924694062\n",
      "validation loss decreased(inf -->0.5128913924694062). Saving Model ...\n",
      "Epoch: 2 \tTraining Loss: 0.5466785126368204 \tValidation Loss: 0.4759325921535492\n",
      "validation loss decreased(0.5128913924694062 -->0.4759325921535492). Saving Model ...\n",
      "Epoch: 3 \tTraining Loss: 0.510222056166331 \tValidation Loss: 0.45152393975257876\n",
      "validation loss decreased(0.4759325921535492 -->0.45152393975257876). Saving Model ...\n",
      "Epoch: 4 \tTraining Loss: 0.4894697704950968 \tValidation Loss: 0.44219344334602356\n",
      "validation loss decreased(0.45152393975257876 -->0.44219344334602356). Saving Model ...\n",
      "Epoch: 5 \tTraining Loss: 0.47675726280212405 \tValidation Loss: 0.43666261324882505\n",
      "validation loss decreased(0.44219344334602356 -->0.43666261324882505). Saving Model ...\n",
      "Epoch: 6 \tTraining Loss: 0.46827791078885395 \tValidation Loss: 0.44064494285583494\n",
      "Epoch: 7 \tTraining Loss: 0.4587136237780253 \tValidation Loss: 0.420996710729599\n",
      "validation loss decreased(0.43666261324882505 -->0.420996710729599). Saving Model ...\n",
      "Epoch: 8 \tTraining Loss: 0.4534307816028595 \tValidation Loss: 0.41655303654670717\n",
      "validation loss decreased(0.420996710729599 -->0.41655303654670717). Saving Model ...\n",
      "Epoch: 9 \tTraining Loss: 0.45118367466926573 \tValidation Loss: 0.4180911445617676\n",
      "Epoch: 10 \tTraining Loss: 0.4468218390782674 \tValidation Loss: 0.41476159052848816\n",
      "validation loss decreased(0.41655303654670717 -->0.41476159052848816). Saving Model ...\n",
      "Epoch: 11 \tTraining Loss: 0.4434179184595744 \tValidation Loss: 0.41684830644130705\n",
      "Epoch: 12 \tTraining Loss: 0.44001774676640826 \tValidation Loss: 0.4113358777046204\n",
      "validation loss decreased(0.41476159052848816 -->0.4113358777046204). Saving Model ...\n",
      "Epoch: 13 \tTraining Loss: 0.44060029815038043 \tValidation Loss: 0.4059325543403626\n",
      "validation loss decreased(0.4113358777046204 -->0.4059325543403626). Saving Model ...\n",
      "Epoch: 14 \tTraining Loss: 0.43796927898724874 \tValidation Loss: 0.4091605555534363\n",
      "Epoch: 15 \tTraining Loss: 0.43427461541493734 \tValidation Loss: 0.40708940348625183\n",
      "Epoch: 16 \tTraining Loss: 0.4336714987277985 \tValidation Loss: 0.4130274641513825\n",
      "Epoch: 17 \tTraining Loss: 0.4345037743091583 \tValidation Loss: 0.40380118153095246\n",
      "validation loss decreased(0.4059325543403626 -->0.40380118153095246). Saving Model ...\n",
      "Epoch: 18 \tTraining Loss: 0.42696046408017474 \tValidation Loss: 0.4036219012260437\n",
      "validation loss decreased(0.40380118153095246 -->0.4036219012260437). Saving Model ...\n",
      "Epoch: 19 \tTraining Loss: 0.4306518843650818 \tValidation Loss: 0.40269223165512086\n",
      "validation loss decreased(0.4036219012260437 -->0.40269223165512086). Saving Model ...\n",
      "Epoch: 20 \tTraining Loss: 0.42503097613652546 \tValidation Loss: 0.4039945174694061\n",
      "Epoch: 21 \tTraining Loss: 0.42251482294400533 \tValidation Loss: 0.39840984878540037\n",
      "validation loss decreased(0.40269223165512086 -->0.39840984878540037). Saving Model ...\n",
      "Epoch: 22 \tTraining Loss: 0.42501286778450015 \tValidation Loss: 0.3950377715587616\n",
      "validation loss decreased(0.39840984878540037 -->0.3950377715587616). Saving Model ...\n",
      "Epoch: 23 \tTraining Loss: 0.42192767656644187 \tValidation Loss: 0.4022819424152374\n",
      "Epoch: 24 \tTraining Loss: 0.4186989498615265 \tValidation Loss: 0.39642277626991274\n",
      "Epoch: 25 \tTraining Loss: 0.4197555304845174 \tValidation Loss: 0.3940251281738281\n",
      "validation loss decreased(0.3950377715587616 -->0.3940251281738281). Saving Model ...\n",
      "Epoch: 26 \tTraining Loss: 0.41915336616834004 \tValidation Loss: 0.39517480607032773\n",
      "Epoch: 27 \tTraining Loss: 0.4187079764842987 \tValidation Loss: 0.3937783720970154\n",
      "validation loss decreased(0.3940251281738281 -->0.3937783720970154). Saving Model ...\n",
      "Epoch: 28 \tTraining Loss: 0.4143831377029419 \tValidation Loss: 0.3966109081745148\n",
      "Epoch: 29 \tTraining Loss: 0.4138164391676585 \tValidation Loss: 0.39514300317764284\n",
      "Epoch: 30 \tTraining Loss: 0.41458558433850606 \tValidation Loss: 0.3945427946090698\n",
      "Epoch: 31 \tTraining Loss: 0.4142995953718821 \tValidation Loss: 0.38961968421936033\n",
      "validation loss decreased(0.3937783720970154 -->0.38961968421936033). Saving Model ...\n",
      "Epoch: 32 \tTraining Loss: 0.41173490762710574 \tValidation Loss: 0.3971941660404205\n",
      "Epoch: 33 \tTraining Loss: 0.41301983324686686 \tValidation Loss: 0.3907749405860901\n",
      "Epoch: 34 \tTraining Loss: 0.41044220525423686 \tValidation Loss: 0.38959487648010255\n",
      "validation loss decreased(0.38961968421936033 -->0.38959487648010255). Saving Model ...\n",
      "Epoch: 35 \tTraining Loss: 0.4105192178090413 \tValidation Loss: 0.3936329984664917\n",
      "Epoch: 36 \tTraining Loss: 0.4089323317448298 \tValidation Loss: 0.3893064631462097\n",
      "validation loss decreased(0.38959487648010255 -->0.3893064631462097). Saving Model ...\n",
      "Epoch: 37 \tTraining Loss: 0.40861602271397907 \tValidation Loss: 0.39331022520065306\n",
      "Epoch: 38 \tTraining Loss: 0.4082779159386953 \tValidation Loss: 0.39364355416297914\n",
      "Epoch: 39 \tTraining Loss: 0.4041857395648956 \tValidation Loss: 0.39217126517295836\n",
      "Epoch: 40 \tTraining Loss: 0.40813397030830384 \tValidation Loss: 0.38951510558128355\n"
     ]
    }
   ]
  },
  {
   "cell_type": "code",
   "source": [
    "plt.plot(train_losses, label='Train Loss')\n",
    "plt.plot(valid_losses, label='Valid Loss')\n",
    "\n",
    "plt.legend()"
   ],
   "metadata": {
    "colab": {
     "base_uri": "https://localhost:8080/",
     "height": 284
    },
    "id": "5Lc_3BgOKa4B",
    "outputId": "72493fa1-7589-49c8-9925-08d7809fdcd7"
   },
   "execution_count": 82,
   "outputs": [
    {
     "output_type": "execute_result",
     "data": {
      "text/plain": [
       "<matplotlib.legend.Legend at 0x7f8411b5dca0>"
      ]
     },
     "metadata": {},
     "execution_count": 82
    },
    {
     "output_type": "display_data",
     "data": {
      "text/plain": [
       "<Figure size 432x288 with 1 Axes>"
      ],
      "image/png": "[encoded data removed]"
     },
     "metadata": {
      "needs_background": "light"
     }
    }
   ]
  },
  {
   "cell_type": "code",
   "source": [
    "model.load_state_dict(torch.load('model.pt'))"
   ],
   "metadata": {
    "colab": {
     "base_uri": "https://localhost:8080/"
    },
    "id": "Wh4e8axwL1Tm",
    "outputId": "3c80f5a8-a367-4b04-aded-7763b5938da2"
   },
   "execution_count": 83,
   "outputs": [
    {
     "output_type": "execute_result",
     "data": {
      "text/plain": [
       "<All keys matched successfully>"
      ]
     },
     "metadata": {},
     "execution_count": 83
    }
   ]
  },
  {
   "cell_type": "code",
   "source": [
    "eval(model, test_loader, loss_func)"
   ],
   "metadata": {
    "colab": {
     "base_uri": "https://localhost:8080/"
    },
    "id": "6GK54zm9L2H7",
    "outputId": "545a69ab-ea02-42dc-abea-538013b0e6f3"
   },
   "execution_count": 84,
   "outputs": [
    {
     "output_type": "stream",
     "name": "stdout",
     "text": [
      "Test Loss: 0.3893064631462097\n",
      "\n",
      "Test Accuracy of 0 class: 82.5% (825.0/1000.0)\n",
      "Test Accuracy of 1 class: 95.8% (958.0/1000.0)\n",
      "Test Accuracy of 2 class: 78.7% (787.0/1000.0)\n",
      "Test Accuracy of 3 class: 88.3% (883.0/1000.0)\n",
      "Test Accuracy of 4 class: 80.2% (802.0/1000.0)\n",
      "Test Accuracy of 5 class: 93.5% (935.0/1000.0)\n",
      "Test Accuracy of 6 class: 56.1% (561.0/1000.0)\n",
      "Test Accuracy of 7 class: 94.5% (945.0/1000.0)\n",
      "Test Accuracy of 8 class: 96.8% (968.0/1000.0)\n",
      "Test Accuracy of 9 class: 94.2% (942.0/1000.0)\n",
      "\n",
      "Test Accuracy (Overall): 86.06% (8606.0/10000.0)\n"
     ]
    }
   ]
  },
  {
   "cell_type": "markdown",
   "metadata": {
    "id": "dMui_uLJ7G0d"
   },
   "source": [
    "### Conclusions:\n",
    "_Write down small report with your conclusions and your ideas._\n",
    "\n",
    "\n",
    "\n",
    "*   В первом пункте работы была получена сеть, которая удовлетворяет поставленной задаче и выдаёт accuracy 89.6% на тестовой выборке. \n",
    "При этом в приведённой архитектуре намеренно не используются свёрточные слои. Их использование, скорее всего, позволит ещё более улучшить качество модели.\n",
    "*   В следующем пункте задания получилось намеренно несколько переобучить модель, а затем исправить переобучение, добавив в архитектуру сети Dropout и BatchNorm слои.\n",
    "*   Точность исправленной модели получилась не очень высокая, 86.06% на тестовой выборке, так как архитектура не самая удачная. Но зато по графику обучения видно, что функции потерь на обучающей и на теестовой выборке совместно снижаются, что говорит о том, что модель перестала переобучаться. И этого удалось добиться только внедрением Dropout и BatchNorm слоев.\n",
    "\n",
    "\n"
   ]
  },
  {
   "cell_type": "code",
   "source": [],
   "metadata": {
    "id": "0ldZAHTaOhCV"
   },
   "execution_count": null,
   "outputs": []
  }
 ],
 "metadata": {
  "accelerator": "GPU",
  "colab": {
   "provenance": []
  },
  "kernelspec": {
   "display_name": "Python 3",
   "language": "python",
   "name": "python3"
  },
  "language_info": {
   "codemirror_mode": {
    "name": "ipython",
    "version": 3
   },
   "file_extension": ".py",
   "mimetype": "text/x-python",
   "name": "python",
   "nbconvert_exporter": "python",
   "pygments_lexer": "ipython3",
   "version": "3.7.7"
  },
  "widgets": {
   "application/vnd.jupyter.widget-state+json": {
    "c26346a1f2884df1bad6f39fd27e0e40": {
     "model_module": "@jupyter-widgets/controls",
     "model_name": "HBoxModel",
     "model_module_version": "1.5.0",
     "state": {
      "_dom_classes": [],
      "_model_module": "@jupyter-widgets/controls",
      "_model_module_version": "1.5.0",
      "_model_name": "HBoxModel",
      "_view_count": null,
      "_view_module": "@jupyter-widgets/controls",
      "_view_module_version": "1.5.0",
      "_view_name": "HBoxView",
      "box_style": "",
      "children": [
       "IPY_MODEL_7ab631c0bbb947f9bcdd6628f065284f",
       "IPY_MODEL_b7c15fdf357d49a99fdad7c4b3b4202a",
       "IPY_MODEL_0dec5406c114413fb7b5d83911b06d20"
      ],
      "layout": "IPY_MODEL_662881754ac64f0081604b3c96c3aff7"
     }
    },
    "7ab631c0bbb947f9bcdd6628f065284f": {
     "model_module": "@jupyter-widgets/controls",
     "model_name": "HTMLModel",
     "model_module_version": "1.5.0",
     "state": {
      "_dom_classes": [],
      "_model_module": "@jupyter-widgets/controls",
      "_model_module_version": "1.5.0",
      "_model_name": "HTMLModel",
      "_view_count": null,
      "_view_module": "@jupyter-widgets/controls",
      "_view_module_version": "1.5.0",
      "_view_name": "HTMLView",
      "description": "",
      "description_tooltip": null,
      "layout": "IPY_MODEL_4964c7594d4a464cb1386583a5205367",
      "placeholder": "​",
      "style": "IPY_MODEL_a9271b8595674493b583622a3e2c6546",
      "value": "100%"
     }
    },
    "b7c15fdf357d49a99fdad7c4b3b4202a": {
     "model_module": "@jupyter-widgets/controls",
     "model_name": "FloatProgressModel",
     "model_module_version": "1.5.0",
     "state": {
      "_dom_classes": [],
      "_model_module": "@jupyter-widgets/controls",
      "_model_module_version": "1.5.0",
      "_model_name": "FloatProgressModel",
      "_view_count": null,
      "_view_module": "@jupyter-widgets/controls",
      "_view_module_version": "1.5.0",
      "_view_name": "ProgressView",
      "bar_style": "success",
      "description": "",
      "description_tooltip": null,
      "layout": "IPY_MODEL_d237563f752a4348b26d55a8f743bb10",
      "max": 26421880,
      "min": 0,
      "orientation": "horizontal",
      "style": "IPY_MODEL_98b8e43532a64ad9b0ba078041e0d786",
      "value": 26421880
     }
    },
    "0dec5406c114413fb7b5d83911b06d20": {
     "model_module": "@jupyter-widgets/controls",
     "model_name": "HTMLModel",
     "model_module_version": "1.5.0",
     "state": {
      "_dom_classes": [],
      "_model_module": "@jupyter-widgets/controls",
      "_model_module_version": "1.5.0",
      "_model_name": "HTMLModel",
      "_view_count": null,
      "_view_module": "@jupyter-widgets/controls",
      "_view_module_version": "1.5.0",
      "_view_name": "HTMLView",
      "description": "",
      "description_tooltip": null,
      "layout": "IPY_MODEL_0b7ce9c0306c445d88b746765b344f2a",
      "placeholder": "​",
      "style": "IPY_MODEL_fda0c51dfd2b4bd3be8e599f3265a2c4",
      "value": " 26421880/26421880 [00:01&lt;00:00, 31062625.64it/s]"
     }
    },
    "662881754ac64f0081604b3c96c3aff7": {
     "model_module": "@jupyter-widgets/base",
     "model_name": "LayoutModel",
     "model_module_version": "1.2.0",
     "state": {
      "_model_module": "@jupyter-widgets/base",
      "_model_module_version": "1.2.0",
      "_model_name": "LayoutModel",
      "_view_count": null,
      "_view_module": "@jupyter-widgets/base",
      "_view_module_version": "1.2.0",
      "_view_name": "LayoutView",
      "align_content": null,
      "align_items": null,
      "align_self": null,
      "border": null,
      "bottom": null,
      "display": null,
      "flex": null,
      "flex_flow": null,
      "grid_area": null,
      "grid_auto_columns": null,
      "grid_auto_flow": null,
      "grid_auto_rows": null,
      "grid_column": null,
      "grid_gap": null,
      "grid_row": null,
      "grid_template_areas": null,
      "grid_template_columns": null,
      "grid_template_rows": null,
      "height": null,
      "justify_content": null,
      "justify_items": null,
      "left": null,
      "margin": null,
      "max_height": null,
      "max_width": null,
      "min_height": null,
      "min_width": null,
      "object_fit": null,
      "object_position": null,
      "order": null,
      "overflow": null,
      "overflow_x": null,
      "overflow_y": null,
      "padding": null,
      "right": null,
      "top": null,
      "visibility": null,
      "width": null
     }
    },
    "4964c7594d4a464cb1386583a5205367": {
     "model_module": "@jupyter-widgets/base",
     "model_name": "LayoutModel",
     "model_module_version": "1.2.0",
     "state": {
      "_model_module": "@jupyter-widgets/base",
      "_model_module_version": "1.2.0",
      "_model_name": "LayoutModel",
      "_view_count": null,
      "_view_module": "@jupyter-widgets/base",
      "_view_module_version": "1.2.0",
      "_view_name": "LayoutView",
      "align_content": null,
      "align_items": null,
      "align_self": null,
      "border": null,
      "bottom": null,
      "display": null,
      "flex": null,
      "flex_flow": null,
      "grid_area": null,
      "grid_auto_columns": null,
      "grid_auto_flow": null,
      "grid_auto_rows": null,
      "grid_column": null,
      "grid_gap": null,
      "grid_row": null,
      "grid_template_areas": null,
      "grid_template_columns": null,
      "grid_template_rows": null,
      "height": null,
      "justify_content": null,
      "justify_items": null,
      "left": null,
      "margin": null,
      "max_height": null,
      "max_width": null,
      "min_height": null,
      "min_width": null,
      "object_fit": null,
      "object_position": null,
      "order": null,
      "overflow": null,
      "overflow_x": null,
      "overflow_y": null,
      "padding": null,
      "right": null,
      "top": null,
      "visibility": null,
      "width": null
     }
    },
    "a9271b8595674493b583622a3e2c6546": {
     "model_module": "@jupyter-widgets/controls",
     "model_name": "DescriptionStyleModel",
     "model_module_version": "1.5.0",
     "state": {
      "_model_module": "@jupyter-widgets/controls",
      "_model_module_version": "1.5.0",
      "_model_name": "DescriptionStyleModel",
      "_view_count": null,
      "_view_module": "@jupyter-widgets/base",
      "_view_module_version": "1.2.0",
      "_view_name": "StyleView",
      "description_width": ""
     }
    },
    "d237563f752a4348b26d55a8f743bb10": {
     "model_module": "@jupyter-widgets/base",
     "model_name": "LayoutModel",
     "model_module_version": "1.2.0",
     "state": {
      "_model_module": "@jupyter-widgets/base",
      "_model_module_version": "1.2.0",
      "_model_name": "LayoutModel",
      "_view_count": null,
      "_view_module": "@jupyter-widgets/base",
      "_view_module_version": "1.2.0",
      "_view_name": "LayoutView",
      "align_content": null,
      "align_items": null,
      "align_self": null,
      "border": null,
      "bottom": null,
      "display": null,
      "flex": null,
      "flex_flow": null,
      "grid_area": null,
      "grid_auto_columns": null,
      "grid_auto_flow": null,
      "grid_auto_rows": null,
      "grid_column": null,
      "grid_gap": null,
      "grid_row": null,
      "grid_template_areas": null,
      "grid_template_columns": null,
      "grid_template_rows": null,
      "height": null,
      "justify_content": null,
      "justify_items": null,
      "left": null,
      "margin": null,
      "max_height": null,
      "max_width": null,
      "min_height": null,
      "min_width": null,
      "object_fit": null,
      "object_position": null,
      "order": null,
      "overflow": null,
      "overflow_x": null,
      "overflow_y": null,
      "padding": null,
      "right": null,
      "top": null,
      "visibility": null,
      "width": null
     }
    },
    "98b8e43532a64ad9b0ba078041e0d786": {
     "model_module": "@jupyter-widgets/controls",
     "model_name": "ProgressStyleModel",
     "model_module_version": "1.5.0",
     "state": {
      "_model_module": "@jupyter-widgets/controls",
      "_model_module_version": "1.5.0",
      "_model_name": "ProgressStyleModel",
      "_view_count": null,
      "_view_module": "@jupyter-widgets/base",
      "_view_module_version": "1.2.0",
      "_view_name": "StyleView",
      "bar_color": null,
      "description_width": ""
     }
    },
    "0b7ce9c0306c445d88b746765b344f2a": {
     "model_module": "@jupyter-widgets/base",
     "model_name": "LayoutModel",
     "model_module_version": "1.2.0",
     "state": {
      "_model_module": "@jupyter-widgets/base",
      "_model_module_version": "1.2.0",
      "_model_name": "LayoutModel",
      "_view_count": null,
      "_view_module": "@jupyter-widgets/base",
      "_view_module_version": "1.2.0",
      "_view_name": "LayoutView",
      "align_content": null,
      "align_items": null,
      "align_self": null,
      "border": null,
      "bottom": null,
      "display": null,
      "flex": null,
      "flex_flow": null,
      "grid_area": null,
      "grid_auto_columns": null,
      "grid_auto_flow": null,
      "grid_auto_rows": null,
      "grid_column": null,
      "grid_gap": null,
      "grid_row": null,
      "grid_template_areas": null,
      "grid_template_columns": null,
      "grid_template_rows": null,
      "height": null,
      "justify_content": null,
      "justify_items": null,
      "left": null,
      "margin": null,
      "max_height": null,
      "max_width": null,
      "min_height": null,
      "min_width": null,
      "object_fit": null,
      "object_position": null,
      "order": null,
      "overflow": null,
      "overflow_x": null,
      "overflow_y": null,
      "padding": null,
      "right": null,
      "top": null,
      "visibility": null,
      "width": null
     }
    },
    "fda0c51dfd2b4bd3be8e599f3265a2c4": {
     "model_module": "@jupyter-widgets/controls",
     "model_name": "DescriptionStyleModel",
     "model_module_version": "1.5.0",
     "state": {
      "_model_module": "@jupyter-widgets/controls",
      "_model_module_version": "1.5.0",
      "_model_name": "DescriptionStyleModel",
      "_view_count": null,
      "_view_module": "@jupyter-widgets/base",
      "_view_module_version": "1.2.0",
      "_view_name": "StyleView",
      "description_width": ""
     }
    },
    "a2b0e7ec61d640a28b3286eecc2cba7e": {
     "model_module": "@jupyter-widgets/controls",
     "model_name": "HBoxModel",
     "model_module_version": "1.5.0",
     "state": {
      "_dom_classes": [],
      "_model_module": "@jupyter-widgets/controls",
      "_model_module_version": "1.5.0",
      "_model_name": "HBoxModel",
      "_view_count": null,
      "_view_module": "@jupyter-widgets/controls",
      "_view_module_version": "1.5.0",
      "_view_name": "HBoxView",
      "box_style": "",
      "children": [
       "IPY_MODEL_790aca8dd9be4d23954cd04e46dbeca6",
       "IPY_MODEL_84efc66e162a49ffbe1962895f5d445b",
       "IPY_MODEL_45b0c66c3e31411eba93e2521f8aa205"
      ],
      "layout": "IPY_MODEL_fac8ead5d4b54100ae13275231da5340"
     }
    },
    "790aca8dd9be4d23954cd04e46dbeca6": {
     "model_module": "@jupyter-widgets/controls",
     "model_name": "HTMLModel",
     "model_module_version": "1.5.0",
     "state": {
      "_dom_classes": [],
      "_model_module": "@jupyter-widgets/controls",
      "_model_module_version": "1.5.0",
      "_model_name": "HTMLModel",
      "_view_count": null,
      "_view_module": "@jupyter-widgets/controls",
      "_view_module_version": "1.5.0",
      "_view_name": "HTMLView",
      "description": "",
      "description_tooltip": null,
      "layout": "IPY_MODEL_5f5e3be515014a3e884777e551044cdd",
      "placeholder": "​",
      "style": "IPY_MODEL_c990e18dd3be4edc9b8e33a90a3c1e3d",
      "value": "100%"
     }
    },
    "84efc66e162a49ffbe1962895f5d445b": {
     "model_module": "@jupyter-widgets/controls",
     "model_name": "FloatProgressModel",
     "model_module_version": "1.5.0",
     "state": {
      "_dom_classes": [],
      "_model_module": "@jupyter-widgets/controls",
      "_model_module_version": "1.5.0",
      "_model_name": "FloatProgressModel",
      "_view_count": null,
      "_view_module": "@jupyter-widgets/controls",
      "_view_module_version": "1.5.0",
      "_view_name": "ProgressView",
      "bar_style": "success",
      "description": "",
      "description_tooltip": null,
      "layout": "IPY_MODEL_d9bf55787f554f988fb925b90326bffa",
      "max": 29515,
      "min": 0,
      "orientation": "horizontal",
      "style": "IPY_MODEL_3ea9a13ff287412d816669fa1b05d840",
      "value": 29515
     }
    },
    "45b0c66c3e31411eba93e2521f8aa205": {
     "model_module": "@jupyter-widgets/controls",
     "model_name": "HTMLModel",
     "model_module_version": "1.5.0",
     "state": {
      "_dom_classes": [],
      "_model_module": "@jupyter-widgets/controls",
      "_model_module_version": "1.5.0",
      "_model_name": "HTMLModel",
      "_view_count": null,
      "_view_module": "@jupyter-widgets/controls",
      "_view_module_version": "1.5.0",
      "_view_name": "HTMLView",
      "description": "",
      "description_tooltip": null,
      "layout": "IPY_MODEL_32b3b7d07de148cb8080fb78c716d9b2",
      "placeholder": "​",
      "style": "IPY_MODEL_d1f55bb645414d7a845c1b8b352671d3",
      "value": " 29515/29515 [00:00&lt;00:00, 337023.73it/s]"
     }
    },
    "fac8ead5d4b54100ae13275231da5340": {
     "model_module": "@jupyter-widgets/base",
     "model_name": "LayoutModel",
     "model_module_version": "1.2.0",
     "state": {
      "_model_module": "@jupyter-widgets/base",
      "_model_module_version": "1.2.0",
      "_model_name": "LayoutModel",
      "_view_count": null,
      "_view_module": "@jupyter-widgets/base",
      "_view_module_version": "1.2.0",
      "_view_name": "LayoutView",
      "align_content": null,
      "align_items": null,
      "align_self": null,
      "border": null,
      "bottom": null,
      "display": null,
      "flex": null,
      "flex_flow": null,
      "grid_area": null,
      "grid_auto_columns": null,
      "grid_auto_flow": null,
      "grid_auto_rows": null,
      "grid_column": null,
      "grid_gap": null,
      "grid_row": null,
      "grid_template_areas": null,
      "grid_template_columns": null,
      "grid_template_rows": null,
      "height": null,
      "justify_content": null,
      "justify_items": null,
      "left": null,
      "margin": null,
      "max_height": null,
      "max_width": null,
      "min_height": null,
      "min_width": null,
      "object_fit": null,
      "object_position": null,
      "order": null,
      "overflow": null,
      "overflow_x": null,
      "overflow_y": null,
      "padding": null,
      "right": null,
      "top": null,
      "visibility": null,
      "width": null
     }
    },
    "5f5e3be515014a3e884777e551044cdd": {
     "model_module": "@jupyter-widgets/base",
     "model_name": "LayoutModel",
     "model_module_version": "1.2.0",
     "state": {
      "_model_module": "@jupyter-widgets/base",
      "_model_module_version": "1.2.0",
      "_model_name": "LayoutModel",
      "_view_count": null,
      "_view_module": "@jupyter-widgets/base",
      "_view_module_version": "1.2.0",
      "_view_name": "LayoutView",
      "align_content": null,
      "align_items": null,
      "align_self": null,
      "border": null,
      "bottom": null,
      "display": null,
      "flex": null,
      "flex_flow": null,
      "grid_area": null,
      "grid_auto_columns": null,
      "grid_auto_flow": null,
      "grid_auto_rows": null,
      "grid_column": null,
      "grid_gap": null,
      "grid_row": null,
      "grid_template_areas": null,
      "grid_template_columns": null,
      "grid_template_rows": null,
      "height": null,
      "justify_content": null,
      "justify_items": null,
      "left": null,
      "margin": null,
      "max_height": null,
      "max_width": null,
      "min_height": null,
      "min_width": null,
      "object_fit": null,
      "object_position": null,
      "order": null,
      "overflow": null,
      "overflow_x": null,
      "overflow_y": null,
      "padding": null,
      "right": null,
      "top": null,
      "visibility": null,
      "width": null
     }
    },
    "c990e18dd3be4edc9b8e33a90a3c1e3d": {
     "model_module": "@jupyter-widgets/controls",
     "model_name": "DescriptionStyleModel",
     "model_module_version": "1.5.0",
     "state": {
      "_model_module": "@jupyter-widgets/controls",
      "_model_module_version": "1.5.0",
      "_model_name": "DescriptionStyleModel",
      "_view_count": null,
      "_view_module": "@jupyter-widgets/base",
      "_view_module_version": "1.2.0",
      "_view_name": "StyleView",
      "description_width": ""
     }
    },
    "d9bf55787f554f988fb925b90326bffa": {
     "model_module": "@jupyter-widgets/base",
     "model_name": "LayoutModel",
     "model_module_version": "1.2.0",
     "state": {
      "_model_module": "@jupyter-widgets/base",
      "_model_module_version": "1.2.0",
      "_model_name": "LayoutModel",
      "_view_count": null,
      "_view_module": "@jupyter-widgets/base",
      "_view_module_version": "1.2.0",
      "_view_name": "LayoutView",
      "align_content": null,
      "align_items": null,
      "align_self": null,
      "border": null,
      "bottom": null,
      "display": null,
      "flex": null,
      "flex_flow": null,
      "grid_area": null,
      "grid_auto_columns": null,
      "grid_auto_flow": null,
      "grid_auto_rows": null,
      "grid_column": null,
      "grid_gap": null,
      "grid_row": null,
      "grid_template_areas": null,
      "grid_template_columns": null,
      "grid_template_rows": null,
      "height": null,
      "justify_content": null,
      "justify_items": null,
      "left": null,
      "margin": null,
      "max_height": null,
      "max_width": null,
      "min_height": null,
      "min_width": null,
      "object_fit": null,
      "object_position": null,
      "order": null,
      "overflow": null,
      "overflow_x": null,
      "overflow_y": null,
      "padding": null,
      "right": null,
      "top": null,
      "visibility": null,
      "width": null
     }
    },
    "3ea9a13ff287412d816669fa1b05d840": {
     "model_module": "@jupyter-widgets/controls",
     "model_name": "ProgressStyleModel",
     "model_module_version": "1.5.0",
     "state": {
      "_model_module": "@jupyter-widgets/controls",
      "_model_module_version": "1.5.0",
      "_model_name": "ProgressStyleModel",
      "_view_count": null,
      "_view_module": "@jupyter-widgets/base",
      "_view_module_version": "1.2.0",
      "_view_name": "StyleView",
      "bar_color": null,
      "description_width": ""
     }
    },
    "32b3b7d07de148cb8080fb78c716d9b2": {
     "model_module": "@jupyter-widgets/base",
     "model_name": "LayoutModel",
     "model_module_version": "1.2.0",
     "state": {
      "_model_module": "@jupyter-widgets/base",
      "_model_module_version": "1.2.0",
      "_model_name": "LayoutModel",
      "_view_count": null,
      "_view_module": "@jupyter-widgets/base",
      "_view_module_version": "1.2.0",
      "_view_name": "LayoutView",
      "align_content": null,
      "align_items": null,
      "align_self": null,
      "border": null,
      "bottom": null,
      "display": null,
      "flex": null,
      "flex_flow": null,
      "grid_area": null,
      "grid_auto_columns": null,
      "grid_auto_flow": null,
      "grid_auto_rows": null,
      "grid_column": null,
      "grid_gap": null,
      "grid_row": null,
      "grid_template_areas": null,
      "grid_template_columns": null,
      "grid_template_rows": null,
      "height": null,
      "justify_content": null,
      "justify_items": null,
      "left": null,
      "margin": null,
      "max_height": null,
      "max_width": null,
      "min_height": null,
      "min_width": null,
      "object_fit": null,
      "object_position": null,
      "order": null,
      "overflow": null,
      "overflow_x": null,
      "overflow_y": null,
      "padding": null,
      "right": null,
      "top": null,
      "visibility": null,
      "width": null
     }
    },
    "d1f55bb645414d7a845c1b8b352671d3": {
     "model_module": "@jupyter-widgets/controls",
     "model_name": "DescriptionStyleModel",
     "model_module_version": "1.5.0",
     "state": {
      "_model_module": "@jupyter-widgets/controls",
      "_model_module_version": "1.5.0",
      "_model_name": "DescriptionStyleModel",
      "_view_count": null,
      "_view_module": "@jupyter-widgets/base",
      "_view_module_version": "1.2.0",
      "_view_name": "StyleView",
      "description_width": ""
     }
    },
    "e4e19e49d1b24657ae683f2942e7fed6": {
     "model_module": "@jupyter-widgets/controls",
     "model_name": "HBoxModel",
     "model_module_version": "1.5.0",
     "state": {
      "_dom_classes": [],
      "_model_module": "@jupyter-widgets/controls",
      "_model_module_version": "1.5.0",
      "_model_name": "HBoxModel",
      "_view_count": null,
      "_view_module": "@jupyter-widgets/controls",
      "_view_module_version": "1.5.0",
      "_view_name": "HBoxView",
      "box_style": "",
      "children": [
       "IPY_MODEL_3fcffb7cdc7942ea85b09c3d04d4d12d",
       "IPY_MODEL_f55af2f17bd24d6d9ff4cc50476146d2",
       "IPY_MODEL_c14437bf2a9c427496c067f3c6ca1003"
      ],
      "layout": "IPY_MODEL_2fd32aacdad14e0baf4fea69cd6e5fe0"
     }
    },
    "3fcffb7cdc7942ea85b09c3d04d4d12d": {
     "model_module": "@jupyter-widgets/controls",
     "model_name": "HTMLModel",
     "model_module_version": "1.5.0",
     "state": {
      "_dom_classes": [],
      "_model_module": "@jupyter-widgets/controls",
      "_model_module_version": "1.5.0",
      "_model_name": "HTMLModel",
      "_view_count": null,
      "_view_module": "@jupyter-widgets/controls",
      "_view_module_version": "1.5.0",
      "_view_name": "HTMLView",
      "description": "",
      "description_tooltip": null,
      "layout": "IPY_MODEL_9a899a66247f442baa8ce82ed65e9a7e",
      "placeholder": "​",
      "style": "IPY_MODEL_d8ea51434166413a8138deaa52992c11",
      "value": "100%"
     }
    },
    "f55af2f17bd24d6d9ff4cc50476146d2": {
     "model_module": "@jupyter-widgets/controls",
     "model_name": "FloatProgressModel",
     "model_module_version": "1.5.0",
     "state": {
      "_dom_classes": [],
      "_model_module": "@jupyter-widgets/controls",
      "_model_module_version": "1.5.0",
      "_model_name": "FloatProgressModel",
      "_view_count": null,
      "_view_module": "@jupyter-widgets/controls",
      "_view_module_version": "1.5.0",
      "_view_name": "ProgressView",
      "bar_style": "success",
      "description": "",
      "description_tooltip": null,
      "layout": "IPY_MODEL_aaacabbf0abc4ff7b60ab3e4003fb76d",
      "max": 4422102,
      "min": 0,
      "orientation": "horizontal",
      "style": "IPY_MODEL_bb239fa656354e2fa86058d99976e0f1",
      "value": 4422102
     }
    },
    "c14437bf2a9c427496c067f3c6ca1003": {
     "model_module": "@jupyter-widgets/controls",
     "model_name": "HTMLModel",
     "model_module_version": "1.5.0",
     "state": {
      "_dom_classes": [],
      "_model_module": "@jupyter-widgets/controls",
      "_model_module_version": "1.5.0",
      "_model_name": "HTMLModel",
      "_view_count": null,
      "_view_module": "@jupyter-widgets/controls",
      "_view_module_version": "1.5.0",
      "_view_name": "HTMLView",
      "description": "",
      "description_tooltip": null,
      "layout": "IPY_MODEL_4757ca4f30de4ffe93a670fe059cdfa4",
      "placeholder": "​",
      "style": "IPY_MODEL_ce72642e0ade41a7928a61b53ff300db",
      "value": " 4422102/4422102 [00:00&lt;00:00, 4221235.59it/s]"
     }
    },
    "2fd32aacdad14e0baf4fea69cd6e5fe0": {
     "model_module": "@jupyter-widgets/base",
     "model_name": "LayoutModel",
     "model_module_version": "1.2.0",
     "state": {
      "_model_module": "@jupyter-widgets/base",
      "_model_module_version": "1.2.0",
      "_model_name": "LayoutModel",
      "_view_count": null,
      "_view_module": "@jupyter-widgets/base",
      "_view_module_version": "1.2.0",
      "_view_name": "LayoutView",
      "align_content": null,
      "align_items": null,
      "align_self": null,
      "border": null,
      "bottom": null,
      "display": null,
      "flex": null,
      "flex_flow": null,
      "grid_area": null,
      "grid_auto_columns": null,
      "grid_auto_flow": null,
      "grid_auto_rows": null,
      "grid_column": null,
      "grid_gap": null,
      "grid_row": null,
      "grid_template_areas": null,
      "grid_template_columns": null,
      "grid_template_rows": null,
      "height": null,
      "justify_content": null,
      "justify_items": null,
      "left": null,
      "margin": null,
      "max_height": null,
      "max_width": null,
      "min_height": null,
      "min_width": null,
      "object_fit": null,
      "object_position": null,
      "order": null,
      "overflow": null,
      "overflow_x": null,
      "overflow_y": null,
      "padding": null,
      "right": null,
      "top": null,
      "visibility": null,
      "width": null
     }
    },
    "9a899a66247f442baa8ce82ed65e9a7e": {
     "model_module": "@jupyter-widgets/base",
     "model_name": "LayoutModel",
     "model_module_version": "1.2.0",
     "state": {
      "_model_module": "@jupyter-widgets/base",
      "_model_module_version": "1.2.0",
      "_model_name": "LayoutModel",
      "_view_count": null,
      "_view_module": "@jupyter-widgets/base",
      "_view_module_version": "1.2.0",
      "_view_name": "LayoutView",
      "align_content": null,
      "align_items": null,
      "align_self": null,
      "border": null,
      "bottom": null,
      "display": null,
      "flex": null,
      "flex_flow": null,
      "grid_area": null,
      "grid_auto_columns": null,
      "grid_auto_flow": null,
      "grid_auto_rows": null,
      "grid_column": null,
      "grid_gap": null,
      "grid_row": null,
      "grid_template_areas": null,
      "grid_template_columns": null,
      "grid_template_rows": null,
      "height": null,
      "justify_content": null,
      "justify_items": null,
      "left": null,
      "margin": null,
      "max_height": null,
      "max_width": null,
      "min_height": null,
      "min_width": null,
      "object_fit": null,
      "object_position": null,
      "order": null,
      "overflow": null,
      "overflow_x": null,
      "overflow_y": null,
      "padding": null,
      "right": null,
      "top": null,
      "visibility": null,
      "width": null
     }
    },
    "d8ea51434166413a8138deaa52992c11": {
     "model_module": "@jupyter-widgets/controls",
     "model_name": "DescriptionStyleModel",
     "model_module_version": "1.5.0",
     "state": {
      "_model_module": "@jupyter-widgets/controls",
      "_model_module_version": "1.5.0",
      "_model_name": "DescriptionStyleModel",
      "_view_count": null,
      "_view_module": "@jupyter-widgets/base",
      "_view_module_version": "1.2.0",
      "_view_name": "StyleView",
      "description_width": ""
     }
    },
    "aaacabbf0abc4ff7b60ab3e4003fb76d": {
     "model_module": "@jupyter-widgets/base",
     "model_name": "LayoutModel",
     "model_module_version": "1.2.0",
     "state": {
      "_model_module": "@jupyter-widgets/base",
      "_model_module_version": "1.2.0",
      "_model_name": "LayoutModel",
      "_view_count": null,
      "_view_module": "@jupyter-widgets/base",
      "_view_module_version": "1.2.0",
      "_view_name": "LayoutView",
      "align_content": null,
      "align_items": null,
      "align_self": null,
      "border": null,
      "bottom": null,
      "display": null,
      "flex": null,
      "flex_flow": null,
      "grid_area": null,
      "grid_auto_columns": null,
      "grid_auto_flow": null,
      "grid_auto_rows": null,
      "grid_column": null,
      "grid_gap": null,
      "grid_row": null,
      "grid_template_areas": null,
      "grid_template_columns": null,
      "grid_template_rows": null,
      "height": null,
      "justify_content": null,
      "justify_items": null,
      "left": null,
      "margin": null,
      "max_height": null,
      "max_width": null,
      "min_height": null,
      "min_width": null,
      "object_fit": null,
      "object_position": null,
      "order": null,
      "overflow": null,
      "overflow_x": null,
      "overflow_y": null,
      "padding": null,
      "right": null,
      "top": null,
      "visibility": null,
      "width": null
     }
    },
    "bb239fa656354e2fa86058d99976e0f1": {
     "model_module": "@jupyter-widgets/controls",
     "model_name": "ProgressStyleModel",
     "model_module_version": "1.5.0",
     "state": {
      "_model_module": "@jupyter-widgets/controls",
      "_model_module_version": "1.5.0",
      "_model_name": "ProgressStyleModel",
      "_view_count": null,
      "_view_module": "@jupyter-widgets/base",
      "_view_module_version": "1.2.0",
      "_view_name": "StyleView",
      "bar_color": null,
      "description_width": ""
     }
    },
    "4757ca4f30de4ffe93a670fe059cdfa4": {
     "model_module": "@jupyter-widgets/base",
     "model_name": "LayoutModel",
     "model_module_version": "1.2.0",
     "state": {
      "_model_module": "@jupyter-widgets/base",
      "_model_module_version": "1.2.0",
      "_model_name": "LayoutModel",
      "_view_count": null,
      "_view_module": "@jupyter-widgets/base",
      "_view_module_version": "1.2.0",
      "_view_name": "LayoutView",
      "align_content": null,
      "align_items": null,
      "align_self": null,
      "border": null,
      "bottom": null,
      "display": null,
      "flex": null,
      "flex_flow": null,
      "grid_area": null,
      "grid_auto_columns": null,
      "grid_auto_flow": null,
      "grid_auto_rows": null,
      "grid_column": null,
      "grid_gap": null,
      "grid_row": null,
      "grid_template_areas": null,
      "grid_template_columns": null,
      "grid_template_rows": null,
      "height": null,
      "justify_content": null,
      "justify_items": null,
      "left": null,
      "margin": null,
      "max_height": null,
      "max_width": null,
      "min_height": null,
      "min_width": null,
      "object_fit": null,
      "object_position": null,
      "order": null,
      "overflow": null,
      "overflow_x": null,
      "overflow_y": null,
      "padding": null,
      "right": null,
      "top": null,
      "visibility": null,
      "width": null
     }
    },
    "ce72642e0ade41a7928a61b53ff300db": {
     "model_module": "@jupyter-widgets/controls",
     "model_name": "DescriptionStyleModel",
     "model_module_version": "1.5.0",
     "state": {
      "_model_module": "@jupyter-widgets/controls",
      "_model_module_version": "1.5.0",
      "_model_name": "DescriptionStyleModel",
      "_view_count": null,
      "_view_module": "@jupyter-widgets/base",
      "_view_module_version": "1.2.0",
      "_view_name": "StyleView",
      "description_width": ""
     }
    },
    "0569c7f308724a6e903a601d3814202e": {
     "model_module": "@jupyter-widgets/controls",
     "model_name": "HBoxModel",
     "model_module_version": "1.5.0",
     "state": {
      "_dom_classes": [],
      "_model_module": "@jupyter-widgets/controls",
      "_model_module_version": "1.5.0",
      "_model_name": "HBoxModel",
      "_view_count": null,
      "_view_module": "@jupyter-widgets/controls",
      "_view_module_version": "1.5.0",
      "_view_name": "HBoxView",
      "box_style": "",
      "children": [
       "IPY_MODEL_d984760aa8ab4ddeb5b8833dec265739",
       "IPY_MODEL_bc81461db96446b2aaff9ddc316f8b66",
       "IPY_MODEL_cbeb5d0a1d9143e991094327a598f906"
      ],
      "layout": "IPY_MODEL_023a6d6f813e4f7ea01778bb849688db"
     }
    },
    "d984760aa8ab4ddeb5b8833dec265739": {
     "model_module": "@jupyter-widgets/controls",
     "model_name": "HTMLModel",
     "model_module_version": "1.5.0",
     "state": {
      "_dom_classes": [],
      "_model_module": "@jupyter-widgets/controls",
      "_model_module_version": "1.5.0",
      "_model_name": "HTMLModel",
      "_view_count": null,
      "_view_module": "@jupyter-widgets/controls",
      "_view_module_version": "1.5.0",
      "_view_name": "HTMLView",
      "description": "",
      "description_tooltip": null,
      "layout": "IPY_MODEL_29dfc2d9d53742118e0ad7b74ce6ef6c",
      "placeholder": "​",
      "style": "IPY_MODEL_cd74e5e787ce4a62a00fabc122c7743a",
      "value": "100%"
     }
    },
    "bc81461db96446b2aaff9ddc316f8b66": {
     "model_module": "@jupyter-widgets/controls",
     "model_name": "FloatProgressModel",
     "model_module_version": "1.5.0",
     "state": {
      "_dom_classes": [],
      "_model_module": "@jupyter-widgets/controls",
      "_model_module_version": "1.5.0",
      "_model_name": "FloatProgressModel",
      "_view_count": null,
      "_view_module": "@jupyter-widgets/controls",
      "_view_module_version": "1.5.0",
      "_view_name": "ProgressView",
      "bar_style": "success",
      "description": "",
      "description_tooltip": null,
      "layout": "IPY_MODEL_6c5e4af1a9684977b6eb6e2a12f7f661",
      "max": 5148,
      "min": 0,
      "orientation": "horizontal",
      "style": "IPY_MODEL_5a164f0d7127483eaea57670b0e6ade3",
      "value": 5148
     }
    },
    "cbeb5d0a1d9143e991094327a598f906": {
     "model_module": "@jupyter-widgets/controls",
     "model_name": "HTMLModel",
     "model_module_version": "1.5.0",
     "state": {
      "_dom_classes": [],
      "_model_module": "@jupyter-widgets/controls",
      "_model_module_version": "1.5.0",
      "_model_name": "HTMLModel",
      "_view_count": null,
      "_view_module": "@jupyter-widgets/controls",
      "_view_module_version": "1.5.0",
      "_view_name": "HTMLView",
      "description": "",
      "description_tooltip": null,
      "layout": "IPY_MODEL_cb80a7f4cbfc41d0b2a005fb06297c8e",
      "placeholder": "​",
      "style": "IPY_MODEL_9e30d8b558eb4fa49d20a0fe17662c9b",
      "value": " 5148/5148 [00:00&lt;00:00, 300017.74it/s]"
     }
    },
    "023a6d6f813e4f7ea01778bb849688db": {
     "model_module": "@jupyter-widgets/base",
     "model_name": "LayoutModel",
     "model_module_version": "1.2.0",
     "state": {
      "_model_module": "@jupyter-widgets/base",
      "_model_module_version": "1.2.0",
      "_model_name": "LayoutModel",
      "_view_count": null,
      "_view_module": "@jupyter-widgets/base",
      "_view_module_version": "1.2.0",
      "_view_name": "LayoutView",
      "align_content": null,
      "align_items": null,
      "align_self": null,
      "border": null,
      "bottom": null,
      "display": null,
      "flex": null,
      "flex_flow": null,
      "grid_area": null,
      "grid_auto_columns": null,
      "grid_auto_flow": null,
      "grid_auto_rows": null,
      "grid_column": null,
      "grid_gap": null,
      "grid_row": null,
      "grid_template_areas": null,
      "grid_template_columns": null,
      "grid_template_rows": null,
      "height": null,
      "justify_content": null,
      "justify_items": null,
      "left": null,
      "margin": null,
      "max_height": null,
      "max_width": null,
      "min_height": null,
      "min_width": null,
      "object_fit": null,
      "object_position": null,
      "order": null,
      "overflow": null,
      "overflow_x": null,
      "overflow_y": null,
      "padding": null,
      "right": null,
      "top": null,
      "visibility": null,
      "width": null
     }
    },
    "29dfc2d9d53742118e0ad7b74ce6ef6c": {
     "model_module": "@jupyter-widgets/base",
     "model_name": "LayoutModel",
     "model_module_version": "1.2.0",
     "state": {
      "_model_module": "@jupyter-widgets/base",
      "_model_module_version": "1.2.0",
      "_model_name": "LayoutModel",
      "_view_count": null,
      "_view_module": "@jupyter-widgets/base",
      "_view_module_version": "1.2.0",
      "_view_name": "LayoutView",
      "align_content": null,
      "align_items": null,
      "align_self": null,
      "border": null,
      "bottom": null,
      "display": null,
      "flex": null,
      "flex_flow": null,
      "grid_area": null,
      "grid_auto_columns": null,
      "grid_auto_flow": null,
      "grid_auto_rows": null,
      "grid_column": null,
      "grid_gap": null,
      "grid_row": null,
      "grid_template_areas": null,
      "grid_template_columns": null,
      "grid_template_rows": null,
      "height": null,
      "justify_content": null,
      "justify_items": null,
      "left": null,
      "margin": null,
      "max_height": null,
      "max_width": null,
      "min_height": null,
      "min_width": null,
      "object_fit": null,
      "object_position": null,
      "order": null,
      "overflow": null,
      "overflow_x": null,
      "overflow_y": null,
      "padding": null,
      "right": null,
      "top": null,
      "visibility": null,
      "width": null
     }
    },
    "cd74e5e787ce4a62a00fabc122c7743a": {
     "model_module": "@jupyter-widgets/controls",
     "model_name": "DescriptionStyleModel",
     "model_module_version": "1.5.0",
     "state": {
      "_model_module": "@jupyter-widgets/controls",
      "_model_module_version": "1.5.0",
      "_model_name": "DescriptionStyleModel",
      "_view_count": null,
      "_view_module": "@jupyter-widgets/base",
      "_view_module_version": "1.2.0",
      "_view_name": "StyleView",
      "description_width": ""
     }
    },
    "6c5e4af1a9684977b6eb6e2a12f7f661": {
     "model_module": "@jupyter-widgets/base",
     "model_name": "LayoutModel",
     "model_module_version": "1.2.0",
     "state": {
      "_model_module": "@jupyter-widgets/base",
      "_model_module_version": "1.2.0",
      "_model_name": "LayoutModel",
      "_view_count": null,
      "_view_module": "@jupyter-widgets/base",
      "_view_module_version": "1.2.0",
      "_view_name": "LayoutView",
      "align_content": null,
      "align_items": null,
      "align_self": null,
      "border": null,
      "bottom": null,
      "display": null,
      "flex": null,
      "flex_flow": null,
      "grid_area": null,
      "grid_auto_columns": null,
      "grid_auto_flow": null,
      "grid_auto_rows": null,
      "grid_column": null,
      "grid_gap": null,
      "grid_row": null,
      "grid_template_areas": null,
      "grid_template_columns": null,
      "grid_template_rows": null,
      "height": null,
      "justify_content": null,
      "justify_items": null,
      "left": null,
      "margin": null,
      "max_height": null,
      "max_width": null,
      "min_height": null,
      "min_width": null,
      "object_fit": null,
      "object_position": null,
      "order": null,
      "overflow": null,
      "overflow_x": null,
      "overflow_y": null,
      "padding": null,
      "right": null,
      "top": null,
      "visibility": null,
      "width": null
     }
    },
    "5a164f0d7127483eaea57670b0e6ade3": {
     "model_module": "@jupyter-widgets/controls",
     "model_name": "ProgressStyleModel",
     "model_module_version": "1.5.0",
     "state": {
      "_model_module": "@jupyter-widgets/controls",
      "_model_module_version": "1.5.0",
      "_model_name": "ProgressStyleModel",
      "_view_count": null,
      "_view_module": "@jupyter-widgets/base",
      "_view_module_version": "1.2.0",
      "_view_name": "StyleView",
      "bar_color": null,
      "description_width": ""
     }
    },
    "cb80a7f4cbfc41d0b2a005fb06297c8e": {
     "model_module": "@jupyter-widgets/base",
     "model_name": "LayoutModel",
     "model_module_version": "1.2.0",
     "state": {
      "_model_module": "@jupyter-widgets/base",
      "_model_module_version": "1.2.0",
      "_model_name": "LayoutModel",
      "_view_count": null,
      "_view_module": "@jupyter-widgets/base",
      "_view_module_version": "1.2.0",
      "_view_name": "LayoutView",
      "align_content": null,
      "align_items": null,
      "align_self": null,
      "border": null,
      "bottom": null,
      "display": null,
      "flex": null,
      "flex_flow": null,
      "grid_area": null,
      "grid_auto_columns": null,
      "grid_auto_flow": null,
      "grid_auto_rows": null,
      "grid_column": null,
      "grid_gap": null,
      "grid_row": null,
      "grid_template_areas": null,
      "grid_template_columns": null,
      "grid_template_rows": null,
      "height": null,
      "justify_content": null,
      "justify_items": null,
      "left": null,
      "margin": null,
      "max_height": null,
      "max_width": null,
      "min_height": null,
      "min_width": null,
      "object_fit": null,
      "object_position": null,
      "order": null,
      "overflow": null,
      "overflow_x": null,
      "overflow_y": null,
      "padding": null,
      "right": null,
      "top": null,
      "visibility": null,
      "width": null
     }
    },
    "9e30d8b558eb4fa49d20a0fe17662c9b": {
     "model_module": "@jupyter-widgets/controls",
     "model_name": "DescriptionStyleModel",
     "model_module_version": "1.5.0",
     "state": {
      "_model_module": "@jupyter-widgets/controls",
      "_model_module_version": "1.5.0",
      "_model_name": "DescriptionStyleModel",
      "_view_count": null,
      "_view_module": "@jupyter-widgets/base",
      "_view_module_version": "1.2.0",
      "_view_name": "StyleView",
      "description_width": ""
     }
    }
   }
  }
 },
 "nbformat": 4,
 "nbformat_minor": 0
}