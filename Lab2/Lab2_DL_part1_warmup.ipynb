{
  "cells": [
    {
      "cell_type": "markdown",
      "metadata": {
        "id": "uJ_5ECbCAIH-"
      },
      "source": [
        "## Lab 2"
      ]
    },
    {
      "cell_type": "markdown",
      "metadata": {
        "id": "X-LjIqgsAIIB"
      },
      "source": [
        "### Part 1. NN from scratch and MNIST warmup (1 point)"
      ]
    },
    {
      "cell_type": "markdown",
      "metadata": {
        "id": "SXbM-ah0AIID"
      },
      "source": [
        "__This part is connected with assignment0_05, you will need to finish it firts. If it is not finished yet, you can work on the next parts.__\n",
        "\n",
        "\n",
        "Please, go to the `week0_07` directory and fill the `main_notebook.ipynb`. Then hand in the completed notebook.\n",
        "\n",
        "If you already done that (e.g. while working on assignment0_05), there is small update in there (which requires you to achieve same results with PyTorch network). Update the notebook or read the notebook in the web version."
      ]
    },
    {
      "cell_type": "markdown",
      "metadata": {
        "id": "VTIVwDzhAIIE"
      },
      "source": [
        "Решение в main_notebook.ipynb ([ссылка на репозиторий](https://github.com/ipodlipnova/MIPT_ML_course/blob/main/Lab2/main_notebook.ipynb))"
      ]
    },
    {
      "cell_type": "code",
      "source": [],
      "metadata": {
        "id": "yAvMLo18AXEh"
      },
      "execution_count": null,
      "outputs": []
    }
  ],
  "metadata": {
    "anaconda-cloud": {},
    "kernelspec": {
      "display_name": "Python 3",
      "language": "python",
      "name": "python3"
    },
    "language_info": {
      "codemirror_mode": {
        "name": "ipython",
        "version": 3
      },
      "file_extension": ".py",
      "mimetype": "text/x-python",
      "name": "python",
      "nbconvert_exporter": "python",
      "pygments_lexer": "ipython3",
      "version": "3.7.7"
    },
    "colab": {
      "provenance": []
    }
  },
  "nbformat": 4,
  "nbformat_minor": 0
}