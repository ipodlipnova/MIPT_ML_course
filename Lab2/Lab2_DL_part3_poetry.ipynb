{
  "cells": [
    {
      "cell_type": "markdown",
      "metadata": {
        "id": "xydOZU3y2rN5"
      },
      "source": [
        "## Lab 2"
      ]
    },
    {
      "cell_type": "markdown",
      "metadata": {
        "id": "HuVh12xy2rN_"
      },
      "source": [
        "### Part 3. Poetry generation\n",
        "\n",
        "Let's try to generate some poetry using RNNs. \n",
        "\n",
        "You have several choices here: \n",
        "\n",
        "* The Shakespeare sonnets, file `sonnets.txt` available in the notebook directory.\n",
        "\n",
        "* Роман в стихах \"Евгений Онегин\" Александра Сергеевича Пушкина. В предобработанном виде доступен по [ссылке](https://github.com/attatrol/data_sources/blob/master/onegin.txt).\n",
        "\n",
        "* Some other text source, if it will be approved by the course staff.\n",
        "\n",
        "Text generation can be designed in several steps:\n",
        "    \n",
        "1. Data loading.\n",
        "2. Dictionary generation.\n",
        "3. Data preprocessing.\n",
        "4. Model (neural network) training.\n",
        "5. Text generation (model evaluation).\n"
      ]
    },
    {
      "cell_type": "code",
      "execution_count": 1,
      "metadata": {
        "id": "i_cUK_9K2rOB"
      },
      "outputs": [],
      "source": [
        "import string\n",
        "import os"
      ]
    },
    {
      "cell_type": "markdown",
      "metadata": {
        "id": "RpFjag4y2rOD"
      },
      "source": [
        "### Data loading: Shakespeare"
      ]
    },
    {
      "cell_type": "markdown",
      "metadata": {
        "id": "L8T_xlun2rOD"
      },
      "source": [
        "Shakespeare sonnets are awailable at this [link](http://www.gutenberg.org/ebooks/1041?msg=welcome_stranger). In addition, they are stored in the same directory as this notebook (`sonnetes.txt`). Simple preprocessing is already done for you in the next cell: all technical info is dropped."
      ]
    },
    {
      "cell_type": "code",
      "execution_count": 2,
      "metadata": {
        "collapsed": true,
        "id": "jy8KbEAr2rOE",
        "colab": {
          "base_uri": "https://localhost:8080/"
        },
        "outputId": "bdebd83b-1441-4c39-aef2-a7ff71e85e40"
      },
      "outputs": [
        {
          "output_type": "stream",
          "name": "stdout",
          "text": [
            "--2023-01-06 14:30:12--  https://raw.githubusercontent.com/girafe-ai/ml-course/22f_basic/homeworks/lab02_deep_learning/sonnets.txt\n",
            "Resolving raw.githubusercontent.com (raw.githubusercontent.com)... 185.199.109.133, 185.199.108.133, 185.199.111.133, ...\n",
            "Connecting to raw.githubusercontent.com (raw.githubusercontent.com)|185.199.109.133|:443... connected.\n",
            "HTTP request sent, awaiting response... 200 OK\n",
            "Length: 119748 (117K) [text/plain]\n",
            "Saving to: ‘sonnets.txt’\n",
            "\n",
            "\rsonnets.txt           0%[                    ]       0  --.-KB/s               \rsonnets.txt         100%[===================>] 116.94K  --.-KB/s    in 0.003s  \n",
            "\n",
            "2023-01-06 14:30:12 (34.5 MB/s) - ‘sonnets.txt’ saved [119748/119748]\n",
            "\n"
          ]
        }
      ],
      "source": [
        "if not os.path.exists('sonnets.txt'):\n",
        "    !wget https://raw.githubusercontent.com/girafe-ai/ml-course/22f_basic/homeworks/lab02_deep_learning/sonnets.txt\n",
        "\n",
        "with open('sonnets.txt', 'r') as iofile:\n",
        "    text = iofile.readlines()\n",
        "    \n",
        "TEXT_START = 45\n",
        "TEXT_END = -368\n",
        "text = text[TEXT_START : TEXT_END]\n",
        "assert len(text) == 2616"
      ]
    },
    {
      "cell_type": "markdown",
      "metadata": {
        "id": "L_l4RHxF2rOF"
      },
      "source": [
        "In opposite to the in-class practice, this time we want to predict complex text. Let's reduce the complexity of the task and lowercase all the symbols.\n",
        "\n",
        "Now variable `text` is a list of strings. Join all the strings into one and lowercase it."
      ]
    },
    {
      "cell_type": "code",
      "execution_count": 3,
      "metadata": {
        "colab": {
          "base_uri": "https://localhost:8080/"
        },
        "id": "jo7U-eRg2rOG",
        "outputId": "697528d3-d823-45d6-d0f3-b2274f291b20"
      },
      "outputs": [
        {
          "output_type": "stream",
          "name": "stdout",
          "text": [
            "OK!\n"
          ]
        }
      ],
      "source": [
        "# Join all the strings into one and lowercase it\n",
        "# Put result into variable text.\n",
        "text = ''.join(text).lower()\n",
        "\n",
        "# Your great code here\n",
        "\n",
        "assert len(text) == 100225, 'Are you sure you have concatenated all the strings?'\n",
        "assert not any([x in set(text) for x in string.ascii_uppercase]), 'Uppercase letters are present'\n",
        "print('OK!')"
      ]
    },
    {
      "cell_type": "markdown",
      "metadata": {
        "id": "qhUhddg72rOH"
      },
      "source": [
        "### Data loading: \"Евгений Онегин\"\n"
      ]
    },
    {
      "cell_type": "code",
      "execution_count": 2,
      "metadata": {
        "colab": {
          "base_uri": "https://localhost:8080/"
        },
        "id": "8a_Zu7pD2rOH",
        "outputId": "08d7f33a-82b4-4417-a372-4055bb022608"
      },
      "outputs": [
        {
          "output_type": "stream",
          "name": "stdout",
          "text": [
            "--2023-01-03 16:24:28--  https://raw.githubusercontent.com/attatrol/data_sources/master/onegin.txt\n",
            "Resolving raw.githubusercontent.com (raw.githubusercontent.com)... 185.199.109.133, 185.199.110.133, 185.199.108.133, ...\n",
            "Connecting to raw.githubusercontent.com (raw.githubusercontent.com)|185.199.109.133|:443... connected.\n",
            "HTTP request sent, awaiting response... 200 OK\n",
            "Length: 262521 (256K) [text/plain]\n",
            "Saving to: ‘onegin.txt’\n",
            "\n",
            "onegin.txt          100%[===================>] 256.37K  --.-KB/s    in 0.03s   \n",
            "\n",
            "2023-01-03 16:24:28 (8.12 MB/s) - ‘onegin.txt’ saved [262521/262521]\n",
            "\n"
          ]
        }
      ],
      "source": [
        "# !wget https://raw.githubusercontent.com/attatrol/data_sources/master/onegin.txt\n",
        "    \n",
        "# with open('onegin.txt', 'r') as iofile:\n",
        "#     text = iofile.readlines()\n",
        "    \n",
        "# text = [x.replace('\\t\\t', '') for x in text]"
      ]
    },
    {
      "cell_type": "markdown",
      "metadata": {
        "id": "z7L-aoEh2rOI"
      },
      "source": [
        "In opposite to the in-class practice, this time we want to predict complex text. Let's reduce the complexity of the task and lowercase all the symbols.\n",
        "\n",
        "Now variable `text` is a list of strings. Join all the strings into one and lowercase it."
      ]
    },
    {
      "cell_type": "code",
      "execution_count": 3,
      "metadata": {
        "id": "X3RQ2vcp2rOI",
        "colab": {
          "base_uri": "https://localhost:8080/"
        },
        "outputId": "fddbb50c-5caa-401a-f617-60dc997c10c0"
      },
      "outputs": [
        {
          "output_type": "stream",
          "name": "stdout",
          "text": [
            "OK!\n"
          ]
        }
      ],
      "source": [
        "# Join all the strings into one and lowercase it\n",
        "# Put result into variable text.\n",
        "# text = ''.join(text).lower()\n",
        "\n",
        "# Your great code here\n",
        "\n",
        "# assert len(text) == 100225, 'Are you sure you have concatenated all the strings?'\n",
        "# assert not any([x in set(text) for x in string.ascii_uppercase]), 'Uppercase letters are present'\n",
        "# print('OK!')"
      ]
    },
    {
      "cell_type": "markdown",
      "metadata": {
        "id": "zfWh84mX2rOJ"
      },
      "source": [
        "Put all the characters, that you've seen in the text, into variable `tokens`."
      ]
    },
    {
      "cell_type": "code",
      "execution_count": 4,
      "metadata": {
        "id": "yvnk3YXg2rOK"
      },
      "outputs": [],
      "source": [
        "tokens = sorted(set(text))"
      ]
    },
    {
      "cell_type": "markdown",
      "metadata": {
        "id": "DJNeg0tK2rOK"
      },
      "source": [
        "Create dictionary `token_to_idx = {<char>: <index>}` and dictionary `idx_to_token = {<index>: <char>}`"
      ]
    },
    {
      "cell_type": "code",
      "execution_count": 5,
      "metadata": {
        "collapsed": true,
        "id": "aR58g1bD2rOK"
      },
      "outputs": [],
      "source": [
        "# dict <index>:<char>\n",
        "# Your great code here\n",
        "token_to_idx = {char: index for index, char in enumerate(tokens)}\n",
        "# dict <char>:<index>\n",
        "# Your great code here\n",
        "idx_to_token = {index: char for index, char in enumerate(tokens)}"
      ]
    },
    {
      "cell_type": "markdown",
      "metadata": {
        "id": "WNJRmFCo2rOL"
      },
      "source": [
        "*Comment: in this task we have only 38 different tokens, so let's use one-hot encoding.*"
      ]
    },
    {
      "cell_type": "markdown",
      "metadata": {
        "id": "en4haRQt2rOM"
      },
      "source": [
        "### Building the model"
      ]
    },
    {
      "cell_type": "markdown",
      "metadata": {
        "id": "1HoQr3pv2rOM"
      },
      "source": [
        "Now we want to build and train recurrent neural net which would be able to something similar to Shakespeare's poetry.\n",
        "\n",
        "Let's use vanilla RNN, similar to the one created during the lesson."
      ]
    },
    {
      "cell_type": "code",
      "source": [
        "import numpy as np\n",
        "import matplotlib.pyplot as plt\n",
        "%matplotlib inline\n",
        "\n",
        "import random"
      ],
      "metadata": {
        "id": "ONr6A_2tVd-9"
      },
      "execution_count": 6,
      "outputs": []
    },
    {
      "cell_type": "code",
      "source": [
        "def to_matrix(text, max_len, batch_size):\n",
        "    \"\"\"Casts a list of texts into rnn-digestable matrix\"\"\"\n",
        "    \n",
        "    text_idx = random.sample(range(len(text) - max_len), batch_size)\n",
        "\n",
        "    text_batch = []\n",
        "    for idx in text_idx:\n",
        "      text_batch.append([token_to_idx[c] for c in text[idx:idx + max_len]])\n",
        "\n",
        "    return np.array(text_batch)"
      ],
      "metadata": {
        "id": "ILihvL8Q89jo"
      },
      "execution_count": 7,
      "outputs": []
    },
    {
      "cell_type": "code",
      "source": [
        "import torch, torch.nn as nn\n",
        "import torch.nn.functional as F"
      ],
      "metadata": {
        "id": "q9GEgb8gXFcj"
      },
      "execution_count": 8,
      "outputs": []
    },
    {
      "cell_type": "code",
      "source": [
        "device = 'cuda:0' if torch.cuda.is_available() else 'cpu'"
      ],
      "metadata": {
        "id": "z-2pKgkZGQSl"
      },
      "execution_count": 9,
      "outputs": []
    },
    {
      "cell_type": "code",
      "source": [
        "class CharRNNCell(nn.Module):\n",
        "    \"\"\"\n",
        "    Implement the scheme above as torch module\n",
        "    \"\"\"\n",
        "    def __init__(self, num_tokens=len(tokens), embedding_size=18, rnn_num_units=64):\n",
        "        super(self.__class__,self).__init__()\n",
        "        self.num_units = rnn_num_units\n",
        "        \n",
        "        self.embedding = nn.Embedding(num_tokens, embedding_size)\n",
        "        self.rnn_update = nn.Linear(embedding_size + rnn_num_units, rnn_num_units)\n",
        "        self.rnn_to_logits = nn.Linear(rnn_num_units, num_tokens)\n",
        "        \n",
        "    def forward(self, x, h_prev):\n",
        "        \"\"\"\n",
        "        This method computes h_next(x, h_prev) and log P(x_next | h_next)\n",
        "        We'll call it repeatedly to produce the whole sequence.\n",
        "        \n",
        "        :param x: batch of character ids, containing vector of int64\n",
        "        :param h_prev: previous rnn hidden states, containing matrix [batch, rnn_num_units] of float32\n",
        "        \"\"\"\n",
        "        # get vector embedding of x\n",
        "        x_emb = self.embedding(x)\n",
        "        \n",
        "        # compute next hidden state using self.rnn_update\n",
        "        # hint: use torch.cat(..., dim=...) for concatenation\n",
        "        x_and_h = torch.cat([x_emb.to(device), h_prev.to(device)], dim=-1) #YOUR CODE HERE\n",
        "        h_next = self.rnn_update(x_and_h)\n",
        "        \n",
        "        h_next = torch.tanh(h_next) #YOUR CODE HERE\n",
        "        \n",
        "        assert h_next.size() == h_prev.size()\n",
        "        \n",
        "        #compute logits for next character probs\n",
        "        logits = self.rnn_to_logits(h_next) #YOUR CODE\n",
        "        \n",
        "        return h_next, logits\n",
        "    \n",
        "    def initial_state(self, batch_size):\n",
        "        \"\"\" return rnn state before it processes first input (aka h0) \"\"\"\n",
        "        return torch.zeros(batch_size, self.num_units, requires_grad=True)"
      ],
      "metadata": {
        "id": "NNcPRZ-H9Pl_"
      },
      "execution_count": 18,
      "outputs": []
    },
    {
      "cell_type": "code",
      "source": [
        "hyperparams = {\n",
        "    'depth': 11,\n",
        "    'length': 24\n",
        "}"
      ],
      "metadata": {
        "id": "LuqhfsP-XIPn"
      },
      "execution_count": 11,
      "outputs": []
    },
    {
      "cell_type": "code",
      "source": [
        "num_tokens = len(tokens)"
      ],
      "metadata": {
        "id": "AGySY-y0X6-r"
      },
      "execution_count": 12,
      "outputs": []
    },
    {
      "cell_type": "code",
      "source": [
        "char_rnn = CharRNNCell().to(device)"
      ],
      "metadata": {
        "id": "zKyxQh7rXO3p"
      },
      "execution_count": 19,
      "outputs": []
    },
    {
      "cell_type": "code",
      "source": [
        "def rnn_loop(char_rnn, batch_ix):\n",
        "    \"\"\"\n",
        "    Computes log P(next_character) for all time-steps in names_ix\n",
        "    :param names_ix: an int32 matrix of shape [batch, time], output of to_matrix(names)\n",
        "    \"\"\"\n",
        "    batch_size, max_length = batch_ix.size()\n",
        "    hid_state = char_rnn.initial_state(batch_size)\n",
        "    logits = []\n",
        "\n",
        "    for x_t in batch_ix.transpose(0,1):\n",
        "        hid_state, logits_next = char_rnn(x_t, hid_state)  # <-- here we call your one-step code\n",
        "        logits.append(logits_next)\n",
        "        \n",
        "    return torch.stack(logits, dim=1)"
      ],
      "metadata": {
        "id": "yeWETNoBXTEq"
      },
      "execution_count": 20,
      "outputs": []
    },
    {
      "cell_type": "code",
      "source": [
        "from IPython.display import clear_output\n",
        "from random import sample\n",
        "\n",
        "char_rnn = CharRNNCell()\n",
        "opt = torch.optim.Adam(char_rnn.parameters())\n",
        "loss_func = nn.CrossEntropyLoss()\n",
        "\n",
        "history = []"
      ],
      "metadata": {
        "id": "cXFoieFzXo1x"
      },
      "execution_count": 63,
      "outputs": []
    },
    {
      "cell_type": "markdown",
      "metadata": {
        "id": "WQC8djA62rON"
      },
      "source": [
        "Plot the loss function (axis X: number of epochs, axis Y: loss function)."
      ]
    },
    {
      "cell_type": "code",
      "source": [
        "MAX_LENGTH = 200\n",
        "\n",
        "for i in range(2000):\n",
        "    batch_ix = to_matrix(text, max_len=MAX_LENGTH, batch_size=32)\n",
        "    batch_ix = torch.tensor(batch_ix, dtype=torch.int64).to(device)\n",
        "    \n",
        "    logits_seq = rnn_loop(char_rnn.to(device), batch_ix.to(device))\n",
        "    \n",
        "    # compute loss\n",
        "    #\n",
        "    predictions_logits = logits_seq[:, :-1]\n",
        "    actual_next_tokens = batch_ix[:, 1:]\n",
        "\n",
        "    loss = loss_func(\n",
        "    predictions_logits.reshape((-1, num_tokens)),\n",
        "    actual_next_tokens.reshape(-1)\n",
        "    )\n",
        "    loss.backward()\n",
        "    opt.step()\n",
        "    \n",
        "    opt.zero_grad()\n",
        "    \n",
        "    history.append(loss.data.item())\n",
        "    if (i+1)%100==0:\n",
        "        clear_output(True)\n",
        "        plt.plot(history,label='loss')\n",
        "        plt.legend()\n",
        "        plt.show()\n",
        "\n",
        "assert np.mean(history[:10]) > np.mean(history[-10:]), \"RNN didn't converge.\""
      ],
      "metadata": {
        "colab": {
          "base_uri": "https://localhost:8080/",
          "height": 264
        },
        "id": "mFLPc910Xsdf",
        "outputId": "e35118f6-290c-45d7-85c9-7cef7aea1ade"
      },
      "execution_count": 64,
      "outputs": [
        {
          "output_type": "display_data",
          "data": {
            "text/plain": [
              "<Figure size 432x288 with 1 Axes>"
            ],
            "image/png": "[encoded data removed]"
          },
          "metadata": {
            "needs_background": "light"
          }
        }
      ]
    },
    {
      "cell_type": "code",
      "source": [
        "def generate_sample(char_rnn, seed_phrase=' Hello '.lower(), max_length=MAX_LENGTH, temperature=1.0):\n",
        "    '''\n",
        "    The function generates text given a phrase of length at least SEQ_LENGTH.\n",
        "    :param seed_phrase: prefix characters. The RNN is asked to continue the phrase\n",
        "    :param max_length: maximum output length, including seed_phrase\n",
        "    :param temperature: coefficient for sampling.  higher temperature produces more chaotic outputs,\n",
        "                        smaller temperature converges to the single most likely output\n",
        "    '''\n",
        "    \n",
        "    x_sequence = [token_to_idx[token] for token in seed_phrase]\n",
        "    x_sequence = torch.tensor([x_sequence], dtype=torch.int64)\n",
        "    hid_state = char_rnn.initial_state(batch_size=1)\n",
        "    \n",
        "    #feed the seed phrase, if any\n",
        "    for i in range(len(seed_phrase) - 1):\n",
        "        hid_state, _ = char_rnn(x_sequence[:, i].to(device), hid_state.to(device))\n",
        "    \n",
        "    #start generating\n",
        "    for _ in range(max_length - len(seed_phrase)):\n",
        "        hid_state, logits_next = char_rnn(x_sequence[:, -1].to(device), hid_state.to(device))\n",
        "        p_next = F.softmax(logits_next.cpu() / temperature, dim=-1).data.numpy()[0]\n",
        "        \n",
        "        # sample next token and push it back into x_sequence\n",
        "        next_ix = np.random.choice(num_tokens, p=p_next)\n",
        "        next_ix = torch.tensor([[next_ix]], dtype=torch.int64)\n",
        "        x_sequence = torch.cat([x_sequence, next_ix], dim=1)\n",
        "        # if next_ix == token_to_id['>']:\n",
        "        #   break\n",
        "    return ''.join([tokens[ix] for ix in x_sequence.data.numpy()[0]])"
      ],
      "metadata": {
        "id": "rKTbp7mKvwQ9"
      },
      "execution_count": 37,
      "outputs": []
    },
    {
      "cell_type": "code",
      "source": [
        "print(generate_sample(char_rnn, max_length=500, temperature=0.9))"
      ],
      "metadata": {
        "colab": {
          "base_uri": "https://localhost:8080/"
        },
        "id": "h8PjAKfzYthk",
        "outputId": "e34c9ca8-04f3-451b-e82a-207ee37fdbab"
      },
      "execution_count": 38,
      "outputs": [
        {
          "output_type": "stream",
          "name": "stdout",
          "text": [
            " hello worce that frong theey dea'd,-spefore not hive in cind of bagies have is swade.\n",
            "\n",
            "  and and kartt no the bate so guin\n",
            "  decense bunforee in all wherences:\n",
            "   fart'd wnow's spofte tand, not of dircict rick is proure dislowide,\n",
            "  confeon tearet miting the roumto i my sowwless of detosinom alfet chass yak besures oc dyat not thy sare, shalt, nubsabe so love to charl'd lovouil thou thou live cordefere you deseld shall doth from by dose blest painter witowes a so mate,\n",
            "  surwing truv's of lxxii\n"
          ]
        }
      ]
    },
    {
      "cell_type": "code",
      "source": [
        "for temp in [0.1, 0.2, 0.5, 1.0, 2.0]:\n",
        "    print(f'\\nTemperature {temp}:')\n",
        "    print(generate_sample(char_rnn, max_length=500, temperature=temp))"
      ],
      "metadata": {
        "colab": {
          "base_uri": "https://localhost:8080/"
        },
        "id": "6QSW6ThrhkEr",
        "outputId": "3e0681d6-4f52-4a00-95a3-220224fc40ef"
      },
      "execution_count": 65,
      "outputs": [
        {
          "output_type": "stream",
          "name": "stdout",
          "text": [
            "\n",
            "Temperature 0.1:\n",
            " hello the sone the shall the stand the shall stand the shall the should the sungurs the stand the stand the self the stand the sone the shall stand the sone the shall the shall the stand the shall shall stand the shall the stand the sungurs the stand the show the stand the stand the will the sungurs the stand the shall the with the shall the shall the sungurs the shall stand the stand the shall the sungurs the shall the stand the stand the shall stand the sungurs the with the stand the stand th\n",
            "\n",
            "Temperature 0.2:\n",
            " hello shall steet the shall strends the for the songer strange the should the show of the sense the stand the sungurs the stand the worth the sunder the show the stranger the thee the stand the stand the stand the with the with the stand the sungurs the stand with all the sunguring the sungurs the with the sungurs the sungurs the stand the sungurs the shall my shall the the strong the praise the should the shall the shall my state the shall the shall so state the sungurs the sense the self the \n",
            "\n",
            "Temperature 0.5:\n",
            " hello fair summer'd give to that be these they bradt in that that i world deat,\n",
            "  and so wrong the stand the suprestime and porred ap thee, and to can i for the shall streng, shall his the desire,\n",
            "  this a self his thee, as thou my my and all the self have hath one the for my my bead love of my strong thou dear that do the will thou thou sunst in and that is so beauty the books when the ead thy grace the wanthould the beauter beauty and thine love and that to the will of the love all the more a\n",
            "\n",
            "Temperature 1.0:\n",
            " hello counce-lwel of where shours delave ingrecitan will far,   alter-there thy lend comang thou graisel detion those rackis and sentelf-elt'se to grean loom brome,\n",
            "  whee's, you,\n",
            "  delich mout of hee vire than in one firgen so slain'd\n",
            "  thy age that deasest sigh,\n",
            "  that when acker'd tay tasery grusite, but sterely thour it, adt, ulledes inlear in love geffectent dupfort fair sight for but wrough myshes to not nituse of adey,\n",
            "  no moursy vote, epone my sun be viend-comm dethes cood grage thy th\n",
            "\n",
            "Temperature 2.0:\n",
            " hello ither if for nembay,\n",
            "   al; havenkedonbalirk;\n",
            "  wimn\n",
            "  ctimure.\n",
            "  myoquemnouh,! eiv'st\n",
            "  a doue slaan;\n",
            " crystuen,\n",
            "  and thous,, bris,\n",
            "  to weartkuwer's.\n",
            "\n",
            "\n",
            " so hom dos, o yinoxre-po-ttalse;\n",
            "  freece.\n",
            "  mixqlf beautuan hehplevine\n",
            "  swceaviq?t,\n",
            "  tince\n",
            "  iljo,\n",
            "  thence-all.\n",
            "\n",
            "y,!! yetc:,\n",
            " noo prove yote:\n",
            "  wre snit;\n",
            "  hith,uqjygy' row; dos paip.\n",
            "!\n",
            " ix:\n",
            "\n",
            " shimywucrste;\n",
            "  peidtag's love?\n",
            "  fartly-gbeny go'djobl:\n",
            " ig liol rnwhtlys mlirst:\n",
            "  niintse ou ganuniagur's:\n",
            "  a mpothy 'focress facag rrav\n"
          ]
        }
      ]
    },
    {
      "cell_type": "markdown",
      "metadata": {
        "id": "rVsFkKIL2rOP"
      },
      "source": [
        "### More poetic model\n",
        "\n",
        "Let's use LSTM instead of vanilla RNN and compare the results."
      ]
    },
    {
      "cell_type": "markdown",
      "metadata": {
        "id": "INwTIbhV2rOQ"
      },
      "source": [
        "Plot the loss function of the number of epochs. Does the final loss become better?"
      ]
    },
    {
      "cell_type": "code",
      "execution_count": 57,
      "metadata": {
        "collapsed": true,
        "id": "tQsXvuoX2rOQ"
      },
      "outputs": [],
      "source": [
        "# Your beautiful code here\n",
        "class CharRNN_LSTMCell(nn.Module):\n",
        "    \"\"\"\n",
        "    Implement the scheme above as torch module\n",
        "    \"\"\"\n",
        "    def __init__(self, num_tokens=len(tokens), embedding_size=18, rnn_num_units=256, dropout=0.2):\n",
        "        super(self.__class__,self).__init__()\n",
        "        self.num_units = rnn_num_units\n",
        "        \n",
        "        self.embedding = nn.Embedding(num_tokens, embedding_size)\n",
        "        self.dropout = nn.Dropout(dropout)\n",
        "        \n",
        "        self.rnn_update = nn.LSTM(embedding_size + rnn_num_units, rnn_num_units)\n",
        "        # self.rnn_update = nn.Linear(embedding_size + rnn_num_units, rnn_num_units)\n",
        "        self.rnn_to_logits = nn.Linear(rnn_num_units, num_tokens)\n",
        "        \n",
        "    def forward(self, x, h_prev):\n",
        "        \"\"\"\n",
        "        This method computes h_next(x, h_prev) and log P(x_next | h_next)\n",
        "        We'll call it repeatedly to produce the whole sequence.\n",
        "        \n",
        "        :param x: batch of character ids, containing vector of int64\n",
        "        :param h_prev: previous rnn hidden states, containing matrix [batch, rnn_num_units] of float32\n",
        "        \"\"\"\n",
        "        # get vector embedding of x\n",
        "        x_emb = self.dropout(self.embedding(x))\n",
        "        \n",
        "        # compute next hidden state using self.rnn_update\n",
        "        # hint: use torch.cat(..., dim=...) for concatenation\n",
        "        x_and_h = torch.cat([x_emb.to(device), h_prev.to(device)], dim=-1) #YOUR CODE HERE\n",
        "        h_next, _ = self.rnn_update(x_and_h)\n",
        "        \n",
        "        h_next = torch.tanh(h_next) #YOUR CODE HERE\n",
        "\n",
        "        assert h_next.size() == h_prev.size()\n",
        "        \n",
        "        #compute logits for next character probs\n",
        "        logits = self.rnn_to_logits(h_next) #YOUR CODE\n",
        "        \n",
        "        return h_next, logits\n",
        "    \n",
        "    def initial_state(self, batch_size):\n",
        "        \"\"\" return rnn state before it processes first input (aka h0) \"\"\"\n",
        "        return torch.zeros(batch_size, self.num_units, requires_grad=True)"
      ]
    },
    {
      "cell_type": "code",
      "source": [
        "char_lstm = CharRNN_LSTMCell().to(device)\n",
        "opt = torch.optim.Adam(char_lstm.parameters())\n",
        "loss_func = nn.CrossEntropyLoss()\n",
        "\n",
        "history = []"
      ],
      "metadata": {
        "id": "XjpgZtN-x_k9"
      },
      "execution_count": 58,
      "outputs": []
    },
    {
      "cell_type": "code",
      "source": [
        "MAX_LENGTH = 200\n",
        "\n",
        "for i in range(2000):\n",
        "    batch_ix = to_matrix(text, max_len=MAX_LENGTH, batch_size=32)\n",
        "    batch_ix = torch.tensor(batch_ix, dtype=torch.int64)\n",
        "    \n",
        "    logits_seq = rnn_loop(char_lstm.to(device), batch_ix.to(device))\n",
        "    \n",
        "    # compute loss\n",
        "    #\n",
        "    predictions_logits = logits_seq[:, :-1]\n",
        "    actual_next_tokens = batch_ix[:, 1:]\n",
        "\n",
        "    loss = loss_func(predictions_logits.reshape((-1, num_tokens)).to(device),\n",
        "                     actual_next_tokens.reshape(-1).to(device))\n",
        "    loss.backward()\n",
        "    opt.step()\n",
        "    \n",
        "    opt.zero_grad()\n",
        "    \n",
        "    history.append(loss.data.item())\n",
        "    if (i+1)%100==0:\n",
        "        clear_output(True)\n",
        "        plt.plot(history,label='loss')\n",
        "        plt.legend()\n",
        "        plt.show()\n",
        "\n",
        "assert np.mean(history[:10]) > np.mean(history[-10:]), \"RNN didn't converge.\""
      ],
      "metadata": {
        "colab": {
          "base_uri": "https://localhost:8080/",
          "height": 264
        },
        "id": "kScLwxwRyDq2",
        "outputId": "e7915015-9fe0-4276-a7ca-ecbc56313c11"
      },
      "execution_count": 61,
      "outputs": [
        {
          "output_type": "display_data",
          "data": {
            "text/plain": [
              "<Figure size 432x288 with 1 Axes>"
            ],
            "image/png": "[encoded data removed]"
          },
          "metadata": {
            "needs_background": "light"
          }
        }
      ]
    },
    {
      "cell_type": "markdown",
      "metadata": {
        "id": "rS9jJp8g2rOQ"
      },
      "source": [
        "Generate text using the trained net with different `temperature` parameter: `[0.1, 0.2, 0.5, 1.0, 2.0]`.\n",
        "\n",
        "Evaluate the results visually, try to interpret them."
      ]
    },
    {
      "cell_type": "code",
      "execution_count": 62,
      "metadata": {
        "collapsed": true,
        "id": "rm5Lqc_v2rOQ",
        "colab": {
          "base_uri": "https://localhost:8080/"
        },
        "outputId": "66f66982-5cf9-4c33-ba25-ab30313801e2"
      },
      "outputs": [
        {
          "output_type": "stream",
          "name": "stdout",
          "text": [
            "\n",
            "Temperature 0.1:\n",
            " hello shall the starse the bear thee with the self the stander the say the store the songer the thee are the with the stains the sind the seess the with the sore the with the self the surse the self the beauty the sind the see the say the self the seem the seess the sure the with the sould the see the show the with the sur the state the self the sort the staints the with the surse the with the stand the with the beauty the seem the says the with thee the seess the seest the still the see the wi\n",
            "\n",
            "Temperature 0.2:\n",
            " hello so and beauty the shall and the will the beauty the say in the worth in thee the rost the beauty be the braise the beauty the seed the with the wart the worther the reart the with to show the statee the so doth the conting the seem the shoul the self the sour the still of the ewert that the store the seem the world the prear the doth the sur the seen the love to mour stree the strease the love the surmers shall the the so the strender the beauty the sees of the seen the sar the with the s\n",
            "\n",
            "Temperature 0.5:\n",
            " hello these what the thou and praise doth the hade and the sear;\n",
            "  that shall me worn not speet in the bear my hath and every this sweet i swall be stornd,\n",
            "  what i worth all my waste thy soot the reemn dear,\n",
            "  and the live the feed which and toldakes of the state,\n",
            "  that praise dires bear all the world it all dearst the what still prove's hise all the deare us thou pright thou dest that thus is the truth i which i dead, shall beauty come and hath a lore;\n",
            "  the beauty seep the sumst the some on\n",
            "\n",
            "Temperature 1.0:\n",
            " hello det sweatise whoke, to anjenh if shill padst mays wold-hothou hadest;\n",
            "  in the verm thee.\n",
            "\n",
            "  xcoet\n",
            "  ey farber rececainst.\n",
            "  blinhth\n",
            "\n",
            "  like, but hounh\n",
            "e hall should lhess, or thou hands,\n",
            "  have oulove and greaatcher sight\n",
            "  no mysumed guve\n",
            "  at nut mone with 'then cor you a dofory stose to shaye their swainon, khour dowi sifsess is have eyin kange worn have pord losting \n",
            " befrew\n",
            "  pua,\n",
            "  thine, lave i low,\n",
            "  and thine,\n",
            "  that thy befuce;\n",
            "   rifee? by but parned;  tooe,\n",
            "  shil\n",
            "  foutheare\n",
            "\n",
            "Temperature 2.0:\n",
            " hello elixaofaks.\n",
            "f ctyt, i swhet skinnt mightimgpt';d\n",
            "  thom nokers\n",
            " hep fipv-h\n",
            "loyt,allaw lacging twefumv,ealemtrad.\n",
            "\n",
            " san' ualeite,e\n",
            "  lrvew'\n",
            "  atielt\n",
            "  bla\n",
            "  swethat brone.\n",
            "  lgyingeik\n",
            "  for, lnst;ut,\n",
            "  wherc\n",
            "; i, nrove or jiov l'z.\n",
            ", walnaltom ajea!n bo e.erseficts?\n",
            "  bly. hoogiig't\n",
            "  mise?i,\n",
            " conmensuves'sn sest erhal.\n",
            "\n",
            "  apg'aancay\n",
            "\n",
            " ncyin. -xcilvrand'\n",
            "    leesp'me;\n",
            "  beed?c. seeet;\n",
            "  hiies:\n",
            "  yvic\n",
            "--moselfot.\n",
            "  puxc!\n",
            "c  -el us jesb h eimic.\n",
            "\n",
            "  cexenes pact, obvurn?e;, wnow delivst dicsm\n"
          ]
        }
      ],
      "source": [
        "# Text generation with different temperature values here\n",
        "for temp in [0.1, 0.2, 0.5, 1.0, 2.0]:\n",
        "    print(f'\\nTemperature {temp}:')\n",
        "    print(generate_sample(char_lstm, max_length=500, temperature=temp))"
      ]
    },
    {
      "cell_type": "markdown",
      "metadata": {
        "id": "pJJI9ITB2rOR"
      },
      "source": [
        "### Saving and loading models"
      ]
    },
    {
      "cell_type": "markdown",
      "metadata": {
        "id": "cccEBUMv2rOR"
      },
      "source": [
        "Save the model to the disk, then load it and generate text. Examples are available [here](https://pytorch.org/tutorials/beginner/saving_loading_models.html])."
      ]
    },
    {
      "cell_type": "code",
      "source": [
        "from google.colab import drive\n",
        "drive.mount('/content/drive')"
      ],
      "metadata": {
        "colab": {
          "base_uri": "https://localhost:8080/"
        },
        "id": "BK_3qfnR0zsb",
        "outputId": "586742b1-a341-4842-c453-3a8190338ba9"
      },
      "execution_count": 66,
      "outputs": [
        {
          "output_type": "stream",
          "name": "stdout",
          "text": [
            "Mounted at /content/drive\n"
          ]
        }
      ]
    },
    {
      "cell_type": "code",
      "execution_count": 69,
      "metadata": {
        "collapsed": true,
        "id": "q2q3fQkL2rOS"
      },
      "outputs": [],
      "source": [
        "# Saving and loading code here\n",
        "PATH = '/content/drive/MyDrive/lstm.pt'\n",
        "torch.save(char_lstm.state_dict(), PATH)"
      ]
    },
    {
      "cell_type": "code",
      "source": [
        "loaded_model = CharRNN_LSTMCell().to(device)\n",
        "loaded_model.load_state_dict(torch.load(PATH))\n",
        "print(generate_sample(loaded_model, seed_phrase='good ', max_length=200, temperature=0.2))"
      ],
      "metadata": {
        "colab": {
          "base_uri": "https://localhost:8080/"
        },
        "id": "qWb7mArXypmB",
        "outputId": "857e3832-6466-42e8-d5a1-69437ac3b23f"
      },
      "execution_count": 72,
      "outputs": [
        {
          "output_type": "stream",
          "name": "stdout",
          "text": [
            "good thee when the beart the with the grow the prouds the worth the sure and the love the praise the love the sursest the with that stare shall the with the such the the seef the with the stands the s\n"
          ]
        }
      ]
    },
    {
      "cell_type": "markdown",
      "source": [
        "В модели с RNN можно заметить, что при температуре 0.1 и 0.2 сгенерированные отрывки как будто зацикливаются на нескольких словах. \n",
        "\n",
        "В модели с LSTM это заметно не так сильно. Самое повторяющееся слово - это `the`. Действительно, в английском языке это самое частое слово в текстах. \n",
        "\n",
        "При температуре 0.5 внешне напечатанный отрывок даже напоминает структуру сонета.\n",
        "\n",
        "Хотя модель и требуеет доработки и более долгого обучения, чеем 2000 эпох, но уже по полученным отрывкам можно сказать, что LSTM, действительно, делает отрывки более поэтичными. А также можно понять, за что отвечает параметр `temperature`.\n",
        "\n",
        "Так, при больших значениях параметра `temperature` возникает большая энтропия в текстах, они становятся несвязными. Это происходит потому, что логиты, которые выдаёт модель делятся на большое число, а значит, вероятности символов становятся менее различимы и очень близки к друг другу. \n",
        "\n",
        "Напротив, если значение `temperature` менее 1, то вероятности символов станут более различимы. Соответственно, текст станет более связным и будет лучше отражать структуру языка в смысле частотности символов."
      ],
      "metadata": {
        "id": "etgIZedpp7O9"
      }
    },
    {
      "cell_type": "markdown",
      "metadata": {
        "id": "7ABh6CNH2rOT"
      },
      "source": [
        "### References\n",
        "1. <a href='http://karpathy.github.io/2015/05/21/rnn-effectiveness/'> Andrew Karpathy blog post about RNN. </a> \n",
        "There are several examples of genration: Shakespeare texts, Latex formulas, Linux Sourse Code and children names.\n",
        "2. <a href='https://github.com/karpathy/char-rnn'> Repo with char-rnn code </a>\n",
        "3. Cool repo with PyTorch examples: [link](https://github.com/spro/practical-pytorch`)"
      ]
    }
  ],
  "metadata": {
    "anaconda-cloud": {},
    "kernelspec": {
      "display_name": "Python 3",
      "language": "python",
      "name": "python3"
    },
    "language_info": {
      "codemirror_mode": {
        "name": "ipython",
        "version": 3
      },
      "file_extension": ".py",
      "mimetype": "text/x-python",
      "name": "python",
      "nbconvert_exporter": "python",
      "pygments_lexer": "ipython3",
      "version": "3.7.7"
    },
    "colab": {
      "provenance": []
    },
    "gpuClass": "standard",
    "accelerator": "GPU"
  },
  "nbformat": 4,
  "nbformat_minor": 0
}