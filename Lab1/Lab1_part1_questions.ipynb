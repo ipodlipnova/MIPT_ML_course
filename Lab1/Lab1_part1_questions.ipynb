{
  "cells": [
    {
      "cell_type": "markdown",
      "metadata": {
        "id": "ZiG3qO72bc4D"
      },
      "source": [
        "*Credits: materials from this notebook belong to YSDA [Practical DL](https://github.com/yandexdataschool/Practical_DL) course. Special thanks for making them available online.*"
      ]
    },
    {
      "cell_type": "markdown",
      "metadata": {
        "id": "p2ykHzyJbc4F"
      },
      "source": [
        "# Lab assignment №1, part 1\n",
        "\n",
        "This lab assignment consists of several parts. You are supposed to make some transformations, train some models, estimate the quality of the models and explain your results.\n",
        "\n",
        "Several comments:\n",
        "* Don't hesitate to ask questions, it's a good practice.\n",
        "* No private/public sharing, please. The copied assignments will be graded with 0 points.\n",
        "* Blocks of this lab will be graded separately."
      ]
    },
    {
      "cell_type": "markdown",
      "metadata": {
        "id": "9QS_rA0xbc4G"
      },
      "source": [
        "## 1. Matrix differentiation"
      ]
    },
    {
      "cell_type": "markdown",
      "metadata": {
        "id": "8E1wkyWObc4H"
      },
      "source": [
        "Since it easy to google every task please please please try to undestand what's going on. The \"just answer\" thing will be not counted, make sure to present derivation of your solution. It is absolutely OK if you found an answer on web then just exercise in $\\LaTeX$ copying it into here."
      ]
    },
    {
      "cell_type": "markdown",
      "metadata": {
        "id": "2UfOBHQ2bc4H"
      },
      "source": [
        "Useful links: \n",
        "[1](http://www.machinelearning.ru/wiki/images/2/2a/Matrix-Gauss.pdf)\n",
        "[2](http://www.atmos.washington.edu/~dennis/MatrixCalculus.pdf)"
      ]
    },
    {
      "cell_type": "markdown",
      "metadata": {
        "id": "CBUHTBFJbc4I"
      },
      "source": [
        "## ex. 1"
      ]
    },
    {
      "cell_type": "markdown",
      "metadata": {
        "id": "ypASJmYebc4J"
      },
      "source": [
        "$$  \n",
        "y = x^Tx,  \\quad x \\in \\mathbb{R}^N \n",
        "$$"
      ]
    },
    {
      "cell_type": "markdown",
      "source": [
        "$$y=\\sum_{i}x_i*x_i=\\sum_{i}x_i^2$$"
      ],
      "metadata": {
        "id": "2JDSIdLBsv9F"
      }
    },
    {
      "cell_type": "markdown",
      "source": [
        "Отсюда, переходя к векторной записи, получаем, что"
      ],
      "metadata": {
        "id": "Mt1rieW_tx-l"
      }
    },
    {
      "cell_type": "markdown",
      "metadata": {
        "id": "ftZE1Amvbc4J"
      },
      "source": [
        "$$\n",
        "\\frac{dy}{dx} =\\frac{d(x^Tx)}{dx}= 2x\n",
        "$$ "
      ]
    },
    {
      "cell_type": "code",
      "execution_count": null,
      "metadata": {
        "collapsed": true,
        "jupyter": {
          "outputs_hidden": true
        },
        "id": "5U2Cb9scbc4K"
      },
      "outputs": [],
      "source": []
    },
    {
      "cell_type": "markdown",
      "metadata": {
        "id": "3bJPQEIKbc4K"
      },
      "source": [
        "## ex. 2"
      ]
    },
    {
      "cell_type": "markdown",
      "metadata": {
        "id": "9WOHx7UObc4L"
      },
      "source": [
        "$$ y = tr(AB) \\quad A,B \\in \\mathbb{R}^{N \\times N} $$ "
      ]
    },
    {
      "cell_type": "markdown",
      "source": [
        "Пользуясь основными матричными тождесдествами из [1](http://www.machinelearning.ru/wiki/images/2/2a/Matrix-Gauss.pdf)"
      ],
      "metadata": {
        "id": "UxnvL0lOu4uN"
      }
    },
    {
      "cell_type": "markdown",
      "metadata": {
        "id": "Bcog9NYwbc4M"
      },
      "source": [
        "$$\n",
        "\\frac{dy}{dA} = B^T\n",
        "$$"
      ]
    },
    {
      "cell_type": "code",
      "execution_count": null,
      "metadata": {
        "collapsed": true,
        "jupyter": {
          "outputs_hidden": true
        },
        "id": "vmgGNNZNbc4M"
      },
      "outputs": [],
      "source": []
    },
    {
      "cell_type": "markdown",
      "metadata": {
        "id": "RZkyMUb0bc4N"
      },
      "source": [
        "## ex. 3"
      ]
    },
    {
      "cell_type": "markdown",
      "metadata": {
        "id": "m2jvdu-Ubc4N"
      },
      "source": [
        "$$  \n",
        "y = x^TAc , \\quad A\\in \\mathbb{R}^{N \\times N}, x\\in \\mathbb{R}^{N}, c\\in \\mathbb{R}^{N} \n",
        "$$"
      ]
    },
    {
      "cell_type": "markdown",
      "source": [
        "$x^TAc$ можно представить как произведение векторов $x^T$ и $Ac$, отсюда:"
      ],
      "metadata": {
        "id": "ZeZyYi_DwN_f"
      }
    },
    {
      "cell_type": "markdown",
      "metadata": {
        "id": "HI5ABKY4bc4O"
      },
      "source": [
        "$$\n",
        "\\frac{dy}{dx} =\\frac{d(x^TAc)}{dx} = Ac\n",
        "$$"
      ]
    },
    {
      "cell_type": "markdown",
      "source": [
        "Пользуясь следующим [источником](http://www.machinelearning.ru/wiki/images/2/2a/Matrix-Gauss.pdf), получаем, что:"
      ],
      "metadata": {
        "id": "yvPVh6GTyYaD"
      }
    },
    {
      "cell_type": "markdown",
      "metadata": {
        "id": "1HH3FnJpbc4P"
      },
      "source": [
        "$$\n",
        "\\frac{dy}{dA} = \\frac{d(x^TAc)}{dA}=xc^T\n",
        "$$ "
      ]
    },
    {
      "cell_type": "markdown",
      "metadata": {
        "id": "4BCD3GOtbc4P"
      },
      "source": [
        "Hint for the latter (one of the ways): use *ex. 2* result and the fact \n",
        "$$\n",
        "tr(ABC) = tr (CAB)\n",
        "$$"
      ]
    },
    {
      "cell_type": "code",
      "execution_count": null,
      "metadata": {
        "collapsed": true,
        "jupyter": {
          "outputs_hidden": true
        },
        "id": "5W3jVCM-bc4Q"
      },
      "outputs": [],
      "source": []
    },
    {
      "cell_type": "markdown",
      "metadata": {
        "id": "5lLNf5WAbc4R"
      },
      "source": [
        "## ex. 4"
      ]
    },
    {
      "cell_type": "markdown",
      "metadata": {
        "id": "mBPoyIQxbc4R"
      },
      "source": [
        "Classic matrix factorization example. Given matrix $X$ you need to find $A$, $S$ to approximate $X$. This can be done by simple gradient descent iteratively alternating $A$ and $S$ updates.\n",
        "$$\n",
        "J = || X - AS ||_F^2  , \\quad A\\in \\mathbb{R}^{N \\times R} , \\quad S\\in \\mathbb{R}^{R \\times M}\n",
        "$$\n",
        "$$\n",
        "\\frac{dJ}{dS} = ? \n",
        "$$\n",
        "\n",
        "You may use one of the following approaches:"
      ]
    },
    {
      "cell_type": "markdown",
      "metadata": {
        "id": "0HG49xUdbc4S"
      },
      "source": [
        "#### First approach\n",
        "Using ex.2 and the fact:\n",
        "$$\n",
        "|| X ||_F^2 = tr(XX^T) \n",
        "$$ \n",
        "it is easy to derive gradients (you can find it in one of the refs). "
      ]
    },
    {
      "cell_type": "markdown",
      "metadata": {
        "id": "dvT3bBWUbc4S"
      },
      "source": [
        "#### Second approach\n",
        "You can use *slightly different techniques* if they suits you. Take a look at this derivation:\n",
        "<img src=\"grad.png\">\n",
        "(excerpt from [Handbook of blind source separation, Jutten, page 517](https://books.google.ru/books?id=PTbj03bYH6kC&printsec=frontcover&dq=Handbook+of+Blind+Source+Separation&hl=en&sa=X&ved=0ahUKEwi-q_apiJDLAhULvXIKHVXJDWcQ6AEIHDAA#v=onepage&q=Handbook%20of%20Blind%20Source%20Separation&f=false), open for better picture)."
      ]
    },
    {
      "cell_type": "markdown",
      "metadata": {
        "id": "YPcC4eDGbc4T"
      },
      "source": [
        "#### Third approach\n",
        "And finally we can use chain rule! \n",
        "let $ F = AS $ \n",
        "\n",
        "**Find**\n",
        "$$\n",
        "\\frac{dJ}{dF} =  \n",
        "$$ \n",
        "and \n",
        "$$\n",
        "\\frac{dF}{dS} =  \n",
        "$$ \n",
        "(the shape should be $ NM \\times RM )$.\n",
        "\n",
        "Now it is easy do get desired gradients:\n",
        "$$\n",
        "\\frac{dJ}{dS} =  \n",
        "$$ "
      ]
    },
    {
      "cell_type": "markdown",
      "source": [
        "Иными словами, используя любой из предложенных подходов нам необходимо найти $\\frac{dJ}{dS} $. \n",
        "Обратимся к первому подходу:\n",
        "$$\n",
        "\\frac{dJ}{dS} =  \\frac{d|| X - AS ||_F^2}{dS} = \\frac{d(tr((X - AS)(X - AS)^T))}{dS} = \\frac{d(tr((X - AS)(X^T - S^TA^T)))}{dS} = \\frac{d(tr(XX^T-XS^TA^T-ASX^T+ASS^TA^T))}{dS} = \\frac{d(tr(XX^T)-tr(XS^TA^T)-tr(ASX^T)+tr(ASS^TA^T))}{dS} = \\frac{d(-tr(ASX^T))}{dS} + \\frac{d(-tr(ASX^T))}{dS} + \\frac{d(tr(ASS^TA^T))}{dS} = -\\frac{d(tr(SX^TA))}{dS} - \\frac{d(tr(SX^TA))}{dS} + \\frac{d(tr(SS^TA^TA))}{dS} = -A^TX -  A^TX + 2A^TAS = -2A^T(X-AS)\n",
        "$$ "
      ],
      "metadata": {
        "id": "QEJuLCfpza_K"
      }
    },
    {
      "cell_type": "markdown",
      "metadata": {
        "collapsed": true,
        "jupyter": {
          "outputs_hidden": true
        },
        "id": "GjebtD3Ubc4T"
      },
      "source": [
        "## 2. kNN questions\n",
        "Here come the questions from the assignment0_01. Please, refer to the assignment0_01 to get the context of the questions."
      ]
    },
    {
      "cell_type": "markdown",
      "metadata": {
        "id": "H3ew3monbc4U"
      },
      "source": [
        "### Question 1\n",
        "\n",
        "Notice the structured patterns in the distance matrix, where some rows or columns are visible brighter. (Note that with the default color scheme black indicates low distances while white indicates high distances.)\n",
        "\n",
        "- What in the data is the cause behind the distinctly bright rows?\n",
        "- What causes the columns?\n",
        "\n",
        "*Your Answer:*\n",
        "\n",
        "\n",
        "\n",
        "*   Причиной ярких светлых строки является большое расстояние между точками тестовой и обучающей выборок. Например, возможно, что тестовая точка находится на большом расстоянии от обучающей выборки. Либо, в обучающей выборке не встречались точки подобного класса.\n",
        "*   Светлые колонки говорят нам о том, что эти обучающие данные не имеют близких точек в тестовой выборке.\n",
        "\n"
      ]
    },
    {
      "cell_type": "markdown",
      "metadata": {
        "id": "NLF5ARULbc4V"
      },
      "source": [
        "### Question 2\n",
        "\n",
        "We can also use other distance metrics such as L1 distance.\n",
        "For pixel values $p_{ij}^{(k)}$ at location $(i,j)$ of some image $I_k$, \n",
        "\n",
        "the mean $\\mu$ across all pixels over all images is $$\\mu=\\frac{1}{nhw}\\sum_{k=1}^n\\sum_{i=1}^{h}\\sum_{j=1}^{w}p_{ij}^{(k)}$$\n",
        "And the pixel-wise mean $\\mu_{ij}$ across all images is \n",
        "$$\\mu_{ij}=\\frac{1}{n}\\sum_{k=1}^np_{ij}^{(k)}.$$\n",
        "The general standard deviation $\\sigma$ and pixel-wise standard deviation $\\sigma_{ij}$ is defined similarly.\n",
        "\n",
        "Which of the following preprocessing steps will not change the performance of a Nearest Neighbor classifier that uses L1 distance? Select all that apply.\n",
        "1. Subtracting the mean $\\mu$ ($\\tilde{p}_{ij}^{(k)}=p_{ij}^{(k)}-\\mu$.)\n",
        "2. Subtracting the per pixel mean $\\mu_{ij}$  ($\\tilde{p}_{ij}^{(k)}=p_{ij}^{(k)}-\\mu_{ij}$.)\n",
        "3. Subtracting the mean $\\mu$ and dividing by the standard deviation $\\sigma$.\n",
        "4. Subtracting the pixel-wise mean $\\mu_{ij}$ and dividing by the pixel-wise standard deviation $\\sigma_{ij}$.\n",
        "5. Rotating the coordinate axes of the data.\n",
        "\n",
        "*Your Answer:* 1, 3\n",
        "\n",
        "\n",
        "*Your Explanation:*\n",
        "\n",
        "\n",
        "1.   Так как из каждого значения $p_{ij}^{(k)}$ мы вычитаем одинаковое значение $\\mu$, то расстояние между точками не изменится. $||(x-\\mu)-(y-\\mu)||_1 = ||x-y||_1$\n",
        "2.   В этом случае мы имеем различные $\\mu_{ij}$, а значит, что точки могут сместиться на разное растояние, поэтому L1 distance после этой операции может показать другие значения.\n",
        "3.   Как мы уже сказали в пункте 1, вычитание константы не изменит поведение KNN классификатора. Затем, когда мы поделим все расстояния на стандартное отклонение, то мы просто изменим масштаб на некоторую константу, причём все отношения расстояний сохранятся, а значит, поведение KNN классификатора не изменится.\n",
        "4.   Как и в пункте 2, $\\mu_{ij}$ и $\\sigma_{ij}$ не являются одинаковыми для всех точек, а значит, что поведение KNN классификатора может измениться.\n",
        "5.   В отличии от расстояния L2, которое не меняется при повороте осей координат, значение расстояния L1 может измениться, а значит, изменится и поведдение KNN классификатора.\n",
        "\n",
        "\n"
      ]
    },
    {
      "cell_type": "markdown",
      "metadata": {
        "id": "CjEeKsZzbc4V"
      },
      "source": [
        "## Question 3\n",
        "\n",
        "Which of the following statements about $k$-Nearest Neighbor ($k$-NN) are true in a classification setting, and for all $k$? Select all that apply.\n",
        "1. The decision boundary (hyperplane between classes in feature space) of the k-NN classifier is linear.\n",
        "2. The training error of a 1-NN will always be lower than that of 5-NN.\n",
        "3. The test error of a 1-NN will always be lower than that of a 5-NN.\n",
        "4. The time needed to classify a test example with the k-NN classifier grows with the size of the training set.\n",
        "5. None of the above.\n",
        "\n",
        "*Your Answer:* 2, 4\n",
        "\n",
        "\n",
        "*Your Explanation:*\n",
        "\n",
        "\n",
        "1.   KNN не использует явно разделяющие гиперплоскости. При этом KNN может хорошо классифицировать и не разделимые линейно классы. И если мы условно построим границу разделения классов, то она будет примерно повторять форму классов. Таким образом, данное утверждение не верно. \n",
        "2.   Это утверждение верно, так как ближайшей к точке из обучающей выборки будет сама эта точка, а значит, что класс всегда будет преедсказываться верно при 1-NN. Иными словами, ошибка на обучающей выборке будет равна 0. При использовании 5-NN классификатора ошибка может быть не нулевой.\n",
        "3.   Это утверждение не верно в общем случае, так как в тестовой выборке могут быть точки, которые достаточно далееко расположены от тестовой выборки, а значит, 1-NN выдаст ошибочный класс. К тому же. легко можно придумать контр-пример, когда самая близкая точка к тестовой точке будеет другого класса, а следующие 4 ближайшие точки будут иметь такой же класс, как и тестовая точка.\n",
        "4.   Да, это утверждение верно, так как тестовые точки будут сравниваться со всеми точками обучающей выборки. KNN-классификатор должен пройти по всем точкам обучающей выборки и отсортировать их в порядке близости к тестовой точке.\n",
        "5.   Это не верно, так как мы уже показали выше, что утверждения 2, 4 выполняются.\n",
        "\n",
        "\n",
        "\n"
      ]
    },
    {
      "cell_type": "code",
      "source": [],
      "metadata": {
        "id": "rjJzv62u6HTO"
      },
      "execution_count": null,
      "outputs": []
    }
  ],
  "metadata": {
    "kernelspec": {
      "display_name": "mipt",
      "language": "python",
      "name": "mipt"
    },
    "language_info": {
      "codemirror_mode": {
        "name": "ipython",
        "version": 3
      },
      "file_extension": ".py",
      "mimetype": "text/x-python",
      "name": "python",
      "nbconvert_exporter": "python",
      "pygments_lexer": "ipython3",
      "version": "3.9.5"
    },
    "colab": {
      "provenance": []
    }
  },
  "nbformat": 4,
  "nbformat_minor": 0
}