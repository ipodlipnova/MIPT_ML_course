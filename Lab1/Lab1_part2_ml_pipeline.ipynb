{
  "cells": [
    {
      "cell_type": "markdown",
      "metadata": {
        "nbgrader": {
          "grade": false,
          "grade_id": "cell-86e0de040aac317a",
          "locked": true,
          "schema_version": 2,
          "solution": false
        },
        "id": "-WhYYjnhSp9k"
      },
      "source": [
        "# Lab assignment №1, part 2\n",
        "\n",
        "This lab assignment consists of several parts. You are supposed to make some transformations, train some models, estimate the quality of the models and explain your results.\n",
        "\n",
        "Several comments:\n",
        "* Don't hesitate to ask questions, it's a good practice.\n",
        "* No private/public sharing, please. The copied assignments will be graded with 0 points.\n",
        "* Blocks of this lab will be graded separately."
      ]
    },
    {
      "cell_type": "markdown",
      "metadata": {
        "id": "pwezdDCGSp9n"
      },
      "source": [
        "__*This is the second part of the assignment. First and third parts are waiting for you in the same directory.*__"
      ]
    },
    {
      "cell_type": "markdown",
      "metadata": {
        "nbgrader": {
          "grade": false,
          "grade_id": "cell-512ba712fc0fc065",
          "locked": true,
          "schema_version": 2,
          "solution": false
        },
        "id": "DJZBjKc8Sp9o"
      },
      "source": [
        "## Part 2. Data preprocessing, model training and evaluation."
      ]
    },
    {
      "cell_type": "markdown",
      "metadata": {
        "nbgrader": {
          "grade": false,
          "grade_id": "cell-b656a4266174b009",
          "locked": true,
          "schema_version": 2,
          "solution": false
        },
        "id": "VDQyYxuOSp9p"
      },
      "source": [
        "### 1. Reading the data\n",
        "Today we work with the [dataset](https://archive.ics.uci.edu/ml/datasets/Statlog+%28Vehicle+Silhouettes%29), describing different cars for multiclass ($k=4$) classification problem. The data is available below."
      ]
    },
    {
      "cell_type": "code",
      "execution_count": null,
      "metadata": {
        "id": "ypbAyL9iSp9q",
        "colab": {
          "base_uri": "https://localhost:8080/"
        },
        "outputId": "f4b7b42a-25ed-452a-fb2c-4b5ee1daac94"
      },
      "outputs": [
        {
          "output_type": "stream",
          "name": "stdout",
          "text": [
            "--2022-12-31 11:33:12--  https://raw.githubusercontent.com/girafe-ai/ml-course/22f_made/homeworks/lab01_ml_pipeline/car_data.csv\n",
            "Resolving raw.githubusercontent.com (raw.githubusercontent.com)... 185.199.108.133, 185.199.109.133, 185.199.110.133, ...\n",
            "Connecting to raw.githubusercontent.com (raw.githubusercontent.com)|185.199.108.133|:443... connected.\n",
            "HTTP request sent, awaiting response... 200 OK\n",
            "Length: 58374 (57K) [text/plain]\n",
            "Saving to: ‘car_data.csv.1’\n",
            "\n",
            "\rcar_data.csv.1        0%[                    ]       0  --.-KB/s               \rcar_data.csv.1      100%[===================>]  57.01K  --.-KB/s    in 0.01s   \n",
            "\n",
            "2022-12-31 11:33:12 (5.04 MB/s) - ‘car_data.csv.1’ saved [58374/58374]\n",
            "\n"
          ]
        }
      ],
      "source": [
        "# If on colab, uncomment the following lines\n",
        "\n",
        "! wget https://raw.githubusercontent.com/girafe-ai/ml-course/22f_made/homeworks/lab01_ml_pipeline/car_data.csv"
      ]
    },
    {
      "cell_type": "code",
      "execution_count": null,
      "metadata": {
        "id": "CV7TCFXOSp90",
        "colab": {
          "base_uri": "https://localhost:8080/"
        },
        "outputId": "cf5a6c7b-3815-43ef-ed71-8b6383adf24f"
      },
      "outputs": [
        {
          "output_type": "stream",
          "name": "stdout",
          "text": [
            "Looking in indexes: https://pypi.org/simple, https://us-python.pkg.dev/colab-wheels/public/simple/\n",
            "Requirement already satisfied: scikit-plot in /usr/local/lib/python3.8/dist-packages (0.3.7)\n",
            "Requirement already satisfied: scikit-learn>=0.18 in /usr/local/lib/python3.8/dist-packages (from scikit-plot) (1.0.2)\n",
            "Requirement already satisfied: matplotlib>=1.4.0 in /usr/local/lib/python3.8/dist-packages (from scikit-plot) (3.2.2)\n",
            "Requirement already satisfied: scipy>=0.9 in /usr/local/lib/python3.8/dist-packages (from scikit-plot) (1.7.3)\n",
            "Requirement already satisfied: joblib>=0.10 in /usr/local/lib/python3.8/dist-packages (from scikit-plot) (1.2.0)\n",
            "Requirement already satisfied: python-dateutil>=2.1 in /usr/local/lib/python3.8/dist-packages (from matplotlib>=1.4.0->scikit-plot) (2.8.2)\n",
            "Requirement already satisfied: kiwisolver>=1.0.1 in /usr/local/lib/python3.8/dist-packages (from matplotlib>=1.4.0->scikit-plot) (1.4.4)\n",
            "Requirement already satisfied: cycler>=0.10 in /usr/local/lib/python3.8/dist-packages (from matplotlib>=1.4.0->scikit-plot) (0.11.0)\n",
            "Requirement already satisfied: numpy>=1.11 in /usr/local/lib/python3.8/dist-packages (from matplotlib>=1.4.0->scikit-plot) (1.21.6)\n",
            "Requirement already satisfied: pyparsing!=2.0.4,!=2.1.2,!=2.1.6,>=2.0.1 in /usr/local/lib/python3.8/dist-packages (from matplotlib>=1.4.0->scikit-plot) (3.0.9)\n",
            "Requirement already satisfied: six>=1.5 in /usr/local/lib/python3.8/dist-packages (from python-dateutil>=2.1->matplotlib>=1.4.0->scikit-plot) (1.15.0)\n",
            "Requirement already satisfied: threadpoolctl>=2.0.0 in /usr/local/lib/python3.8/dist-packages (from scikit-learn>=0.18->scikit-plot) (3.1.0)\n"
          ]
        }
      ],
      "source": [
        "# You might use this command to install scikit-plot. \n",
        "# Warning, if you a running locally, don't call pip from within jupyter, call it from terminal in the corresponding \n",
        "# virtual environment instead\n",
        "\n",
        "! pip install scikit-plot"
      ]
    },
    {
      "cell_type": "markdown",
      "source": [
        "Просто для удобства собрала все импорты в начале файла."
      ],
      "metadata": {
        "id": "ui4mrW_Xchrj"
      }
    },
    {
      "cell_type": "code",
      "source": [
        "import pandas as pd\n",
        "import numpy as np\n",
        "\n",
        "from sklearn.model_selection import train_test_split, GridSearchCV, StratifiedKFold\n",
        "from sklearn import preprocessing\n",
        "from sklearn.metrics import accuracy_score, f1_score\n",
        "from sklearn.linear_model import LogisticRegression\n",
        "from sklearn.decomposition import PCA\n",
        "from sklearn.tree import DecisionTreeClassifier\n",
        "from sklearn.ensemble import BaggingClassifier, RandomForestClassifier\n",
        "\n",
        "import scikitplot as skplt\n",
        "\n",
        "import matplotlib.pyplot as plt\n",
        "%matplotlib inline\n",
        "\n",
        "import warnings\n",
        "warnings.filterwarnings(\"ignore\")"
      ],
      "metadata": {
        "id": "G8zNLXDiX_gl"
      },
      "execution_count": null,
      "outputs": []
    },
    {
      "cell_type": "code",
      "execution_count": null,
      "metadata": {
        "nbgrader": {
          "grade": false,
          "grade_id": "cell-eebac6bfdf73d0bc",
          "locked": true,
          "schema_version": 2,
          "solution": false
        },
        "colab": {
          "base_uri": "https://localhost:8080/"
        },
        "id": "vQTmSF_WSp9r",
        "outputId": "528e88be-679b-4ee7-c7dc-83cb516579a1"
      },
      "outputs": [
        {
          "output_type": "stream",
          "name": "stdout",
          "text": [
            "(846, 19) (846,)\n",
            "(549, 19) (549,) (297, 19) (297,)\n"
          ]
        }
      ],
      "source": [
        "dataset = pd.read_csv('car_data.csv', delimiter=',', header=None).values\n",
        "data = dataset[:, :-1].astype(int)\n",
        "target = dataset[:, -1]\n",
        "\n",
        "print(data.shape, target.shape)\n",
        "\n",
        "X_train, X_test, y_train, y_test = train_test_split(data, target, test_size=0.35)\n",
        "print(X_train.shape, y_train.shape, X_test.shape, y_test.shape)"
      ]
    },
    {
      "cell_type": "markdown",
      "metadata": {
        "nbgrader": {
          "grade": false,
          "grade_id": "cell-88b1a0f688568f2c",
          "locked": true,
          "schema_version": 2,
          "solution": false
        },
        "id": "SuKIkVPASp9t"
      },
      "source": [
        "To get some insights about the dataset, `pandas` might be used. The `train` part is transformed to `pd.DataFrame` below."
      ]
    },
    {
      "cell_type": "code",
      "execution_count": null,
      "metadata": {
        "colab": {
          "base_uri": "https://localhost:8080/",
          "height": 504
        },
        "id": "BPOlaqlCSp9t",
        "outputId": "8575d9fc-e622-4577-bf31-444682cd2bd3"
      },
      "outputs": [
        {
          "output_type": "execute_result",
          "data": {
            "text/plain": [
              "     0    1   2    3    4   5   6    7   8   9    10   11   12   13  14  15  \\\n",
              "0   186   91  42   81  193  69   5  169  38  20  137  184  434  156  68   3   \n",
              "1   159   91  45   75  154  57   6  150  44  19  146  170  335  180  66  16   \n",
              "2   133   98  39   68  121  49   7  134  51  18  142  164  261  134  75   4   \n",
              "3   669   85  44   66  125  58   6  148  45  19  145  170  323  185  84   8   \n",
              "4   271   93  47   88  200  66   7  173  38  21  151  197  452  205  66   0   \n",
              "5   366   90  47   85  149  60  10  155  43  19  155  179  355  186  75   1   \n",
              "6   181   78  36   60  116  56   6  123  55  17  124  141  221  121  78   3   \n",
              "7   286   83  41   70  155  65   7  144  46  19  141  168  309  147  71   4   \n",
              "8   174   93  48   84  150  63  11  156  44  20  165  171  354  188  73   8   \n",
              "9   272   91  43   88  157  61   9  149  45  19  157  165  326  140  64   1   \n",
              "10  519   88  39   76  155  62   8  137  48  18  137  156  281  124  63   3   \n",
              "11  792  100  51  104  163  52  10  206  32  23  164  217  631  193  69   5   \n",
              "12   85  110  58  106  180  51   6  261  26  28  171  278  998  257  83   9   \n",
              "13  559  101  56  101  231  72  10  217  31  24  171  232  698  216  72   2   \n",
              "14  582  108  53  104  181  56  11  220  31  25  167  226  712  214  72  15   \n",
              "\n",
              "    16   17   18  \n",
              "0   23  198  204  \n",
              "1    2  193  198  \n",
              "2    1  186  186  \n",
              "3    1  180  183  \n",
              "4    3  195  202  \n",
              "5    5  185  196  \n",
              "6   16  178  185  \n",
              "7   12  188  195  \n",
              "8   15  185  195  \n",
              "9   26  197  207  \n",
              "10   6  201  209  \n",
              "11  21  188  196  \n",
              "12  13  181  182  \n",
              "13   6  187  197  \n",
              "14  18  189  199  "
            ],
            "text/html": [
              "\n",
              "  <div id=\"df-9145b1a0-b7b9-471b-95bf-573e53981712\">\n",
              "    <div class=\"colab-df-container\">\n",
              "      <div>\n",
              "<style scoped>\n",
              "    .dataframe tbody tr th:only-of-type {\n",
              "        vertical-align: middle;\n",
              "    }\n",
              "\n",
              "    .dataframe tbody tr th {\n",
              "        vertical-align: top;\n",
              "    }\n",
              "\n",
              "    .dataframe thead th {\n",
              "        text-align: right;\n",
              "    }\n",
              "</style>\n",
              "<table border=\"1\" class=\"dataframe\">\n",
              "  <thead>\n",
              "    <tr style=\"text-align: right;\">\n",
              "      <th></th>\n",
              "      <th>0</th>\n",
              "      <th>1</th>\n",
              "      <th>2</th>\n",
              "      <th>3</th>\n",
              "      <th>4</th>\n",
              "      <th>5</th>\n",
              "      <th>6</th>\n",
              "      <th>7</th>\n",
              "      <th>8</th>\n",
              "      <th>9</th>\n",
              "      <th>10</th>\n",
              "      <th>11</th>\n",
              "      <th>12</th>\n",
              "      <th>13</th>\n",
              "      <th>14</th>\n",
              "      <th>15</th>\n",
              "      <th>16</th>\n",
              "      <th>17</th>\n",
              "      <th>18</th>\n",
              "    </tr>\n",
              "  </thead>\n",
              "  <tbody>\n",
              "    <tr>\n",
              "      <th>0</th>\n",
              "      <td>186</td>\n",
              "      <td>91</td>\n",
              "      <td>42</td>\n",
              "      <td>81</td>\n",
              "      <td>193</td>\n",
              "      <td>69</td>\n",
              "      <td>5</td>\n",
              "      <td>169</td>\n",
              "      <td>38</td>\n",
              "      <td>20</td>\n",
              "      <td>137</td>\n",
              "      <td>184</td>\n",
              "      <td>434</td>\n",
              "      <td>156</td>\n",
              "      <td>68</td>\n",
              "      <td>3</td>\n",
              "      <td>23</td>\n",
              "      <td>198</td>\n",
              "      <td>204</td>\n",
              "    </tr>\n",
              "    <tr>\n",
              "      <th>1</th>\n",
              "      <td>159</td>\n",
              "      <td>91</td>\n",
              "      <td>45</td>\n",
              "      <td>75</td>\n",
              "      <td>154</td>\n",
              "      <td>57</td>\n",
              "      <td>6</td>\n",
              "      <td>150</td>\n",
              "      <td>44</td>\n",
              "      <td>19</td>\n",
              "      <td>146</td>\n",
              "      <td>170</td>\n",
              "      <td>335</td>\n",
              "      <td>180</td>\n",
              "      <td>66</td>\n",
              "      <td>16</td>\n",
              "      <td>2</td>\n",
              "      <td>193</td>\n",
              "      <td>198</td>\n",
              "    </tr>\n",
              "    <tr>\n",
              "      <th>2</th>\n",
              "      <td>133</td>\n",
              "      <td>98</td>\n",
              "      <td>39</td>\n",
              "      <td>68</td>\n",
              "      <td>121</td>\n",
              "      <td>49</td>\n",
              "      <td>7</td>\n",
              "      <td>134</td>\n",
              "      <td>51</td>\n",
              "      <td>18</td>\n",
              "      <td>142</td>\n",
              "      <td>164</td>\n",
              "      <td>261</td>\n",
              "      <td>134</td>\n",
              "      <td>75</td>\n",
              "      <td>4</td>\n",
              "      <td>1</td>\n",
              "      <td>186</td>\n",
              "      <td>186</td>\n",
              "    </tr>\n",
              "    <tr>\n",
              "      <th>3</th>\n",
              "      <td>669</td>\n",
              "      <td>85</td>\n",
              "      <td>44</td>\n",
              "      <td>66</td>\n",
              "      <td>125</td>\n",
              "      <td>58</td>\n",
              "      <td>6</td>\n",
              "      <td>148</td>\n",
              "      <td>45</td>\n",
              "      <td>19</td>\n",
              "      <td>145</td>\n",
              "      <td>170</td>\n",
              "      <td>323</td>\n",
              "      <td>185</td>\n",
              "      <td>84</td>\n",
              "      <td>8</td>\n",
              "      <td>1</td>\n",
              "      <td>180</td>\n",
              "      <td>183</td>\n",
              "    </tr>\n",
              "    <tr>\n",
              "      <th>4</th>\n",
              "      <td>271</td>\n",
              "      <td>93</td>\n",
              "      <td>47</td>\n",
              "      <td>88</td>\n",
              "      <td>200</td>\n",
              "      <td>66</td>\n",
              "      <td>7</td>\n",
              "      <td>173</td>\n",
              "      <td>38</td>\n",
              "      <td>21</td>\n",
              "      <td>151</td>\n",
              "      <td>197</td>\n",
              "      <td>452</td>\n",
              "      <td>205</td>\n",
              "      <td>66</td>\n",
              "      <td>0</td>\n",
              "      <td>3</td>\n",
              "      <td>195</td>\n",
              "      <td>202</td>\n",
              "    </tr>\n",
              "    <tr>\n",
              "      <th>5</th>\n",
              "      <td>366</td>\n",
              "      <td>90</td>\n",
              "      <td>47</td>\n",
              "      <td>85</td>\n",
              "      <td>149</td>\n",
              "      <td>60</td>\n",
              "      <td>10</td>\n",
              "      <td>155</td>\n",
              "      <td>43</td>\n",
              "      <td>19</td>\n",
              "      <td>155</td>\n",
              "      <td>179</td>\n",
              "      <td>355</td>\n",
              "      <td>186</td>\n",
              "      <td>75</td>\n",
              "      <td>1</td>\n",
              "      <td>5</td>\n",
              "      <td>185</td>\n",
              "      <td>196</td>\n",
              "    </tr>\n",
              "    <tr>\n",
              "      <th>6</th>\n",
              "      <td>181</td>\n",
              "      <td>78</td>\n",
              "      <td>36</td>\n",
              "      <td>60</td>\n",
              "      <td>116</td>\n",
              "      <td>56</td>\n",
              "      <td>6</td>\n",
              "      <td>123</td>\n",
              "      <td>55</td>\n",
              "      <td>17</td>\n",
              "      <td>124</td>\n",
              "      <td>141</td>\n",
              "      <td>221</td>\n",
              "      <td>121</td>\n",
              "      <td>78</td>\n",
              "      <td>3</td>\n",
              "      <td>16</td>\n",
              "      <td>178</td>\n",
              "      <td>185</td>\n",
              "    </tr>\n",
              "    <tr>\n",
              "      <th>7</th>\n",
              "      <td>286</td>\n",
              "      <td>83</td>\n",
              "      <td>41</td>\n",
              "      <td>70</td>\n",
              "      <td>155</td>\n",
              "      <td>65</td>\n",
              "      <td>7</td>\n",
              "      <td>144</td>\n",
              "      <td>46</td>\n",
              "      <td>19</td>\n",
              "      <td>141</td>\n",
              "      <td>168</td>\n",
              "      <td>309</td>\n",
              "      <td>147</td>\n",
              "      <td>71</td>\n",
              "      <td>4</td>\n",
              "      <td>12</td>\n",
              "      <td>188</td>\n",
              "      <td>195</td>\n",
              "    </tr>\n",
              "    <tr>\n",
              "      <th>8</th>\n",
              "      <td>174</td>\n",
              "      <td>93</td>\n",
              "      <td>48</td>\n",
              "      <td>84</td>\n",
              "      <td>150</td>\n",
              "      <td>63</td>\n",
              "      <td>11</td>\n",
              "      <td>156</td>\n",
              "      <td>44</td>\n",
              "      <td>20</td>\n",
              "      <td>165</td>\n",
              "      <td>171</td>\n",
              "      <td>354</td>\n",
              "      <td>188</td>\n",
              "      <td>73</td>\n",
              "      <td>8</td>\n",
              "      <td>15</td>\n",
              "      <td>185</td>\n",
              "      <td>195</td>\n",
              "    </tr>\n",
              "    <tr>\n",
              "      <th>9</th>\n",
              "      <td>272</td>\n",
              "      <td>91</td>\n",
              "      <td>43</td>\n",
              "      <td>88</td>\n",
              "      <td>157</td>\n",
              "      <td>61</td>\n",
              "      <td>9</td>\n",
              "      <td>149</td>\n",
              "      <td>45</td>\n",
              "      <td>19</td>\n",
              "      <td>157</td>\n",
              "      <td>165</td>\n",
              "      <td>326</td>\n",
              "      <td>140</td>\n",
              "      <td>64</td>\n",
              "      <td>1</td>\n",
              "      <td>26</td>\n",
              "      <td>197</td>\n",
              "      <td>207</td>\n",
              "    </tr>\n",
              "    <tr>\n",
              "      <th>10</th>\n",
              "      <td>519</td>\n",
              "      <td>88</td>\n",
              "      <td>39</td>\n",
              "      <td>76</td>\n",
              "      <td>155</td>\n",
              "      <td>62</td>\n",
              "      <td>8</td>\n",
              "      <td>137</td>\n",
              "      <td>48</td>\n",
              "      <td>18</td>\n",
              "      <td>137</td>\n",
              "      <td>156</td>\n",
              "      <td>281</td>\n",
              "      <td>124</td>\n",
              "      <td>63</td>\n",
              "      <td>3</td>\n",
              "      <td>6</td>\n",
              "      <td>201</td>\n",
              "      <td>209</td>\n",
              "    </tr>\n",
              "    <tr>\n",
              "      <th>11</th>\n",
              "      <td>792</td>\n",
              "      <td>100</td>\n",
              "      <td>51</td>\n",
              "      <td>104</td>\n",
              "      <td>163</td>\n",
              "      <td>52</td>\n",
              "      <td>10</td>\n",
              "      <td>206</td>\n",
              "      <td>32</td>\n",
              "      <td>23</td>\n",
              "      <td>164</td>\n",
              "      <td>217</td>\n",
              "      <td>631</td>\n",
              "      <td>193</td>\n",
              "      <td>69</td>\n",
              "      <td>5</td>\n",
              "      <td>21</td>\n",
              "      <td>188</td>\n",
              "      <td>196</td>\n",
              "    </tr>\n",
              "    <tr>\n",
              "      <th>12</th>\n",
              "      <td>85</td>\n",
              "      <td>110</td>\n",
              "      <td>58</td>\n",
              "      <td>106</td>\n",
              "      <td>180</td>\n",
              "      <td>51</td>\n",
              "      <td>6</td>\n",
              "      <td>261</td>\n",
              "      <td>26</td>\n",
              "      <td>28</td>\n",
              "      <td>171</td>\n",
              "      <td>278</td>\n",
              "      <td>998</td>\n",
              "      <td>257</td>\n",
              "      <td>83</td>\n",
              "      <td>9</td>\n",
              "      <td>13</td>\n",
              "      <td>181</td>\n",
              "      <td>182</td>\n",
              "    </tr>\n",
              "    <tr>\n",
              "      <th>13</th>\n",
              "      <td>559</td>\n",
              "      <td>101</td>\n",
              "      <td>56</td>\n",
              "      <td>101</td>\n",
              "      <td>231</td>\n",
              "      <td>72</td>\n",
              "      <td>10</td>\n",
              "      <td>217</td>\n",
              "      <td>31</td>\n",
              "      <td>24</td>\n",
              "      <td>171</td>\n",
              "      <td>232</td>\n",
              "      <td>698</td>\n",
              "      <td>216</td>\n",
              "      <td>72</td>\n",
              "      <td>2</td>\n",
              "      <td>6</td>\n",
              "      <td>187</td>\n",
              "      <td>197</td>\n",
              "    </tr>\n",
              "    <tr>\n",
              "      <th>14</th>\n",
              "      <td>582</td>\n",
              "      <td>108</td>\n",
              "      <td>53</td>\n",
              "      <td>104</td>\n",
              "      <td>181</td>\n",
              "      <td>56</td>\n",
              "      <td>11</td>\n",
              "      <td>220</td>\n",
              "      <td>31</td>\n",
              "      <td>25</td>\n",
              "      <td>167</td>\n",
              "      <td>226</td>\n",
              "      <td>712</td>\n",
              "      <td>214</td>\n",
              "      <td>72</td>\n",
              "      <td>15</td>\n",
              "      <td>18</td>\n",
              "      <td>189</td>\n",
              "      <td>199</td>\n",
              "    </tr>\n",
              "  </tbody>\n",
              "</table>\n",
              "</div>\n",
              "      <button class=\"colab-df-convert\" onclick=\"convertToInteractive('df-9145b1a0-b7b9-471b-95bf-573e53981712')\"\n",
              "              title=\"Convert this dataframe to an interactive table.\"\n",
              "              style=\"display:none;\">\n",
              "        \n",
              "  <svg xmlns=\"http://www.w3.org/2000/svg\" height=\"24px\"viewBox=\"0 0 24 24\"\n",
              "       width=\"24px\">\n",
              "    <path d=\"M0 0h24v24H0V0z\" fill=\"none\"/>\n",
              "    <path d=\"M18.56 5.44l.94 2.06.94-2.06 2.06-.94-2.06-.94-.94-2.06-.94 2.06-2.06.94zm-11 1L8.5 8.5l.94-2.06 2.06-.94-2.06-.94L8.5 2.5l-.94 2.06-2.06.94zm10 10l.94 2.06.94-2.06 2.06-.94-2.06-.94-.94-2.06-.94 2.06-2.06.94z\"/><path d=\"M17.41 7.96l-1.37-1.37c-.4-.4-.92-.59-1.43-.59-.52 0-1.04.2-1.43.59L10.3 9.45l-7.72 7.72c-.78.78-.78 2.05 0 2.83L4 21.41c.39.39.9.59 1.41.59.51 0 1.02-.2 1.41-.59l7.78-7.78 2.81-2.81c.8-.78.8-2.07 0-2.86zM5.41 20L4 18.59l7.72-7.72 1.47 1.35L5.41 20z\"/>\n",
              "  </svg>\n",
              "      </button>\n",
              "      \n",
              "  <style>\n",
              "    .colab-df-container {\n",
              "      display:flex;\n",
              "      flex-wrap:wrap;\n",
              "      gap: 12px;\n",
              "    }\n",
              "\n",
              "    .colab-df-convert {\n",
              "      background-color: #E8F0FE;\n",
              "      border: none;\n",
              "      border-radius: 50%;\n",
              "      cursor: pointer;\n",
              "      display: none;\n",
              "      fill: #1967D2;\n",
              "      height: 32px;\n",
              "      padding: 0 0 0 0;\n",
              "      width: 32px;\n",
              "    }\n",
              "\n",
              "    .colab-df-convert:hover {\n",
              "      background-color: #E2EBFA;\n",
              "      box-shadow: 0px 1px 2px rgba(60, 64, 67, 0.3), 0px 1px 3px 1px rgba(60, 64, 67, 0.15);\n",
              "      fill: #174EA6;\n",
              "    }\n",
              "\n",
              "    [theme=dark] .colab-df-convert {\n",
              "      background-color: #3B4455;\n",
              "      fill: #D2E3FC;\n",
              "    }\n",
              "\n",
              "    [theme=dark] .colab-df-convert:hover {\n",
              "      background-color: #434B5C;\n",
              "      box-shadow: 0px 1px 3px 1px rgba(0, 0, 0, 0.15);\n",
              "      filter: drop-shadow(0px 1px 2px rgba(0, 0, 0, 0.3));\n",
              "      fill: #FFFFFF;\n",
              "    }\n",
              "  </style>\n",
              "\n",
              "      <script>\n",
              "        const buttonEl =\n",
              "          document.querySelector('#df-9145b1a0-b7b9-471b-95bf-573e53981712 button.colab-df-convert');\n",
              "        buttonEl.style.display =\n",
              "          google.colab.kernel.accessAllowed ? 'block' : 'none';\n",
              "\n",
              "        async function convertToInteractive(key) {\n",
              "          const element = document.querySelector('#df-9145b1a0-b7b9-471b-95bf-573e53981712');\n",
              "          const dataTable =\n",
              "            await google.colab.kernel.invokeFunction('convertToInteractive',\n",
              "                                                     [key], {});\n",
              "          if (!dataTable) return;\n",
              "\n",
              "          const docLinkHtml = 'Like what you see? Visit the ' +\n",
              "            '<a target=\"_blank\" href=https://colab.research.google.com/notebooks/data_table.ipynb>data table notebook</a>'\n",
              "            + ' to learn more about interactive tables.';\n",
              "          element.innerHTML = '';\n",
              "          dataTable['output_type'] = 'display_data';\n",
              "          await google.colab.output.renderOutput(dataTable, element);\n",
              "          const docLink = document.createElement('div');\n",
              "          docLink.innerHTML = docLinkHtml;\n",
              "          element.appendChild(docLink);\n",
              "        }\n",
              "      </script>\n",
              "    </div>\n",
              "  </div>\n",
              "  "
            ]
          },
          "metadata": {},
          "execution_count": 44
        }
      ],
      "source": [
        "X_train_pd = pd.DataFrame(X_train)\n",
        "\n",
        "# First 15 rows of our dataset.\n",
        "X_train_pd.head(15)"
      ]
    },
    {
      "cell_type": "markdown",
      "metadata": {
        "nbgrader": {
          "grade": false,
          "grade_id": "cell-98e7d91d77d65fcf",
          "locked": true,
          "schema_version": 2,
          "solution": false
        },
        "id": "UUfm5a4vSp9u"
      },
      "source": [
        "Methods `describe` and `info` deliver some useful information."
      ]
    },
    {
      "cell_type": "code",
      "execution_count": null,
      "metadata": {
        "colab": {
          "base_uri": "https://localhost:8080/",
          "height": 356
        },
        "id": "WeGXE0SmSp9v",
        "outputId": "97db9b9c-0a34-43ee-b522-4c64a53b7a12"
      },
      "outputs": [
        {
          "output_type": "execute_result",
          "data": {
            "text/plain": [
              "               0           1           2           3           4           5   \\\n",
              "count  549.000000  549.000000  549.000000  549.000000  549.000000  549.000000   \n",
              "mean   424.335155   93.826958   45.167577   82.613843  169.888889   61.779599   \n",
              "std    244.314975    8.155264    6.199332   15.823164   34.283017    8.788713   \n",
              "min      0.000000   76.000000   33.000000   40.000000  104.000000   47.000000   \n",
              "25%    206.000000   88.000000   40.000000   70.000000  141.000000   57.000000   \n",
              "50%    420.000000   93.000000   45.000000   80.000000  169.000000   61.000000   \n",
              "75%    635.000000  100.000000   50.000000   98.000000  197.000000   65.000000   \n",
              "max    845.000000  119.000000   59.000000  110.000000  333.000000  138.000000   \n",
              "\n",
              "               6           7           8           9           10          11  \\\n",
              "count  549.000000  549.000000  549.000000  549.000000  549.000000  549.000000   \n",
              "mean     8.715847  170.408015   40.579235   20.714026  148.635701  190.380692   \n",
              "std      5.253722   33.693623    7.849846    2.636805   14.624069   32.033156   \n",
              "min      3.000000  112.000000   26.000000   17.000000  118.000000  130.000000   \n",
              "25%      7.000000  148.000000   33.000000   19.000000  138.000000  168.000000   \n",
              "50%      8.000000  159.000000   42.000000   20.000000  147.000000  180.000000   \n",
              "75%     10.000000  200.000000   46.000000   23.000000  160.000000  218.000000   \n",
              "max     55.000000  265.000000   61.000000   29.000000  188.000000  320.000000   \n",
              "\n",
              "                12          13          14          15          16  \\\n",
              "count   549.000000  549.000000  549.000000  549.000000  549.000000   \n",
              "mean    448.178506  176.559199   72.832423    6.300546   12.628415   \n",
              "std     179.954964   32.614686    8.042381    4.727117    9.008329   \n",
              "min     184.000000  109.000000   59.000000    0.000000    0.000000   \n",
              "25%     322.000000  151.000000   68.000000    3.000000    6.000000   \n",
              "50%     369.000000  176.000000   72.000000    6.000000   11.000000   \n",
              "75%     600.000000  200.000000   76.000000    9.000000   19.000000   \n",
              "max    1018.000000  264.000000  135.000000   22.000000   41.000000   \n",
              "\n",
              "               17          18  \n",
              "count  549.000000  549.000000  \n",
              "mean   188.714026  195.424408  \n",
              "std      6.095065    7.456701  \n",
              "min    176.000000  181.000000  \n",
              "25%    184.000000  190.000000  \n",
              "50%    188.000000  196.000000  \n",
              "75%    193.000000  201.000000  \n",
              "max    204.000000  211.000000  "
            ],
            "text/html": [
              "\n",
              "  <div id=\"df-c2c91a03-e589-486c-a497-086d4f07f681\">\n",
              "    <div class=\"colab-df-container\">\n",
              "      <div>\n",
              "<style scoped>\n",
              "    .dataframe tbody tr th:only-of-type {\n",
              "        vertical-align: middle;\n",
              "    }\n",
              "\n",
              "    .dataframe tbody tr th {\n",
              "        vertical-align: top;\n",
              "    }\n",
              "\n",
              "    .dataframe thead th {\n",
              "        text-align: right;\n",
              "    }\n",
              "</style>\n",
              "<table border=\"1\" class=\"dataframe\">\n",
              "  <thead>\n",
              "    <tr style=\"text-align: right;\">\n",
              "      <th></th>\n",
              "      <th>0</th>\n",
              "      <th>1</th>\n",
              "      <th>2</th>\n",
              "      <th>3</th>\n",
              "      <th>4</th>\n",
              "      <th>5</th>\n",
              "      <th>6</th>\n",
              "      <th>7</th>\n",
              "      <th>8</th>\n",
              "      <th>9</th>\n",
              "      <th>10</th>\n",
              "      <th>11</th>\n",
              "      <th>12</th>\n",
              "      <th>13</th>\n",
              "      <th>14</th>\n",
              "      <th>15</th>\n",
              "      <th>16</th>\n",
              "      <th>17</th>\n",
              "      <th>18</th>\n",
              "    </tr>\n",
              "  </thead>\n",
              "  <tbody>\n",
              "    <tr>\n",
              "      <th>count</th>\n",
              "      <td>549.000000</td>\n",
              "      <td>549.000000</td>\n",
              "      <td>549.000000</td>\n",
              "      <td>549.000000</td>\n",
              "      <td>549.000000</td>\n",
              "      <td>549.000000</td>\n",
              "      <td>549.000000</td>\n",
              "      <td>549.000000</td>\n",
              "      <td>549.000000</td>\n",
              "      <td>549.000000</td>\n",
              "      <td>549.000000</td>\n",
              "      <td>549.000000</td>\n",
              "      <td>549.000000</td>\n",
              "      <td>549.000000</td>\n",
              "      <td>549.000000</td>\n",
              "      <td>549.000000</td>\n",
              "      <td>549.000000</td>\n",
              "      <td>549.000000</td>\n",
              "      <td>549.000000</td>\n",
              "    </tr>\n",
              "    <tr>\n",
              "      <th>mean</th>\n",
              "      <td>424.335155</td>\n",
              "      <td>93.826958</td>\n",
              "      <td>45.167577</td>\n",
              "      <td>82.613843</td>\n",
              "      <td>169.888889</td>\n",
              "      <td>61.779599</td>\n",
              "      <td>8.715847</td>\n",
              "      <td>170.408015</td>\n",
              "      <td>40.579235</td>\n",
              "      <td>20.714026</td>\n",
              "      <td>148.635701</td>\n",
              "      <td>190.380692</td>\n",
              "      <td>448.178506</td>\n",
              "      <td>176.559199</td>\n",
              "      <td>72.832423</td>\n",
              "      <td>6.300546</td>\n",
              "      <td>12.628415</td>\n",
              "      <td>188.714026</td>\n",
              "      <td>195.424408</td>\n",
              "    </tr>\n",
              "    <tr>\n",
              "      <th>std</th>\n",
              "      <td>244.314975</td>\n",
              "      <td>8.155264</td>\n",
              "      <td>6.199332</td>\n",
              "      <td>15.823164</td>\n",
              "      <td>34.283017</td>\n",
              "      <td>8.788713</td>\n",
              "      <td>5.253722</td>\n",
              "      <td>33.693623</td>\n",
              "      <td>7.849846</td>\n",
              "      <td>2.636805</td>\n",
              "      <td>14.624069</td>\n",
              "      <td>32.033156</td>\n",
              "      <td>179.954964</td>\n",
              "      <td>32.614686</td>\n",
              "      <td>8.042381</td>\n",
              "      <td>4.727117</td>\n",
              "      <td>9.008329</td>\n",
              "      <td>6.095065</td>\n",
              "      <td>7.456701</td>\n",
              "    </tr>\n",
              "    <tr>\n",
              "      <th>min</th>\n",
              "      <td>0.000000</td>\n",
              "      <td>76.000000</td>\n",
              "      <td>33.000000</td>\n",
              "      <td>40.000000</td>\n",
              "      <td>104.000000</td>\n",
              "      <td>47.000000</td>\n",
              "      <td>3.000000</td>\n",
              "      <td>112.000000</td>\n",
              "      <td>26.000000</td>\n",
              "      <td>17.000000</td>\n",
              "      <td>118.000000</td>\n",
              "      <td>130.000000</td>\n",
              "      <td>184.000000</td>\n",
              "      <td>109.000000</td>\n",
              "      <td>59.000000</td>\n",
              "      <td>0.000000</td>\n",
              "      <td>0.000000</td>\n",
              "      <td>176.000000</td>\n",
              "      <td>181.000000</td>\n",
              "    </tr>\n",
              "    <tr>\n",
              "      <th>25%</th>\n",
              "      <td>206.000000</td>\n",
              "      <td>88.000000</td>\n",
              "      <td>40.000000</td>\n",
              "      <td>70.000000</td>\n",
              "      <td>141.000000</td>\n",
              "      <td>57.000000</td>\n",
              "      <td>7.000000</td>\n",
              "      <td>148.000000</td>\n",
              "      <td>33.000000</td>\n",
              "      <td>19.000000</td>\n",
              "      <td>138.000000</td>\n",
              "      <td>168.000000</td>\n",
              "      <td>322.000000</td>\n",
              "      <td>151.000000</td>\n",
              "      <td>68.000000</td>\n",
              "      <td>3.000000</td>\n",
              "      <td>6.000000</td>\n",
              "      <td>184.000000</td>\n",
              "      <td>190.000000</td>\n",
              "    </tr>\n",
              "    <tr>\n",
              "      <th>50%</th>\n",
              "      <td>420.000000</td>\n",
              "      <td>93.000000</td>\n",
              "      <td>45.000000</td>\n",
              "      <td>80.000000</td>\n",
              "      <td>169.000000</td>\n",
              "      <td>61.000000</td>\n",
              "      <td>8.000000</td>\n",
              "      <td>159.000000</td>\n",
              "      <td>42.000000</td>\n",
              "      <td>20.000000</td>\n",
              "      <td>147.000000</td>\n",
              "      <td>180.000000</td>\n",
              "      <td>369.000000</td>\n",
              "      <td>176.000000</td>\n",
              "      <td>72.000000</td>\n",
              "      <td>6.000000</td>\n",
              "      <td>11.000000</td>\n",
              "      <td>188.000000</td>\n",
              "      <td>196.000000</td>\n",
              "    </tr>\n",
              "    <tr>\n",
              "      <th>75%</th>\n",
              "      <td>635.000000</td>\n",
              "      <td>100.000000</td>\n",
              "      <td>50.000000</td>\n",
              "      <td>98.000000</td>\n",
              "      <td>197.000000</td>\n",
              "      <td>65.000000</td>\n",
              "      <td>10.000000</td>\n",
              "      <td>200.000000</td>\n",
              "      <td>46.000000</td>\n",
              "      <td>23.000000</td>\n",
              "      <td>160.000000</td>\n",
              "      <td>218.000000</td>\n",
              "      <td>600.000000</td>\n",
              "      <td>200.000000</td>\n",
              "      <td>76.000000</td>\n",
              "      <td>9.000000</td>\n",
              "      <td>19.000000</td>\n",
              "      <td>193.000000</td>\n",
              "      <td>201.000000</td>\n",
              "    </tr>\n",
              "    <tr>\n",
              "      <th>max</th>\n",
              "      <td>845.000000</td>\n",
              "      <td>119.000000</td>\n",
              "      <td>59.000000</td>\n",
              "      <td>110.000000</td>\n",
              "      <td>333.000000</td>\n",
              "      <td>138.000000</td>\n",
              "      <td>55.000000</td>\n",
              "      <td>265.000000</td>\n",
              "      <td>61.000000</td>\n",
              "      <td>29.000000</td>\n",
              "      <td>188.000000</td>\n",
              "      <td>320.000000</td>\n",
              "      <td>1018.000000</td>\n",
              "      <td>264.000000</td>\n",
              "      <td>135.000000</td>\n",
              "      <td>22.000000</td>\n",
              "      <td>41.000000</td>\n",
              "      <td>204.000000</td>\n",
              "      <td>211.000000</td>\n",
              "    </tr>\n",
              "  </tbody>\n",
              "</table>\n",
              "</div>\n",
              "      <button class=\"colab-df-convert\" onclick=\"convertToInteractive('df-c2c91a03-e589-486c-a497-086d4f07f681')\"\n",
              "              title=\"Convert this dataframe to an interactive table.\"\n",
              "              style=\"display:none;\">\n",
              "        \n",
              "  <svg xmlns=\"http://www.w3.org/2000/svg\" height=\"24px\"viewBox=\"0 0 24 24\"\n",
              "       width=\"24px\">\n",
              "    <path d=\"M0 0h24v24H0V0z\" fill=\"none\"/>\n",
              "    <path d=\"M18.56 5.44l.94 2.06.94-2.06 2.06-.94-2.06-.94-.94-2.06-.94 2.06-2.06.94zm-11 1L8.5 8.5l.94-2.06 2.06-.94-2.06-.94L8.5 2.5l-.94 2.06-2.06.94zm10 10l.94 2.06.94-2.06 2.06-.94-2.06-.94-.94-2.06-.94 2.06-2.06.94z\"/><path d=\"M17.41 7.96l-1.37-1.37c-.4-.4-.92-.59-1.43-.59-.52 0-1.04.2-1.43.59L10.3 9.45l-7.72 7.72c-.78.78-.78 2.05 0 2.83L4 21.41c.39.39.9.59 1.41.59.51 0 1.02-.2 1.41-.59l7.78-7.78 2.81-2.81c.8-.78.8-2.07 0-2.86zM5.41 20L4 18.59l7.72-7.72 1.47 1.35L5.41 20z\"/>\n",
              "  </svg>\n",
              "      </button>\n",
              "      \n",
              "  <style>\n",
              "    .colab-df-container {\n",
              "      display:flex;\n",
              "      flex-wrap:wrap;\n",
              "      gap: 12px;\n",
              "    }\n",
              "\n",
              "    .colab-df-convert {\n",
              "      background-color: #E8F0FE;\n",
              "      border: none;\n",
              "      border-radius: 50%;\n",
              "      cursor: pointer;\n",
              "      display: none;\n",
              "      fill: #1967D2;\n",
              "      height: 32px;\n",
              "      padding: 0 0 0 0;\n",
              "      width: 32px;\n",
              "    }\n",
              "\n",
              "    .colab-df-convert:hover {\n",
              "      background-color: #E2EBFA;\n",
              "      box-shadow: 0px 1px 2px rgba(60, 64, 67, 0.3), 0px 1px 3px 1px rgba(60, 64, 67, 0.15);\n",
              "      fill: #174EA6;\n",
              "    }\n",
              "\n",
              "    [theme=dark] .colab-df-convert {\n",
              "      background-color: #3B4455;\n",
              "      fill: #D2E3FC;\n",
              "    }\n",
              "\n",
              "    [theme=dark] .colab-df-convert:hover {\n",
              "      background-color: #434B5C;\n",
              "      box-shadow: 0px 1px 3px 1px rgba(0, 0, 0, 0.15);\n",
              "      filter: drop-shadow(0px 1px 2px rgba(0, 0, 0, 0.3));\n",
              "      fill: #FFFFFF;\n",
              "    }\n",
              "  </style>\n",
              "\n",
              "      <script>\n",
              "        const buttonEl =\n",
              "          document.querySelector('#df-c2c91a03-e589-486c-a497-086d4f07f681 button.colab-df-convert');\n",
              "        buttonEl.style.display =\n",
              "          google.colab.kernel.accessAllowed ? 'block' : 'none';\n",
              "\n",
              "        async function convertToInteractive(key) {\n",
              "          const element = document.querySelector('#df-c2c91a03-e589-486c-a497-086d4f07f681');\n",
              "          const dataTable =\n",
              "            await google.colab.kernel.invokeFunction('convertToInteractive',\n",
              "                                                     [key], {});\n",
              "          if (!dataTable) return;\n",
              "\n",
              "          const docLinkHtml = 'Like what you see? Visit the ' +\n",
              "            '<a target=\"_blank\" href=https://colab.research.google.com/notebooks/data_table.ipynb>data table notebook</a>'\n",
              "            + ' to learn more about interactive tables.';\n",
              "          element.innerHTML = '';\n",
              "          dataTable['output_type'] = 'display_data';\n",
              "          await google.colab.output.renderOutput(dataTable, element);\n",
              "          const docLink = document.createElement('div');\n",
              "          docLink.innerHTML = docLinkHtml;\n",
              "          element.appendChild(docLink);\n",
              "        }\n",
              "      </script>\n",
              "    </div>\n",
              "  </div>\n",
              "  "
            ]
          },
          "metadata": {},
          "execution_count": 45
        }
      ],
      "source": [
        "X_train_pd.describe()"
      ]
    },
    {
      "cell_type": "code",
      "execution_count": null,
      "metadata": {
        "colab": {
          "base_uri": "https://localhost:8080/"
        },
        "id": "2E_3G5eUSp9w",
        "outputId": "e4294f0f-97b0-46df-93e3-d926295d0e72"
      },
      "outputs": [
        {
          "output_type": "stream",
          "name": "stdout",
          "text": [
            "<class 'pandas.core.frame.DataFrame'>\n",
            "RangeIndex: 549 entries, 0 to 548\n",
            "Data columns (total 19 columns):\n",
            " #   Column  Non-Null Count  Dtype\n",
            "---  ------  --------------  -----\n",
            " 0   0       549 non-null    int64\n",
            " 1   1       549 non-null    int64\n",
            " 2   2       549 non-null    int64\n",
            " 3   3       549 non-null    int64\n",
            " 4   4       549 non-null    int64\n",
            " 5   5       549 non-null    int64\n",
            " 6   6       549 non-null    int64\n",
            " 7   7       549 non-null    int64\n",
            " 8   8       549 non-null    int64\n",
            " 9   9       549 non-null    int64\n",
            " 10  10      549 non-null    int64\n",
            " 11  11      549 non-null    int64\n",
            " 12  12      549 non-null    int64\n",
            " 13  13      549 non-null    int64\n",
            " 14  14      549 non-null    int64\n",
            " 15  15      549 non-null    int64\n",
            " 16  16      549 non-null    int64\n",
            " 17  17      549 non-null    int64\n",
            " 18  18      549 non-null    int64\n",
            "dtypes: int64(19)\n",
            "memory usage: 81.6 KB\n"
          ]
        }
      ],
      "source": [
        "X_train_pd.info()"
      ]
    },
    {
      "cell_type": "markdown",
      "metadata": {
        "nbgrader": {
          "grade": false,
          "grade_id": "cell-be844269be69c387",
          "locked": true,
          "schema_version": 2,
          "solution": false
        },
        "id": "Y2AQOTSASp9w"
      },
      "source": [
        "### 2. Machine Learning pipeline\n",
        "Here you are supposed to perform the desired transformations. Please, explain your results briefly after each task."
      ]
    },
    {
      "cell_type": "markdown",
      "metadata": {
        "id": "kIovRACKSp9x"
      },
      "source": [
        "#### 2.0. Data preprocessing\n",
        "* Make some transformations of the dataset (if necessary). Briefly explain the transformations"
      ]
    },
    {
      "cell_type": "markdown",
      "source": [
        "Для начала посмотрим на то, какие значения лейблов лежат в нашей целевой переменной и при необходимости трансформируем."
      ],
      "metadata": {
        "id": "E0m6kMhvVv_2"
      }
    },
    {
      "cell_type": "code",
      "execution_count": null,
      "metadata": {
        "nbgrader": {
          "grade": true,
          "grade_id": "cell-a1514aa189a49fca",
          "locked": false,
          "points": 15,
          "schema_version": 2,
          "solution": true
        },
        "colab": {
          "base_uri": "https://localhost:8080/"
        },
        "id": "_YHaSfqqSp9y",
        "outputId": "e8ba55df-4f5c-43fd-916a-7bc1decd270c"
      },
      "outputs": [
        {
          "output_type": "execute_result",
          "data": {
            "text/plain": [
              "array(['bus', 'opel', 'van', 'saab'], dtype=object)"
            ]
          },
          "metadata": {},
          "execution_count": 47
        }
      ],
      "source": [
        "pd.unique(y_train)"
      ]
    },
    {
      "cell_type": "markdown",
      "source": [
        "Мы видим 4 различных значений лейблов, но они в текстовом формате. Было бы лучше сконвертировать их в числовой формат."
      ],
      "metadata": {
        "id": "b68fhtTMWJYS"
      }
    },
    {
      "cell_type": "code",
      "source": [
        "le = preprocessing.LabelEncoder()\n",
        "le.fit(y_train)\n",
        "y_train = le.transform(y_train)\n",
        "y_test = le.transform(y_test)"
      ],
      "metadata": {
        "id": "3cxhCaP01mBK"
      },
      "execution_count": null,
      "outputs": []
    },
    {
      "cell_type": "markdown",
      "source": [
        "Теперь можно посмотреть на сам датасет. Мы можем заметить, что все колонки не содержат Null values, то есть нам не нужно ничего заполнять/убирать в датасете.\n",
        "\n",
        "Все колонки имеют тип Integer, но при этом у всех колонок разный диапазон значений. Для того, чтобы модели показывали лучший результат, отнормируем значения, вычтя среднее и поделив на дисперсию, для каждой колонки данных. Это необходимо в том числе и потому, что далее мы будем применеять PCA, а его следует проводить на отнормированных данных."
      ],
      "metadata": {
        "id": "XjktMl0n3Q4T"
      }
    },
    {
      "cell_type": "code",
      "source": [
        "sc = preprocessing.StandardScaler()\n",
        "x_train_sc = sc.fit_transform(X_train)\n",
        "x_test_sc = sc.transform(X_test)                            "
      ],
      "metadata": {
        "id": "S_JuvUj44bR0"
      },
      "execution_count": null,
      "outputs": []
    },
    {
      "cell_type": "markdown",
      "metadata": {
        "id": "_CrcR6IzSp9y"
      },
      "source": [
        "#### 2.1. Basic logistic regression\n",
        "* Find optimal hyperparameters for logistic regression with cross-validation on the `train` data (small grid/random search is enough, no need to find the *best* parameters).\n",
        "\n",
        "* Estimate the model quality with `f1` and `accuracy` scores.\n",
        "* Plot a ROC-curve for the trained model. For the multiclass case you might use `scikitplot` library (e.g. `scikitplot.metrics.plot_roc(test_labels, predicted_proba)`).\n",
        "\n",
        "*Note: please, use the following hyperparameters for logistic regression: `multi_class='multinomial'`, `solver='saga'` `tol=1e-3` and ` max_iter=500`.*"
      ]
    },
    {
      "cell_type": "code",
      "source": [
        "grid={\"C\": np.linspace(0.1, 1, 10), \"penalty\":[\"l1\",\"l2\"]} # l1 lasso l2 ridge\n",
        "logreg=LogisticRegression(multi_class='multinomial', solver='saga', tol=1e-3, max_iter=500)\n",
        "logreg_cv=GridSearchCV(logreg, grid, cv=10)\n",
        "logreg_cv.fit(x_train_sc, y_train)"
      ],
      "metadata": {
        "colab": {
          "base_uri": "https://localhost:8080/"
        },
        "id": "B1Wo3OGsrPG-",
        "outputId": "51c68f0c-f6b9-42ca-8f5f-5fdb50fad057"
      },
      "execution_count": null,
      "outputs": [
        {
          "output_type": "execute_result",
          "data": {
            "text/plain": [
              "GridSearchCV(cv=10,\n",
              "             estimator=LogisticRegression(max_iter=500,\n",
              "                                          multi_class='multinomial',\n",
              "                                          solver='saga', tol=0.001),\n",
              "             param_grid={'C': array([0.1, 0.2, 0.3, 0.4, 0.5, 0.6, 0.7, 0.8, 0.9, 1. ]),\n",
              "                         'penalty': ['l1', 'l2']})"
            ]
          },
          "metadata": {},
          "execution_count": 50
        }
      ]
    },
    {
      "cell_type": "code",
      "source": [
        "print(\"tuned hpyerparameters :(best parameters) \",logreg_cv.best_params_)\n",
        "print(\"accuracy :\",logreg_cv.best_score_)"
      ],
      "metadata": {
        "colab": {
          "base_uri": "https://localhost:8080/"
        },
        "id": "fCOUoF5XtKe5",
        "outputId": "5ae8e305-0fbf-438c-ed86-e6e39a23b4dc"
      },
      "execution_count": null,
      "outputs": [
        {
          "output_type": "stream",
          "name": "stdout",
          "text": [
            "tuned hpyerparameters :(best parameters)  {'C': 1.0, 'penalty': 'l1'}\n",
            "accuracy : 0.7778451178451179\n"
          ]
        }
      ]
    },
    {
      "cell_type": "code",
      "source": [
        "logreg_best = LogisticRegression(**logreg_cv.best_params_, multi_class='multinomial', solver='saga', tol=1e-3, max_iter=500)\n",
        "logreg_best.fit(x_train_sc, y_train)"
      ],
      "metadata": {
        "colab": {
          "base_uri": "https://localhost:8080/"
        },
        "id": "K1K_6lhxv6C9",
        "outputId": "72c09ae8-f665-431e-83ce-989d07954fcf"
      },
      "execution_count": null,
      "outputs": [
        {
          "output_type": "execute_result",
          "data": {
            "text/plain": [
              "LogisticRegression(max_iter=500, multi_class='multinomial', penalty='l1',\n",
              "                   solver='saga', tol=0.001)"
            ]
          },
          "metadata": {},
          "execution_count": 52
        }
      ]
    },
    {
      "cell_type": "markdown",
      "source": [
        "Выполнив Grid Search, получаем, что наилучший результат получается прии значении `C=1.0` и использовании `penalty='l1'`, то есть при использовании lasso регуляризации."
      ],
      "metadata": {
        "id": "mHLNUezXez2L"
      }
    },
    {
      "cell_type": "code",
      "source": [
        "predicted_labels = logreg_best.predict(x_test_sc)\n",
        "predicted_probas = logreg_best.predict_proba(x_test_sc)"
      ],
      "metadata": {
        "id": "ODoxjz7-wvE2"
      },
      "execution_count": null,
      "outputs": []
    },
    {
      "cell_type": "code",
      "source": [
        "accuracy_score(y_test, predicted_labels)"
      ],
      "metadata": {
        "colab": {
          "base_uri": "https://localhost:8080/"
        },
        "id": "6ZVyuR3vxL9G",
        "outputId": "a56b204c-694d-4fd2-a158-37aa62218517"
      },
      "execution_count": null,
      "outputs": [
        {
          "output_type": "execute_result",
          "data": {
            "text/plain": [
              "0.7946127946127947"
            ]
          },
          "metadata": {},
          "execution_count": 54
        }
      ]
    },
    {
      "cell_type": "code",
      "source": [
        "f1_score(y_test, predicted_labels, average='weighted')"
      ],
      "metadata": {
        "colab": {
          "base_uri": "https://localhost:8080/"
        },
        "id": "-khgv2sBxTxU",
        "outputId": "d6e218e9-3013-40e3-a891-dcf798cbe0a7"
      },
      "execution_count": null,
      "outputs": [
        {
          "output_type": "execute_result",
          "data": {
            "text/plain": [
              "0.7917743764414944"
            ]
          },
          "metadata": {},
          "execution_count": 55
        }
      ]
    },
    {
      "cell_type": "code",
      "source": [
        "skplt.metrics.plot_roc(y_test, predicted_probas)"
      ],
      "metadata": {
        "colab": {
          "base_uri": "https://localhost:8080/",
          "height": 310
        },
        "id": "_91neAuLzWQN",
        "outputId": "11db913b-b43e-4350-9ec4-55f7460a5d83"
      },
      "execution_count": null,
      "outputs": [
        {
          "output_type": "execute_result",
          "data": {
            "text/plain": [
              "<matplotlib.axes._subplots.AxesSubplot at 0x7fc0c2785850>"
            ]
          },
          "metadata": {},
          "execution_count": 56
        },
        {
          "output_type": "display_data",
          "data": {
            "text/plain": [
              "<Figure size 432x288 with 1 Axes>"
            ],
            "image/png": "[encoded data removed]"
          },
          "metadata": {
            "needs_background": "light"
          }
        }
      ]
    },
    {
      "cell_type": "markdown",
      "source": [
        "Получили, что модель показывает accuracy примерно 0.79 на тестовой выборке. При этом, логистическая регрессия хорошо работает для наблюдений класса 0 и 3, но при этом хуже для классов 1 и 2."
      ],
      "metadata": {
        "id": "_86_pNqvrzE3"
      }
    },
    {
      "cell_type": "markdown",
      "metadata": {
        "id": "U2R7F2CUSp90"
      },
      "source": [
        "#### 2.2. PCA: explained variance plot\n",
        "* Apply the PCA to the train part of the data. Build the explaided variance plot. "
      ]
    },
    {
      "cell_type": "code",
      "execution_count": null,
      "metadata": {
        "nbgrader": {
          "grade": true,
          "grade_id": "cell-c6c614740bce090e",
          "locked": false,
          "points": 10,
          "schema_version": 2,
          "solution": true
        },
        "id": "IulyAduaSp91",
        "colab": {
          "base_uri": "https://localhost:8080/",
          "height": 296
        },
        "outputId": "9a90c685-12b4-4b4b-f88b-2e51b5690334"
      },
      "outputs": [
        {
          "output_type": "display_data",
          "data": {
            "text/plain": [
              "<Figure size 432x288 with 1 Axes>"
            ],
            "image/png": "[encoded data removed]"
          },
          "metadata": {
            "needs_background": "light"
          }
        }
      ],
      "source": [
        "pca = PCA()\n",
        "#\n",
        "# Determine transformed features\n",
        "#\n",
        "X_train_pca = pca.fit_transform(x_train_sc)\n",
        "#\n",
        "# Determine explained variance using explained_variance_ration_ attribute\n",
        "#\n",
        "exp_var_pca = pca.explained_variance_ratio_\n",
        "#\n",
        "# Cumulative sum of eigenvalues; This will be used to create step plot\n",
        "# for visualizing the variance explained by each principal component.\n",
        "#\n",
        "cum_sum_eigenvalues = np.cumsum(exp_var_pca)\n",
        "#\n",
        "# Create the visualization plot\n",
        "#\n",
        "plt.bar(range(0,len(exp_var_pca)), exp_var_pca, alpha=0.5, align='center', label='Individual explained variance')\n",
        "plt.step(range(0,len(cum_sum_eigenvalues)), cum_sum_eigenvalues, where='mid',label='Cumulative explained variance')\n",
        "plt.ylabel('Explained variance ratio')\n",
        "plt.xlabel('Principal component index')\n",
        "plt.legend(loc='best')\n",
        "plt.tight_layout()\n",
        "plt.show()"
      ]
    },
    {
      "cell_type": "code",
      "source": [
        "cum_sum_eigenvalues"
      ],
      "metadata": {
        "colab": {
          "base_uri": "https://localhost:8080/"
        },
        "id": "ajLJ4-NDEWTd",
        "outputId": "2185f71c-fe2d-486a-9aa8-6cde8f744a3d"
      },
      "execution_count": null,
      "outputs": [
        {
          "output_type": "execute_result",
          "data": {
            "text/plain": [
              "array([0.48953541, 0.64625907, 0.75801507, 0.81899636, 0.8717765 ,\n",
              "       0.91946786, 0.94707589, 0.96527643, 0.9768707 , 0.98509099,\n",
              "       0.98990127, 0.99290174, 0.99512003, 0.99706415, 0.99817902,\n",
              "       0.99898027, 0.99967263, 0.99998177, 1.        ])"
            ]
          },
          "metadata": {},
          "execution_count": 58
        }
      ]
    },
    {
      "cell_type": "markdown",
      "metadata": {
        "nbgrader": {
          "grade": false,
          "grade_id": "cell-0c1fe666f52fe53c",
          "locked": true,
          "schema_version": 2,
          "solution": false
        },
        "id": "ExRBKuxSSp91"
      },
      "source": [
        "#### 2.3. PCA trasformation\n",
        "* Select the appropriate number of components. Briefly explain your choice. Should you normalize the data?\n",
        "\n",
        "*Use `fit` and `transform` methods to transform the `train` and `test` parts.*"
      ]
    },
    {
      "cell_type": "markdown",
      "source": [
        "Как уже было сказано в разделе предобработки данных, мы должны обязательно отнормировать данные, чтобы применять к ним PCA, что и было сделано в предобработке.\n",
        "По значениям кумулятивных сумм можно видеть, что 12 компонент объясняют 99% данных. Возьмём это число компонент."
      ],
      "metadata": {
        "id": "ImaMh9Twtm1r"
      }
    },
    {
      "cell_type": "code",
      "execution_count": null,
      "metadata": {
        "nbgrader": {
          "grade": true,
          "grade_id": "cell-96ab18d96473ef71",
          "locked": false,
          "points": 5,
          "schema_version": 2,
          "solution": true
        },
        "id": "it6vbyDcSp92"
      },
      "outputs": [],
      "source": [
        "pca = PCA(n_components=12)\n",
        "x_train_pca = pca.fit_transform(x_train_sc)\n",
        "x_test_pca = pca.transform(x_test_sc)"
      ]
    },
    {
      "cell_type": "markdown",
      "metadata": {
        "id": "_pqfQLS7Sp93"
      },
      "source": [
        "**Note: From this point `sklearn` [Pipeline](https://scikit-learn.org/stable/modules/compose.html) might be useful to perform transformations on the data. Refer to the [docs](https://scikit-learn.org/stable/modules/generated/sklearn.pipeline.Pipeline.html) for more information.**"
      ]
    },
    {
      "cell_type": "markdown",
      "metadata": {
        "nbgrader": {
          "grade": false,
          "grade_id": "cell-d28b58a35c94e988",
          "locked": true,
          "schema_version": 2,
          "solution": false
        },
        "id": "zG9HtelHSp93"
      },
      "source": [
        "#### 2.4. Logistic regression on PCA-preprocessed data.\n",
        "* Find optimal hyperparameters for logistic regression with cross-validation on the transformed by PCA `train` data.\n",
        "\n",
        "* Estimate the model quality with `f1` and `accuracy` scores.\n",
        "* Plot a ROC-curve for the trained model. For the multiclass case you might use `scikitplot` library (e.g. `scikitplot.metrics.plot_roc(test_labels, predicted_proba)`).\n",
        "\n",
        "*Note: please, use the following hyperparameters for logistic regression: `multi_class='multinomial'`, `solver='saga'` and `tol=1e-3`*"
      ]
    },
    {
      "cell_type": "code",
      "execution_count": null,
      "metadata": {
        "nbgrader": {
          "grade": true,
          "grade_id": "cell-12d53ea45258fa82",
          "locked": false,
          "points": 5,
          "schema_version": 2,
          "solution": true
        },
        "id": "cT-gjmaoSp94",
        "colab": {
          "base_uri": "https://localhost:8080/"
        },
        "outputId": "7b4749f9-8fd8-4c51-8011-f26adca92e43"
      },
      "outputs": [
        {
          "output_type": "execute_result",
          "data": {
            "text/plain": [
              "GridSearchCV(cv=10,\n",
              "             estimator=LogisticRegression(max_iter=500,\n",
              "                                          multi_class='multinomial',\n",
              "                                          solver='saga', tol=0.001),\n",
              "             param_grid={'C': array([0.1, 0.2, 0.3, 0.4, 0.5, 0.6, 0.7, 0.8, 0.9, 1. ]),\n",
              "                         'penalty': ['l1', 'l2']})"
            ]
          },
          "metadata": {},
          "execution_count": 60
        }
      ],
      "source": [
        "grid={\"C\": np.linspace(0.1, 1, 10), \"penalty\":[\"l1\",\"l2\"]} # l1 lasso l2 ridge\n",
        "logreg=LogisticRegression(multi_class='multinomial', solver='saga', tol=1e-3, max_iter=500)\n",
        "logreg_cv=GridSearchCV(logreg, grid, cv=10)\n",
        "logreg_cv.fit(x_train_pca, y_train)"
      ]
    },
    {
      "cell_type": "code",
      "source": [
        "print(\"tuned hpyerparameters :(best parameters) \",logreg_cv.best_params_)\n",
        "print(\"accuracy :\",logreg_cv.best_score_)"
      ],
      "metadata": {
        "colab": {
          "base_uri": "https://localhost:8080/"
        },
        "id": "mnUxYB3gEnqI",
        "outputId": "ffa69ce7-2b0c-4e7e-e5b3-8bb3e269d593"
      },
      "execution_count": null,
      "outputs": [
        {
          "output_type": "stream",
          "name": "stdout",
          "text": [
            "tuned hpyerparameters :(best parameters)  {'C': 0.7000000000000001, 'penalty': 'l2'}\n",
            "accuracy : 0.7434006734006734\n"
          ]
        }
      ]
    },
    {
      "cell_type": "code",
      "source": [
        "logreg_best = LogisticRegression(**logreg_cv.best_params_, multi_class='multinomial', solver='saga', tol=1e-3, max_iter=500)\n",
        "logreg_best.fit(x_train_pca, y_train)"
      ],
      "metadata": {
        "colab": {
          "base_uri": "https://localhost:8080/"
        },
        "id": "8cbtbG5uEtym",
        "outputId": "8d322e0f-07d1-44c3-bf4e-01ce805844bd"
      },
      "execution_count": null,
      "outputs": [
        {
          "output_type": "execute_result",
          "data": {
            "text/plain": [
              "LogisticRegression(C=0.7000000000000001, max_iter=500,\n",
              "                   multi_class='multinomial', solver='saga', tol=0.001)"
            ]
          },
          "metadata": {},
          "execution_count": 62
        }
      ]
    },
    {
      "cell_type": "code",
      "source": [
        "predicted_labels = logreg_best.predict(x_test_pca)\n",
        "predicted_probas = logreg_best.predict_proba(x_test_pca)"
      ],
      "metadata": {
        "id": "XoXwW_HaE1nJ"
      },
      "execution_count": null,
      "outputs": []
    },
    {
      "cell_type": "code",
      "source": [
        "accuracy_score(y_test, predicted_labels)"
      ],
      "metadata": {
        "colab": {
          "base_uri": "https://localhost:8080/"
        },
        "id": "Ym1Qr9kUE6FR",
        "outputId": "6510bd66-c870-4914-941d-1342a90ee9f8"
      },
      "execution_count": null,
      "outputs": [
        {
          "output_type": "execute_result",
          "data": {
            "text/plain": [
              "0.7441077441077442"
            ]
          },
          "metadata": {},
          "execution_count": 64
        }
      ]
    },
    {
      "cell_type": "code",
      "source": [
        "f1_score(y_test, predicted_labels, average='weighted')"
      ],
      "metadata": {
        "colab": {
          "base_uri": "https://localhost:8080/"
        },
        "id": "MlMJhDkzE9XF",
        "outputId": "93712bf3-ba4a-46b2-f23a-f308b5f33594"
      },
      "execution_count": null,
      "outputs": [
        {
          "output_type": "execute_result",
          "data": {
            "text/plain": [
              "0.7359246122944428"
            ]
          },
          "metadata": {},
          "execution_count": 65
        }
      ]
    },
    {
      "cell_type": "code",
      "source": [
        "skplt.metrics.plot_roc(y_test, predicted_probas)"
      ],
      "metadata": {
        "colab": {
          "base_uri": "https://localhost:8080/",
          "height": 310
        },
        "id": "C7zoEuMHFAlr",
        "outputId": "b9a829cb-ba6c-42db-babf-7fe626f4b96b"
      },
      "execution_count": null,
      "outputs": [
        {
          "output_type": "execute_result",
          "data": {
            "text/plain": [
              "<matplotlib.axes._subplots.AxesSubplot at 0x7fc0bc988fa0>"
            ]
          },
          "metadata": {},
          "execution_count": 66
        },
        {
          "output_type": "display_data",
          "data": {
            "text/plain": [
              "<Figure size 432x288 with 1 Axes>"
            ],
            "image/png": "[encoded data removed]"
          },
          "metadata": {
            "needs_background": "light"
          }
        }
      ]
    },
    {
      "cell_type": "markdown",
      "source": [
        "Логистическая регрессия стала показывать результат несколько хуже, что ожидаемо, так как мы снизили размерность датасета и по сути не используем все данные, выбрав 12 компонент из 19."
      ],
      "metadata": {
        "id": "8o33f5u1vC33"
      }
    },
    {
      "cell_type": "markdown",
      "metadata": {
        "nbgrader": {
          "grade": false,
          "grade_id": "cell-4fbf16c64076e139",
          "locked": true,
          "schema_version": 2,
          "solution": false
        },
        "id": "FLQ7Gmp7Sp94"
      },
      "source": [
        "#### 2.5. Decision tree\n",
        "* Now train a desicion tree on the same data. Find optimal tree depth (`max_depth`) using cross-validation.\n",
        "\n",
        "* Measure the model quality using the same metrics you used above."
      ]
    },
    {
      "cell_type": "code",
      "source": [
        "grid = {\"max_depth\": np.arange(0, 17)}\n",
        "tree = DecisionTreeClassifier()\n",
        "tree_cv = GridSearchCV(tree, grid)\n",
        "tree_cv.fit(x_train_pca, y_train)"
      ],
      "metadata": {
        "colab": {
          "base_uri": "https://localhost:8080/"
        },
        "id": "bPWraByol7k4",
        "outputId": "6f154e40-7777-4142-9330-93b452f4c8e0"
      },
      "execution_count": null,
      "outputs": [
        {
          "output_type": "execute_result",
          "data": {
            "text/plain": [
              "GridSearchCV(estimator=DecisionTreeClassifier(),\n",
              "             param_grid={'max_depth': array([ 0,  1,  2,  3,  4,  5,  6,  7,  8,  9, 10, 11, 12, 13, 14, 15, 16])})"
            ]
          },
          "metadata": {},
          "execution_count": 67
        }
      ]
    },
    {
      "cell_type": "code",
      "source": [
        "print(\"tuned hpyerparameters :(best parameters) \",tree_cv.best_params_)\n",
        "print(\"accuracy :\",tree_cv.best_score_)"
      ],
      "metadata": {
        "colab": {
          "base_uri": "https://localhost:8080/"
        },
        "id": "0MWuyZronXNi",
        "outputId": "e81bd91a-ba3f-42f5-fc20-1835ac235c42"
      },
      "execution_count": null,
      "outputs": [
        {
          "output_type": "stream",
          "name": "stdout",
          "text": [
            "tuned hpyerparameters :(best parameters)  {'max_depth': 8}\n",
            "accuracy : 0.6265054211843203\n"
          ]
        }
      ]
    },
    {
      "cell_type": "code",
      "source": [
        "tree_best = DecisionTreeClassifier(**tree_cv.best_params_)\n",
        "tree_best.fit(x_train_pca, y_train)"
      ],
      "metadata": {
        "colab": {
          "base_uri": "https://localhost:8080/"
        },
        "id": "pPUehm-pnqak",
        "outputId": "fd9dfd0d-8ce0-4f89-cb75-b8c85b0b593b"
      },
      "execution_count": null,
      "outputs": [
        {
          "output_type": "execute_result",
          "data": {
            "text/plain": [
              "DecisionTreeClassifier(max_depth=8)"
            ]
          },
          "metadata": {},
          "execution_count": 69
        }
      ]
    },
    {
      "cell_type": "code",
      "source": [
        "predicted_labels = tree_best.predict(x_test_pca)\n",
        "predicted_probas = tree_best.predict_proba(x_test_pca)"
      ],
      "metadata": {
        "id": "PVjwEbaXnq9s"
      },
      "execution_count": null,
      "outputs": []
    },
    {
      "cell_type": "code",
      "source": [
        "accuracy_score(y_test, predicted_labels)"
      ],
      "metadata": {
        "colab": {
          "base_uri": "https://localhost:8080/"
        },
        "id": "WHyRERbXnuXx",
        "outputId": "b6da00c1-ef4d-4159-8ed1-a38a0bb2224a"
      },
      "execution_count": null,
      "outputs": [
        {
          "output_type": "execute_result",
          "data": {
            "text/plain": [
              "0.5858585858585859"
            ]
          },
          "metadata": {},
          "execution_count": 71
        }
      ]
    },
    {
      "cell_type": "code",
      "source": [
        "f1_score(y_test, predicted_labels, average='weighted')"
      ],
      "metadata": {
        "colab": {
          "base_uri": "https://localhost:8080/"
        },
        "id": "xI2G87z1nxJW",
        "outputId": "234522af-9c4a-4438-d131-75ae1d36e02d"
      },
      "execution_count": null,
      "outputs": [
        {
          "output_type": "execute_result",
          "data": {
            "text/plain": [
              "0.5791423629319709"
            ]
          },
          "metadata": {},
          "execution_count": 72
        }
      ]
    },
    {
      "cell_type": "code",
      "source": [
        "skplt.metrics.plot_roc(y_test, predicted_probas)"
      ],
      "metadata": {
        "colab": {
          "base_uri": "https://localhost:8080/",
          "height": 310
        },
        "id": "sLwY50stn0Mf",
        "outputId": "d459cd34-1db3-45dd-ea85-a828c8c081c8"
      },
      "execution_count": null,
      "outputs": [
        {
          "output_type": "execute_result",
          "data": {
            "text/plain": [
              "<matplotlib.axes._subplots.AxesSubplot at 0x7fc0bc8b51f0>"
            ]
          },
          "metadata": {},
          "execution_count": 73
        },
        {
          "output_type": "display_data",
          "data": {
            "text/plain": [
              "<Figure size 432x288 with 1 Axes>"
            ],
            "image/png": "[encoded data removed]"
          },
          "metadata": {
            "needs_background": "light"
          }
        }
      ]
    },
    {
      "cell_type": "markdown",
      "source": [
        "Качество решающего дерева получилось ниже, чем логистической регрессии."
      ],
      "metadata": {
        "id": "psDLZdzhvoi1"
      }
    },
    {
      "cell_type": "markdown",
      "metadata": {
        "nbgrader": {
          "grade": false,
          "grade_id": "cell-9eadd4d8a03ae67a",
          "locked": true,
          "schema_version": 2,
          "solution": false
        },
        "id": "DHMRlH4WSp95"
      },
      "source": [
        "#### 2.6. Bagging.\n",
        "Here starts the ensembling part.\n",
        "\n",
        "First we will use the __Bagging__ approach. Build an ensemble of $N$ algorithms varying N from $N_{min}=2$ to $N_{max}=100$ (with step 5).\n",
        "\n",
        "We will build two ensembles: of logistic regressions and of decision trees.\n",
        "\n",
        "*Comment: each ensemble should be constructed from models of the same family, so logistic regressions should not be mixed up with decision trees.*\n",
        "\n",
        "\n",
        "*Hint 1: To build a __Bagging__ ensebmle varying the ensemble size efficiently you might generate $N_{max}$ subsets of `train` data (of the same size as the original dataset) using bootstrap procedure once. Then you train a new instance of logistic regression/decision tree with optimal hyperparameters you estimated before on each subset (so you train it from scratch). Finally, to get an ensemble of $N$ models you average the $N$ out of $N_{max}$ models predictions.*\n",
        "\n",
        "*Hint 2: sklearn might help you with this taks. Some appropriate function/class might be out there.*\n",
        "\n",
        "* Plot `f1` and `accuracy` scores plots w.r.t. the size of the ensemble.\n",
        "\n",
        "* Briefly analyse the plot. What is the optimal number of algorithms? Explain your answer.\n",
        "\n",
        "* How do you think, are the hyperparameters for the decision trees you found in 2.5 optimal for trees used in ensemble? "
      ]
    },
    {
      "cell_type": "code",
      "source": [
        "accuracy_lr = []\n",
        "f1_lr = []\n",
        "for algs in np.arange(2, 100, 5):\n",
        "  clf = BaggingClassifier(base_estimator=LogisticRegression(**logreg_cv.best_params_, \n",
        "                                                       multi_class='multinomial', \n",
        "                                                       solver='saga', tol=1e-3, \n",
        "                                                       max_iter=500), \n",
        "                          n_estimators=algs, bootstrap=True, random_state=0).fit(x_train_pca, y_train)\n",
        "  preds = clf.predict(x_test_pca)\n",
        "  accuracy_lr.append(accuracy_score(y_test, preds))\n",
        "  f1_lr.append(f1_score(y_test, preds, average='weighted'))"
      ],
      "metadata": {
        "id": "JdLvI0UZ59ZA"
      },
      "execution_count": null,
      "outputs": []
    },
    {
      "cell_type": "code",
      "source": [
        "fig, ax = plt.subplots(nrows=2, ncols=1, figsize=(10,10))\n",
        "\n",
        "ax[0].plot(np.arange(2, 100, 5), accuracy_lr)\n",
        "ax[0].grid()\n",
        "ax[1].plot(np.arange(2, 100, 5), f1_lr)\n",
        "ax[1].grid()"
      ],
      "metadata": {
        "colab": {
          "base_uri": "https://localhost:8080/",
          "height": 591
        },
        "id": "p9q7enb_7ON4",
        "outputId": "87f99afa-19b7-4665-abbe-89aaa9b01f94"
      },
      "execution_count": null,
      "outputs": [
        {
          "output_type": "display_data",
          "data": {
            "text/plain": [
              "<Figure size 720x720 with 2 Axes>"
            ],
            "image/png": "[encoded data removed]"
          },
          "metadata": {
            "needs_background": "light"
          }
        }
      ]
    },
    {
      "cell_type": "markdown",
      "source": [
        "Судя по полученным графикам, наилучший результат мы получили при использовании Bagging с 6-ью логистическими регрессиями. "
      ],
      "metadata": {
        "id": "0RIDTWxrxU_v"
      }
    },
    {
      "cell_type": "code",
      "execution_count": null,
      "metadata": {
        "id": "9p1-s6fESp96"
      },
      "outputs": [],
      "source": [
        "accuracy_dt = []\n",
        "f1_dt = []\n",
        "for algs in np.arange(2, 100, 5):\n",
        "  clf = BaggingClassifier(base_estimator=DecisionTreeClassifier(**tree_cv.best_params_), \n",
        "                          n_estimators=algs, bootstrap=True, random_state=0).fit(x_train_pca, y_train)\n",
        "  preds = clf.predict(x_test_pca)\n",
        "  accuracy_dt.append(accuracy_score(y_test, preds))\n",
        "  f1_dt.append(f1_score(y_test, preds, average='weighted'))"
      ]
    },
    {
      "cell_type": "code",
      "source": [
        "fig, ax = plt.subplots(nrows=2, ncols=1, figsize=(10,10))\n",
        "\n",
        "ax[0].plot(np.arange(2, 100, 5), accuracy_dt)\n",
        "ax[0].grid()\n",
        "ax[1].plot(np.arange(2, 100, 5), f1_dt)\n",
        "ax[1].grid()"
      ],
      "metadata": {
        "colab": {
          "base_uri": "https://localhost:8080/",
          "height": 591
        },
        "id": "hzRp0Qjq7acK",
        "outputId": "1b290ee1-307a-47e2-cf91-b15dd4e4dd96"
      },
      "execution_count": null,
      "outputs": [
        {
          "output_type": "display_data",
          "data": {
            "text/plain": [
              "<Figure size 720x720 with 2 Axes>"
            ],
            "image/png": "[encoded data removed]"
          },
          "metadata": {
            "needs_background": "light"
          }
        }
      ]
    },
    {
      "cell_type": "markdown",
      "source": [
        "В случае решающих деревьев, наилучший результат получается при использовании 76 деревьев. При этом возможно, что лучшие параметры, которые были получены при оценке одного решающего дерева не будут являться лучшими для Bagging'а. Так, при оценке одного решающенго дерева мы получили достаточно глубокое дерево, глубиной 8. При Bagging, возможно, что оптимальнее использовать менее глубокие деревья."
      ],
      "metadata": {
        "id": "o7MfMkuEyins"
      }
    },
    {
      "cell_type": "markdown",
      "metadata": {
        "nbgrader": {
          "grade": false,
          "grade_id": "cell-241b7691ab44cbfb",
          "locked": true,
          "schema_version": 2,
          "solution": false
        },
        "id": "cUHWgD2KSp96"
      },
      "source": [
        "#### 2.7. Random Forest\n",
        "Now we will work with the Random Forest (its `sklearn` implementation).\n",
        "\n",
        "* * Plot `f1` and `accuracy` scores plots w.r.t. the number of trees in Random Forest.\n",
        "\n",
        "* What is the optimal number of trees you've got? Is it different from the optimal number of logistic regressions/decision trees in 2.6? Explain the results briefly."
      ]
    },
    {
      "cell_type": "code",
      "source": [
        "accuracy_rf = []\n",
        "f1_rf = []\n",
        "for trees in np.arange(2, 100, 5):\n",
        "  clf = RandomForestClassifier(n_estimators=trees, **tree_cv.best_params_).fit(x_train_pca, y_train)\n",
        "  preds = clf.predict(x_test_pca)\n",
        "  accuracy_rf.append(accuracy_score(y_test, preds))\n",
        "  f1_rf.append(f1_score(y_test, preds, average='weighted'))"
      ],
      "metadata": {
        "id": "I9dT7NYs8bfe"
      },
      "execution_count": null,
      "outputs": []
    },
    {
      "cell_type": "code",
      "source": [
        "fig, ax = plt.subplots(nrows=2, ncols=1, figsize=(10,10))\n",
        "\n",
        "ax[0].plot(np.arange(2, 100, 5), accuracy_rf)\n",
        "ax[0].grid()\n",
        "ax[1].plot(np.arange(2, 100, 5), f1_rf)\n",
        "ax[1].grid()"
      ],
      "metadata": {
        "colab": {
          "base_uri": "https://localhost:8080/",
          "height": 591
        },
        "id": "ZGFiND0O9J2-",
        "outputId": "394681d9-467c-4c89-97b5-f947cf4e7584"
      },
      "execution_count": null,
      "outputs": [
        {
          "output_type": "display_data",
          "data": {
            "text/plain": [
              "<Figure size 720x720 with 2 Axes>"
            ],
            "image/png": "[encoded data removed]"
          },
          "metadata": {
            "needs_background": "light"
          }
        }
      ]
    },
    {
      "cell_type": "markdown",
      "source": [
        "Мы получили примерно равные показатели метрик при использовании 21 и 86 деревьев в Random Forest. Это число отлично от числа алгоритмов, которые показали наилучшие результаты при Bagging'е. И при этом значения метрик выше, чем те, которые были получены при Bagging'е."
      ],
      "metadata": {
        "id": "-74Z4jfACRLV"
      }
    },
    {
      "cell_type": "markdown",
      "metadata": {
        "nbgrader": {
          "grade": false,
          "grade_id": "cell-99191c0852538d4d",
          "locked": true,
          "schema_version": 2,
          "solution": false
        },
        "id": "IxunCAzQSp97"
      },
      "source": [
        "#### 2.8. Learning curve\n",
        "Your goal is to estimate, how does the model behaviour change with the increase of the `train` dataset size.\n",
        "\n",
        "* Split the training data into 10 equal (almost) parts. Then train the models from above (Logistic regression, Desicion Tree, Random Forest) with optimal hyperparameters you have selected on 1 part, 2 parts (combined, so the train size in increased by 2 times), 3 parts and so on.\n",
        "\n",
        "* Build a plot of `accuracy` and `f1` scores on `test` part, varying the `train` dataset size (so the axes will be score - dataset size.\n",
        "\n",
        "* Analyse the final plot. Can you make any conlusions using it? "
      ]
    },
    {
      "cell_type": "code",
      "source": [
        "skf = StratifiedKFold(n_splits=10)\n",
        "train_data_splits = skf.split(x_train_pca, y_train)\n",
        "\n",
        "split_indicies = [[]]*10\n",
        "for i, (train_index, test_index) in enumerate(train_data_splits):\n",
        "  split_indicies[i] = split_indicies[i-1] + list(train_index) + list(test_index)\n"
      ],
      "metadata": {
        "id": "bbScOINrxe_0"
      },
      "execution_count": null,
      "outputs": []
    },
    {
      "cell_type": "code",
      "source": [
        "accuracy_lr_inc = []\n",
        "f1_lr_inc = []\n",
        "for inds in split_indicies:\n",
        "  clf = LogisticRegression(**logreg_cv.best_params_, \n",
        "                           multi_class='multinomial', solver='saga', tol=1e-3, \n",
        "                           max_iter=500).fit(x_train_pca[inds], y_train[inds])\n",
        "  preds = clf.predict(x_test_pca)\n",
        "  accuracy_lr_inc.append(accuracy_score(y_test, preds))\n",
        "  f1_lr_inc.append(f1_score(y_test, preds, average='weighted'))"
      ],
      "metadata": {
        "id": "h6BcD81sy06R"
      },
      "execution_count": null,
      "outputs": []
    },
    {
      "cell_type": "code",
      "source": [
        "fig, ax = plt.subplots(nrows=2, ncols=1, figsize=(10,10))\n",
        "\n",
        "ax[0].plot(np.arange(1, len(split_indicies)+1, 1), accuracy_lr_inc)\n",
        "ax[0].grid()\n",
        "ax[1].plot(np.arange(1, len(split_indicies)+1, 1), f1_lr_inc)\n",
        "ax[1].grid()"
      ],
      "metadata": {
        "colab": {
          "base_uri": "https://localhost:8080/",
          "height": 591
        },
        "id": "rCU7Qm4v0J2C",
        "outputId": "f25533d1-e44e-4f0b-b52f-d94a795154cd"
      },
      "execution_count": null,
      "outputs": [
        {
          "output_type": "display_data",
          "data": {
            "text/plain": [
              "<Figure size 720x720 with 2 Axes>"
            ],
            "image/png": "[encoded data removed]"
          },
          "metadata": {
            "needs_background": "light"
          }
        }
      ]
    },
    {
      "cell_type": "code",
      "source": [
        "accuracy_dt_inc = []\n",
        "f1_dt_inc = []\n",
        "for inds in split_indicies:\n",
        "  clf = DecisionTreeClassifier(**tree_cv.best_params_).fit(x_train_pca[inds], y_train[inds])\n",
        "  preds = clf.predict(x_test_pca)\n",
        "  accuracy_dt_inc.append(accuracy_score(y_test, preds))\n",
        "  f1_dt_inc.append(f1_score(y_test, preds, average='weighted'))"
      ],
      "metadata": {
        "id": "M1z22aX_8a6a"
      },
      "execution_count": null,
      "outputs": []
    },
    {
      "cell_type": "code",
      "source": [
        "fig, ax = plt.subplots(nrows=2, ncols=1, figsize=(10,10))\n",
        "\n",
        "ax[0].plot(np.arange(1, len(split_indicies)+1, 1), accuracy_dt_inc)\n",
        "ax[0].grid()\n",
        "ax[1].plot(np.arange(1, len(split_indicies)+1, 1), f1_dt_inc)\n",
        "ax[1].grid()"
      ],
      "metadata": {
        "colab": {
          "base_uri": "https://localhost:8080/",
          "height": 591
        },
        "id": "YEqb0CvL9Z7I",
        "outputId": "a2d8f156-14a0-4661-98f7-83534f73707e"
      },
      "execution_count": null,
      "outputs": [
        {
          "output_type": "display_data",
          "data": {
            "text/plain": [
              "<Figure size 720x720 with 2 Axes>"
            ],
            "image/png": "[encoded data removed]"
          },
          "metadata": {
            "needs_background": "light"
          }
        }
      ]
    },
    {
      "cell_type": "code",
      "source": [
        "accuracy_rf_inc = []\n",
        "f1_rf_inc = []\n",
        "for inds in split_indicies:\n",
        "  clf = RandomForestClassifier(n_estimators=trees, **tree_cv.best_params_).fit(x_train_pca[inds], y_train[inds])\n",
        "  preds = clf.predict(x_test_pca)\n",
        "  accuracy_rf_inc.append(accuracy_score(y_test, preds))\n",
        "  f1_rf_inc.append(f1_score(y_test, preds, average='weighted'))"
      ],
      "metadata": {
        "id": "oJXFahzJ9hLG"
      },
      "execution_count": null,
      "outputs": []
    },
    {
      "cell_type": "code",
      "source": [
        "fig, ax = plt.subplots(nrows=2, ncols=1, figsize=(10,10))\n",
        "\n",
        "ax[0].plot(np.arange(1, len(split_indicies)+1, 1), accuracy_rf_inc)\n",
        "ax[0].grid()\n",
        "ax[1].plot(np.arange(1, len(split_indicies)+1, 1), f1_rf_inc)\n",
        "ax[1].grid()"
      ],
      "metadata": {
        "colab": {
          "base_uri": "https://localhost:8080/",
          "height": 591
        },
        "id": "ASzoEegQ-LYy",
        "outputId": "3652bd14-2160-4536-d86f-9af51d98dbb9"
      },
      "execution_count": null,
      "outputs": [
        {
          "output_type": "display_data",
          "data": {
            "text/plain": [
              "<Figure size 720x720 with 2 Axes>"
            ],
            "image/png": "[encoded data removed]"
          },
          "metadata": {
            "needs_background": "light"
          }
        }
      ]
    },
    {
      "cell_type": "markdown",
      "source": [
        "Можем заметить, что, например, логистическая регрессия показывает хорошие метрики на 60% данных. В целом, порядок accuracy, которую можно получить, применяя тот или иной алгоритм можно оценить и на части данных. Это можно использовать при работе с большими датасетами, чтобы не обучать несколько моделей на всех данных, а провести отбор моделей на небольшой выборке."
      ],
      "metadata": {
        "id": "8n_aK88rDIpQ"
      }
    }
  ],
  "metadata": {
    "celltoolbar": "Create Assignment",
    "kernelspec": {
      "display_name": "Py3 Research",
      "language": "python",
      "name": "py3_research_kernel"
    },
    "language_info": {
      "codemirror_mode": {
        "name": "ipython",
        "version": 3
      },
      "file_extension": ".py",
      "mimetype": "text/x-python",
      "name": "python",
      "nbconvert_exporter": "python",
      "pygments_lexer": "ipython3",
      "version": "3.9.7"
    },
    "toc": {
      "base_numbering": 1,
      "nav_menu": {},
      "number_sections": false,
      "sideBar": true,
      "skip_h1_title": false,
      "title_cell": "Table of Contents",
      "title_sidebar": "Contents",
      "toc_cell": false,
      "toc_position": {},
      "toc_section_display": true,
      "toc_window_display": false
    },
    "colab": {
      "provenance": []
    }
  },
  "nbformat": 4,
  "nbformat_minor": 0
}